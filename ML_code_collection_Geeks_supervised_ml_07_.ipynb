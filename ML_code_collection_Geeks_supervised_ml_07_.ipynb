{
  "nbformat": 4,
  "nbformat_minor": 0,
  "metadata": {
    "colab": {
      "provenance": [],
      "authorship_tag": "ABX9TyN07bpnJ3adrxK/McrbZfNz",
      "include_colab_link": true
    },
    "kernelspec": {
      "name": "python3",
      "display_name": "Python 3"
    },
    "language_info": {
      "name": "python"
    }
  },
  "cells": [
    {
      "cell_type": "markdown",
      "metadata": {
        "id": "view-in-github",
        "colab_type": "text"
      },
      "source": [
        "<a href=\"https://colab.research.google.com/github/Amarsinh0/MY-NOTES/blob/main/ML_code_collection_Geeks_supervised_ml_07_.ipynb\" target=\"_parent\"><img src=\"https://colab.research.google.com/assets/colab-badge.svg\" alt=\"Open In Colab\"/></a>"
      ]
    },
    {
      "cell_type": "markdown",
      "source": [
        "Code Readability: Reading code from left to right is generally more readable and intuitive. It allows you to follow the code's logical flow and understand the intent of the programmer. It also aligns with Python's standard left-to-right execution model.\n",
        "\n",
        "Here's an example to illustrate the importance of reading dot series code from left to right:\n",
        "\n",
        "python\n",
        "Copy code\n",
        "result = my_object.do_something().do_another_thing().get_value()\n",
        "Reading this code from left to right:\n",
        "\n",
        "my_object: Refers to an object on which methods are being called.\n",
        "do_something(): Invokes the do_something() method on my_object.\n",
        "do_another_thing(): Invokes the do_another_thing() method on the result of do_something().\n",
        "get_value(): Invokes the get_value() method on the result of do_another_thing().\n",
        "By reading from left to right, you can follow the sequence of method calls and understand that each subsequent method operates on the result of the previous one. This approach ensures the code's meaning and allows you to interpret it correctly.\n",
        "\n",
        "In summary, whether you're working with dot series code or other types of Python code, reading from left to right is the appropriate and meaningful way to understand and interpret the code's intent, logical flow, and execution order.\n",
        "\n",
        "\n",
        "-------------------------------------------------------------\n",
        "\n",
        "\n",
        "result = my_object.do_something().do_another_thing().get_value()\n",
        "\n",
        "\n",
        "-----------------------------------------------------\n",
        "\n",
        "Remember, when working with dot series code, reading from left to right is crucial for understanding the object hierarchy, purpose of method or attribute access, and the overall logical flow of the code. This approach enables you to interpret and utilize the code effectively and confidently.\n",
        "\n",
        "-------------------\n",
        "\n",
        "Reading this code from left to right:\n",
        "\n",
        "my_object: Refers to an object on which methods are being called.\n",
        "do_something(): Invokes the do_something() method on my_object.\n",
        "do_another_thing(): Invokes the do_another_thing() method on the result of do_something().\n",
        "get_value(): Invokes the get_value() method on the result of do_another_thing().\n",
        "\n",
        "\n"
      ],
      "metadata": {
        "id": "rZgeuE6RDIB-"
      }
    },
    {
      "cell_type": "code",
      "source": [
        "person = database.get_user(user_id).filter_active().get_profile().name\n",
        "\n"
      ],
      "metadata": {
        "id": "KqQjhVfGDWx8"
      },
      "execution_count": null,
      "outputs": []
    },
    {
      "cell_type": "markdown",
      "source": [
        "Reading this code from left to right:\n",
        "\n",
        "database: Refers to a database object.\n",
        "get_user(user_id): Invokes the get_user() method on the database object, passing the user_id argument.\n",
        "filter_active(): Invokes the filter_active() method on the result of get_user(), presumably filtering active users.\n",
        "get_profile(): Invokes the get_profile() method on the result of filter_active(), retrieving the user's profile information.\n",
        "name: Accesses the name attribute of the result of get_profile(), which represents the user's name.\n",
        "\n",
        "\n",
        " Get the user from the database based on the provided user_id.\n",
        "Filter the retrieved user to ensure they are active.\n",
        "Retrieve the user's profile information.\n",
        "Access the name attribute of the user's profile.\n",
        "\n",
        "Reading the code in this manner helps you follow the intended flow and understand how each subsequent method call depends on the previous one. It ensures that you correctly interpret the code's meaning and access the desired data.\n",
        "\n",
        "\n",
        "\n"
      ],
      "metadata": {
        "id": "F22XlSHuD15P"
      }
    },
    {
      "cell_type": "markdown",
      "source": [
        "\n",
        "# **dot (.) operator:**\n",
        "\n",
        "\n",
        "Understanding how to use the dot (.) operator properly is crucial for interacting with objects in Python. Here are some key guidelines to follow when using the dot in your code:\n",
        "\n",
        "Object Reference: The dot is used to access methods and attributes of an object. It connects the object's name to the desired method or attribute.\n",
        "\n",
        "Syntax: The syntax for using the dot is object_name.method_name() to invoke a method or object_name.attribute_name to access an attribute.\n",
        "\n",
        "\n",
        "-------------------------\n",
        "Certainly! Here are examples and explanations of using the dot (.) to access methods and attributes of objects in Python:\n",
        "\n",
        "Example 1: Accessing a Method\n",
        "\n",
        "```python\n",
        "my_list = [1, 2, 3, 4]\n",
        "length = my_list.append(5)\n",
        "print(length)\n",
        "```\n",
        "\n",
        "Explanation:\n",
        "- Purpose: The dot (.) is used to access the `append()` method of the `my_list` object.\n",
        "- Use: The `append()` method adds an element to the end of the list.\n",
        "- How it works: By using the dot (.), we access the `append()` method of the `my_list` object and call it with the argument `5`. The method modifies the list by adding the value `5` to the end. The return value of `append()` is `None`, so the `length` variable will be assigned `None`. When we print `length`, it will output `None`.\n",
        "\n",
        "Example 2: Accessing an Attribute\n",
        "\n",
        "```python\n",
        "my_string = \"Hello, World!\"\n",
        "length = my_string.length\n",
        "print(length)\n",
        "```\n",
        "\n",
        "Explanation:\n",
        "- Purpose: The dot (.) is used to access the `length` attribute of the `my_string` object.\n",
        "- Use: The `length` attribute represents the length of the string.\n",
        "- How it works: By using the dot (.), we access the `length` attribute of the `my_string` object. However, in this example, there is a mistake. In Python, strings do not have a `length` attribute. Instead, you should use the `len()` function to get the length of a string. If we try to access a nonexistent attribute like this, it will raise an `AttributeError` at runtime.\n",
        "\n",
        "Example 3: Chaining Method Calls\n",
        "\n",
        "```python\n",
        "my_list = [1, 2, 3, 4]\n",
        "reversed_sorted_list = my_list.sort(reverse=True).reverse()\n",
        "print(reversed_sorted_list)\n",
        "```\n",
        "\n",
        "Explanation:\n",
        "- Purpose: The dot (.) is used to chain method calls together.\n",
        "- Use: Chaining methods allows us to perform multiple operations on an object in a single line.\n",
        "- How it works: In this example, we are sorting the `my_list` object in reverse order and then reversing it again. The first method call, `my_list.sort(reverse=True)`, sorts the list in reverse order. The second method call, `reverse()`, reverses the sorted list again. However, the `reverse()` method modifies the list in place and returns `None`. Therefore, the `reversed_sorted_list` variable will be assigned `None`. When we print `reversed_sorted_list`, it will output `None`.\n",
        "\n",
        "The dot (.) is a powerful operator in Python that allows you to access methods and attributes of objects. By using the dot, you can invoke methods to perform actions or retrieve information from objects. Similarly, you can access attributes to retrieve properties or data associated with objects. Understanding how to use the dot properly will help you interact with objects effectively and leverage their functionality in your code."
      ],
      "metadata": {
        "id": "iS2NE0loEwna"
      }
    },
    {
      "cell_type": "markdown",
      "source": [
        "Sure! Let's go through each symbol step by step and understand their purposes, correct usage, and when and why they are used in Python coding.\n",
        "\n",
        "1. : (Colon)\n",
        "   - Purpose: The colon is used in various contexts, such as function definitions, loops, and conditional statements, to indicate the start of a new code block.\n",
        "   - Correct Usage:\n",
        "     - Function Definitions:\n",
        "       ```python\n",
        "       def my_function():\n",
        "           # Function code block starts with a colon\n",
        "           # ...\n",
        "       ```\n",
        "     - Loops (for and while):\n",
        "       ```python\n",
        "       for item in my_list:\n",
        "           # Loop code block starts with a colon\n",
        "           # ...\n",
        "       ```\n",
        "     - Conditional Statements (if, elif, else):\n",
        "       ```python\n",
        "       if condition:\n",
        "           # Code block for if statement starts with a colon\n",
        "           # ...\n",
        "       elif condition:\n",
        "           # Code block for elif statement starts with a colon\n",
        "           # ...\n",
        "       else:\n",
        "           # Code block for else statement starts with a colon\n",
        "           # ...\n",
        "       ```\n",
        "\n",
        "2. , (Comma)\n",
        "   - Purpose: The comma is used to separate elements in lists, tuples, function arguments, and more.\n",
        "   - Correct Usage:\n",
        "     - List:\n",
        "       ```python\n",
        "       my_list = [1, 2, 3, 4]\n",
        "       ```\n",
        "     - Tuple:\n",
        "       ```python\n",
        "       my_tuple = (1, 2, 3, 4)\n",
        "       ```\n",
        "     - Function Arguments:\n",
        "       ```python\n",
        "       def my_function(arg1, arg2, arg3):\n",
        "           # ...\n",
        "       ```\n",
        "\n",
        "3. . (Dot)\n",
        "   - Purpose: The dot is used for accessing methods and attributes of objects.\n",
        "   - Correct Usage:\n",
        "     - Method Access:\n",
        "       ```python\n",
        "       my_list = [1, 2, 3, 4]\n",
        "       my_list.append(5)  # Use dot to access the append() method of the list object\n",
        "       ```\n",
        "     - Attribute Access:\n",
        "       ```python\n",
        "       my_string = \"Hello\"\n",
        "       length = my_string.length  # Use dot to access the length attribute of the string object\n",
        "       ```\n",
        "\n",
        "4. () (Parentheses)\n",
        "   - Purpose: Parentheses have multiple uses, such as enclosing function arguments, grouping expressions, and creating tuples.\n",
        "   - Correct Usage:\n",
        "     - Function Calls:\n",
        "       ```python\n",
        "       my_function(arg1, arg2)  # Parentheses used to enclose function arguments\n",
        "       ```\n",
        "     - Grouping Expressions:\n",
        "       ```python\n",
        "       result = (5 + 3) * 2  # Parentheses used to group the addition operation\n",
        "       ```\n",
        "     - Tuple Creation:\n",
        "       ```python\n",
        "       my_tuple = (1, 2, 3, 4)  # Parentheses used to create a tuple\n",
        "       ```\n",
        "\n",
        "5. [] (Square brackets)\n",
        "   - Purpose: Square brackets are used for list creation, indexing, and slicing.\n",
        "   - Correct Usage:\n",
        "     - List Creation:\n",
        "       ```python\n",
        "       my_list = [1, 2, 3, 4]  # Square brackets used to create a list\n",
        "       ```\n",
        "     - Indexing:\n",
        "       ```python\n",
        "       my_list = [1, 2, 3, 4]\n",
        "       value = my_list[0]  # Square brackets used to access the element at index 0\n",
        "       ```\n",
        "     - Slicing:\n",
        "       ```python\n",
        "       my_list = [1, 2, 3, 4]\n",
        "       sublist = my_list[1:3]  # Square brackets used for slicing a sublist from index 1 to 2\n",
        "       ```\n",
        "\n",
        "6. {} (Curly brackets)\n",
        "   - Purpose: Curly brackets are used for dictionary creation and sets.\n",
        "   - Correct Usage:\n",
        "     - Dictionary Creation:\n",
        "       ```python\n",
        "       my_dict = {\"key1\": value1, \"key2\": value2}  # Curly brackets used to create a dictionary\n",
        "       ```\n",
        "     - Set:\n",
        "       ```python\n",
        "       my_set = {1, 2, 3, 4}  # Curly brackets used to create a set\n",
        "       ```\n",
        "\n",
        "Understanding the purposes and correct usage of these symbols will enable you to write Python code effectively and efficiently. As you gain experience, you will become more comfortable using these symbols and develop your own logic to write new codes easily. Remember to consult Python documentation and examples to further enhance your understanding and proficiency in Python programming."
      ],
      "metadata": {
        "id": "MJ_zNNkYFfqo"
      }
    },
    {
      "cell_type": "code",
      "source": [
        "# Importing the required libraries\n",
        "import numpy as np\n",
        "import pandas as pd\n",
        "from sklearn.model_selection import train_test_split\n",
        "from sklearn.metrics import accuracy_score\n",
        "from sklearn import datasets\n",
        "from sklearn import svm\n",
        "from sklearn.tree import DecisionTreeClassifier\n",
        "from sklearn.naive_bayes import GaussianNB\n",
        "\n",
        "# import the iris dataset\n",
        "iris = datasets.load_iris()\n",
        "X = iris.data\n",
        "y = iris.target\n",
        "\n",
        "# splitting X and y into training and testing sets\n",
        "X_train, X_test, y_train, y_test = train_test_split(\n",
        "\tX, y, test_size=0.3, random_state=1)\n",
        "\n",
        "\n",
        "\n",
        "# GAUSSIAN NAIVE BAYES\n",
        "\n",
        "gnb = GaussianNB()\n",
        "# train the model\n",
        "gnb.fit(X_train, y_train)\n",
        "# make predictions\n",
        "gnb_pred = gnb.predict(X_test)\n",
        "# print the accuracy\n",
        "print(\"Accuracy of Gaussian Naive Bayes: \",\n",
        "\taccuracy_score(y_test, gnb_pred))\n",
        "\n",
        "\n",
        "\n",
        "# DECISION TREE CLASSIFIER\n",
        "\n",
        "dt = DecisionTreeClassifier(random_state=0)\n",
        "# train the model\n",
        "dt.fit(X_train, y_train)\n",
        "# make predictions\n",
        "dt_pred = dt.predict(X_test)\n",
        "# print the accuracy\n",
        "print(\"Accuracy of Decision Tree Classifier: \",\n",
        "\taccuracy_score(y_test, dt_pred))\n",
        "\n",
        "\n",
        "\n",
        "# SUPPORT VECTOR MACHINE\n",
        "\n",
        "svm_clf = svm.SVC(kernel='linear') # Linear Kernel\n",
        "# train the model\n",
        "svm_clf.fit(X_train, y_train)\n",
        "# make predictions\n",
        "svm_clf_pred = svm_clf.predict(X_test)\n",
        "# print the accuracy\n",
        "print(\"Accuracy of Support Vector Machine: \",\n",
        "\taccuracy_score(y_test, svm_clf_pred))\n",
        "\n",
        "\n",
        "# training a KNN classifier\n",
        "\n",
        "from sklearn.neighbors import KNeighborsClassifier\n",
        "knn = KNeighborsClassifier(n_neighbors = 7).fit(X_train, y_train)\n",
        "\n",
        "# accuracy on X_test\n",
        "accuracy = knn.score(X_test, y_test)\n",
        "print accuracy\n",
        "\n",
        "\n",
        "# creating a confusion matrix\n",
        "knn_predictions = knn.predict(X_test)\n",
        "cm = confusion_matrix(y_test, knn_predictions)\n",
        "\n",
        "\n",
        "\n",
        "Output:\n",
        "\n",
        "Accuracy of Gaussian Naive Bayes:  0.9333333333333333\n",
        "Accuracy of Decision Tree Classifier:  0.9555555555555556\n",
        "Accuracy of Support Vector Machine:  1.0\n"
      ],
      "metadata": {
        "id": "WWeI14AIF2dK"
      },
      "execution_count": null,
      "outputs": []
    },
    {
      "cell_type": "markdown",
      "source": [
        "The provided code snippet demonstrates the training and evaluation of several classifiers: Gaussian Naive Bayes, Decision Tree Classifier, Support Vector Machine (SVM), and K-Nearest Neighbors (KNN). Here's an explanation of each part of the code and its purpose:\n",
        "\n",
        "1. Gaussian Naive Bayes:\n",
        "   - An instance of the `GaussianNB` class is created and assigned to the variable `gnb`.\n",
        "   - The `fit` method is called on `gnb` to train the model using the training data (`X_train` and `y_train`).\n",
        "   - The `predict` method is used on `gnb` to make predictions on the test data (`X_test`), and the predicted labels are stored in `gnb_pred`.\n",
        "   - The accuracy of the Gaussian Naive Bayes classifier is calculated using the `accuracy_score` function, comparing the predicted labels (`gnb_pred`) with the actual labels (`y_test`).\n",
        "   - The accuracy score is printed as \"Accuracy of Gaussian Naive Bayes\".\n",
        "\n",
        "2. Decision Tree Classifier:\n",
        "   - An instance of the `DecisionTreeClassifier` class is created and assigned to the variable `dt`.\n",
        "   - The `fit` method is called on `dt` to train the model using the training data.\n",
        "   - The `predict` method is used on `dt` to make predictions on the test data, and the predicted labels are stored in `dt_pred`.\n",
        "   - The accuracy of the Decision Tree Classifier is calculated using the `accuracy_score` function, comparing the predicted labels with the actual labels.\n",
        "   - The accuracy score is printed as \"Accuracy of Decision Tree Classifier\".\n",
        "\n",
        "3. Support Vector Machine (SVM):\n",
        "   - An instance of the `svm.SVC` class with a linear kernel is created and assigned to the variable `svm_clf`.\n",
        "   - The `fit` method is called on `svm_clf` to train the model using the training data.\n",
        "   - The `predict` method is used on `svm_clf` to make predictions on the test data, and the predicted labels are stored in `svm_clf_pred`.\n",
        "   - The accuracy of the Support Vector Machine classifier is calculated using the `accuracy_score` function, comparing the predicted labels with the actual labels.\n",
        "   - The accuracy score is printed as \"Accuracy of Support Vector Machine\".\n",
        "\n",
        "4. K-Nearest Neighbors (KNN):\n",
        "   - An instance of the `KNeighborsClassifier` class with `n_neighbors` set to 7 is created and assigned to the variable `knn`.\n",
        "   - The `fit` method is called on `knn` to train the model using the training data.\n",
        "   - The `score` method is used on `knn` to calculate the accuracy on the test data (`X_test` and `y_test`), and the accuracy value is stored in the variable `accuracy`.\n",
        "   - The accuracy is printed.\n",
        "\n",
        "5. Confusion Matrix:\n",
        "   - The `predict` method is used on `knn` to make predictions on the test data, and the predicted labels are stored in `knn_predictions`.\n",
        "   - The confusion matrix is calculated using the `confusion_matrix` function from scikit-learn, with the true labels (`y_test`) and predicted labels (`knn_predictions`) as inputs. The resulting confusion matrix is stored in the variable `cm`.\n",
        "\n",
        "The purpose of this code is to compare the accuracy of different classifiers on the given dataset. It trains and evaluates Gaussian Naive Bayes, Decision Tree Classifier, Support Vector Machine, and K-Nearest Neighbors models. The accuracy score is a common metric used to assess the performance of classification models, indicating the proportion of correctly predicted labels. Additionally, the confusion matrix provides insights into the model's performance by showing the counts of true positives, true negatives, false positives, and false negatives.\n",
        "\n",
        "When and Where to Use:\n",
        "\n",
        "Use this code when you want to compare the performance of different classifiers on a given dataset.\n",
        "It is commonly used in machine learning tasks to select the most suitable classifier for a specific problem.\n",
        "This code can be used after the data preprocessing and splitting steps, as it assumes the availability of separate training and test datasets.\n",
        "Result Summary:\n",
        "Executing this code will train the Gaussian Naive Bayes, Decision Tree Classifier, and SVM models on the given training data and make predictions on the test data. The accuracy scores of each classifier will be printed to the console. The accuracy score represents the proportion of correct predictions made by each classifier on the test data. This allows for a comparison of the performance of the different classifiers on the given dataset.\n",
        "\n",
        "\n",
        "\n",
        "\n",
        "\n"
      ],
      "metadata": {
        "id": "KrN9BTqbW8Af"
      }
    },
    {
      "cell_type": "markdown",
      "source": [
        "# **Kernel svm**"
      ],
      "metadata": {
        "id": "-zZyMeF3W-Vz"
      }
    },
    {
      "cell_type": "code",
      "source": [
        "from sklearn.svm import SVC\n",
        "classifier = SVC(kernel ='rbf', random_state = 0)\n",
        "# training set in x, y axis\n",
        "classifier.fit(x_train, y_train)\n"
      ],
      "metadata": {
        "id": "iaIhLAq5YDdU"
      },
      "execution_count": null,
      "outputs": []
    },
    {
      "cell_type": "markdown",
      "source": [
        "The code you provided demonstrates the training of a Support Vector Machine (SVM) classifier with a radial basis function (RBF) kernel using the `SVC` class from the `sklearn.svm` module.\n",
        "\n",
        "Let's break down the code and discuss its purpose, when and where to use it, and summarize the expected result:\n",
        "\n",
        "\n",
        "\n",
        "\n",
        "The code performs the following steps:\n",
        "\n",
        "1. Import the `SVC` class from the `sklearn.svm` module.\n",
        "2. Create an instance of the `SVC` classifier with a radial basis function (RBF) kernel. The `kernel='rbf'` parameter specifies the RBF kernel, which is commonly used for non-linear classification problems.\n",
        "3. Use the `fit` method of the classifier to train the model using the training data (`x_train` and `y_train`).\n",
        "\n",
        "The purpose of this code is to train an SVM classifier with an RBF kernel on the given training data.\n",
        "\n",
        "When and Where to Use:\n",
        "- Use this code when you want to train an SVM classifier with an RBF kernel on a given dataset.\n",
        "- SVMs are effective for both linear and non-linear classification problems, and the RBF kernel is commonly used for non-linear problems.\n",
        "- This code can be used in various machine learning tasks, such as binary or multi-class classification, depending on the nature of the problem and the data.\n",
        "\n",
        "Result Summary:\n",
        "Executing this code will create an instance of the SVM classifier with an RBF kernel. It will then train the classifier using the provided training data (`x_train` and `y_train`). The resulting `classifier` object will be ready for making predictions on new unseen data."
      ],
      "metadata": {
        "id": "tMezzphbYOdT"
      }
    },
    {
      "cell_type": "code",
      "source": [
        "# sigmoid svm\n",
        "\n",
        "from sklearn.svm import SVC\n",
        "classifier = SVC(kernel ='sigmoid')\n",
        "classifier.fit(x_train, y_train) # training set in x, y axis\n"
      ],
      "metadata": {
        "id": "wmG3e0T_YPCS"
      },
      "execution_count": null,
      "outputs": []
    },
    {
      "cell_type": "markdown",
      "source": [
        "\n",
        "The code snippets you provided demonstrate the training of Support Vector Machine (SVM) classifiers with different kernels using the SVC class from the sklearn.svm module.\n",
        "\n",
        "Let's break down each code snippet and discuss its purpose, when and where to use it, and summarize the expected result:\n",
        "\n",
        "Code Snippet 1:\n",
        "\n",
        "python\n",
        "Copy code\n",
        "classifier = SVC(kernel='sigmoid')\n",
        "This code creates an instance of the SVC classifier with the sigmoid kernel.\n",
        "The sigmoid kernel is a non-linear kernel function commonly used for binary classification problems.\n",
        "The default parameters for other settings such as regularization and degree are used."
      ],
      "metadata": {
        "id": "BV13eekpZO7r"
      }
    },
    {
      "cell_type": "code",
      "source": [
        "# polynomial svm\n",
        "\n",
        "from sklearn.svm import SVC\n",
        "classifier = SVC(kernel ='poly', degree = 4)\n",
        "classifier.fit(x_train, y_train) # training set in x, y axis\n"
      ],
      "metadata": {
        "id": "6WaZIjRkYWoS"
      },
      "execution_count": null,
      "outputs": []
    },
    {
      "cell_type": "markdown",
      "source": [
        "This code creates an instance of the SVC classifier with the polynomial kernel of degree 4.\n",
        "The polynomial kernel is a non-linear kernel function that can capture complex patterns in the data.\n",
        "The degree parameter specifies the degree of the polynomial kernel, determining the complexity of the decision boundary.\n",
        "Code Snippet 3:"
      ],
      "metadata": {
        "id": "QA2QGNkCZdYL"
      }
    },
    {
      "cell_type": "code",
      "source": [
        "# linear svm\n",
        "\n",
        "from sklearn.svm import SVC\n",
        "classifier = SVC(kernel ='linear')\n",
        "classifier.fit(x_train, y_train) # training set in x, y axis\n"
      ],
      "metadata": {
        "id": "2St6CIAKYf2q"
      },
      "execution_count": null,
      "outputs": []
    },
    {
      "cell_type": "markdown",
      "source": [
        "This code creates an instance of the SVC classifier with the linear kernel.\n",
        "The linear kernel is a linear kernel function that assumes the data can be separated by a straight line or hyperplane.\n",
        "The linear kernel is suitable for linearly separable datasets.\n",
        "The purpose of these code snippets is to create and configure SVM classifiers with different kernels for different classification scenarios."
      ],
      "metadata": {
        "id": "ioHxCGtEZk3P"
      }
    },
    {
      "cell_type": "markdown",
      "source": [
        "When and Where to Use:\n",
        "\n",
        "Use these code snippets when you want to train SVM classifiers with specific kernels on a given dataset.\n",
        "The choice of kernel depends on the problem at hand and the characteristics of the data.\n",
        "The sigmoid kernel is useful for binary classification problems, while the polynomial kernel is effective for capturing non-linear relationships. The linear kernel is suitable for linearly separable datasets.\n",
        "These code snippets can be used in various machine learning tasks, such as binary or multi-class classification, depending on the nature of the problem and the data.\n",
        "Result Summary:\n",
        "Executing each code snippet will create an instance of the SVM classifier with the specified kernel and respective settings. The classifiers will be ready for training using the appropriate training data. The resulting classifier objects can then be used to make predictions on new unseen data."
      ],
      "metadata": {
        "id": "2iDdRwSSZqIf"
      }
    },
    {
      "cell_type": "markdown",
      "source": [
        "# **Classification Tree algorithm for Classification**"
      ],
      "metadata": {
        "id": "Yn1oI8RVaJHA"
      }
    },
    {
      "cell_type": "code",
      "source": [
        "```python\n",
        "# Import the necessary libraries\n",
        "from sklearn.datasets import load_iris\n",
        "from sklearn.tree import DecisionTreeClassifier\n",
        "from sklearn.tree import export_graphviz\n",
        "from graphviz import Source\n",
        "\n",
        "# Load the dataset\n",
        "iris = load_iris()\n",
        "X = iris.data[:, 2:]  # petal length and width\n",
        "y = iris.target\n",
        "\n",
        "# DecisionTreeClassifier\n",
        "tree_clf = DecisionTreeClassifier(criterion='entropy', max_depth=2)\n",
        "tree_clf.fit(X, y)\n",
        "\n",
        "# Plot the decision tree graph\n",
        "export_graphviz(\n",
        "    tree_clf,\n",
        "    out_file=\"iris_tree.dot\",\n",
        "    feature_names=iris.feature_names[2:],\n",
        "    class_names=iris.target_names,\n",
        "    rounded=True,\n",
        "    filled=True\n",
        ")\n",
        "\n",
        "with open(\"iris_tree.dot\") as f:\n",
        "    dot_graph = f.read()\n",
        "\n",
        "Source(dot_graph)\n",
        "```"
      ],
      "metadata": {
        "id": "cOYWRSwlZkdF"
      },
      "execution_count": null,
      "outputs": []
    },
    {
      "cell_type": "markdown",
      "source": [
        "The code you provided demonstrates the construction and visualization of a decision tree classifier using the `DecisionTreeClassifier` class from the `sklearn.tree` module. The resulting decision tree graph is plotted using the `export_graphviz` function and visualized using the `graphviz` library.\n",
        "\n",
        "Let's break down the code and discuss its purpose, when and where to use it, and summarize the expected result:\n",
        "\n",
        "\n",
        "\n",
        "The code performs the following steps:\n",
        "\n",
        "1. Import the necessary libraries: `load_iris` from `sklearn.datasets`, `DecisionTreeClassifier` and `export_graphviz` from `sklearn.tree`, and `Source` from `graphviz`.\n",
        "2. Load the Iris dataset using `load_iris()` and assign the petal length and width features to `X` and the target variable to `y`.\n",
        "3. Create an instance of the `DecisionTreeClassifier` class with the criterion set to 'entropy' and the maximum depth set to 2. This defines the decision tree classifier and its hyperparameters.\n",
        "4. Fit the decision tree classifier to the data by calling the `fit` method with `X` and `y` as arguments.\n",
        "5. Use the `export_graphviz` function to export the decision tree as a Graphviz dot file named \"iris_tree.dot\". Specify the feature names, class names, and additional visualization options such as rounded nodes and filled colors.\n",
        "6. Open the dot file and read its contents into the `dot_graph` variable.\n",
        "7. Visualize the decision tree using the `Source` class from the `graphviz` library, which renders the dot file and displays the decision tree graph.\n",
        "\n",
        "The purpose of this code is to load the Iris dataset, train a decision tree classifier on the petal length and width features, and visualize the resulting decision tree graph.\n",
        "\n",
        "When and Where to Use:\n",
        "- Use this code when you want to train a decision tree classifier and visualize the resulting decision tree graph.\n",
        "- Decision trees are a popular choice for classification tasks, and the visualization helps in understanding the decision-making process of the classifier.\n",
        "- This code can be used for any classification problem where the data can be represented as features and target variables.\n",
        "\n",
        "Result Summary:\n",
        "Executing this code will train a decision tree classifier on the Iris dataset using the petal length and width features. It will then export the decision tree as a Graphviz dot file named \"iris_tree.dot\" and visualize the decision tree graph using the `Source` class from the `graphviz` library. The resulting decision tree graph will be displayed, providing insights into the classification rules and splits made by the decision tree.\n",
        "\n",
        "![image.png](data:image/png;base64,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)"
      ],
      "metadata": {
        "id": "13eMitTBavS3"
      }
    },
    {
      "cell_type": "markdown",
      "source": [
        "# Regression Tree algorithm**"
      ],
      "metadata": {
        "id": "eCIeIXoSbEOX"
      }
    },
    {
      "cell_type": "code",
      "source": [
        "\n",
        "\n",
        "# Load the dataset\n",
        "diabetes = load_diabetes()\n",
        "X = diabetes.data\n",
        "y = diabetes.target\n",
        "\n",
        "# DecisionTreeRegressor\n",
        "tree_reg = DecisionTreeRegressor(criterion = 'squared_error',\n",
        "\t\t\t\t\t\t\t\tmax_depth=2)\n",
        "\n",
        "tree_reg.fit(X, y)\n",
        "\n",
        "\n"
      ],
      "metadata": {
        "id": "sLxKmz68a83L"
      },
      "execution_count": null,
      "outputs": []
    },
    {
      "cell_type": "markdown",
      "source": [
        "The code you provided demonstrates the construction of a decision tree regressor using the `DecisionTreeRegressor` class from the `sklearn.tree` module. The resulting decision tree regressor is trained on the provided data.\n",
        "\n",
        "Let's break down the code and discuss its purpose, when and where to use it, and summarize the expected result:\n",
        "\n",
        "\n",
        "\n",
        "\n",
        "The code performs the following steps:\n",
        "\n",
        "1. Import the necessary library: `DecisionTreeRegressor` from `sklearn.tree`.\n",
        "2. Create an instance of the `DecisionTreeRegressor` class with the criterion set to 'squared_error' and the maximum depth set to 2. This defines the decision tree regressor and its hyperparameters.\n",
        "3. Fit the decision tree regressor to the data by calling the `fit` method with `X` and `y` as arguments.\n",
        "\n",
        "The purpose of this code is to construct and train a decision tree regressor using the provided data.\n",
        "\n",
        "When and Where to Use:\n",
        "- Use this code when you want to train a decision tree regressor on a given dataset.\n",
        "- Decision tree regressors are suitable for regression tasks where the target variable is continuous.\n",
        "- This code can be used in various machine learning tasks, such as predicting house prices, stock market prices, or any other continuous target variable.\n",
        "\n",
        "Result Summary:\n",
        "Executing this code will create an instance of the `DecisionTreeRegressor` class with the specified criterion and maximum depth. The regressor will then be trained on the provided data (`X` and `y`). The resulting `tree_reg` object will be ready for making predictions on new unseen data."
      ],
      "metadata": {
        "id": "0NpEWl-gb4IV"
      }
    },
    {
      "cell_type": "markdown",
      "source": [
        "# Strengths and Weaknesses of the Decision Tree Approach"
      ],
      "metadata": {
        "id": "Xl5-9vu6cMq1"
      }
    },
    {
      "cell_type": "code",
      "source": [
        "from sklearn.datasets import make_classification\n",
        "from sklearn import tree\n",
        "from sklearn.model_selection import train_test_split\n",
        "\n",
        "X, t = make_classification(100, 5, n_classes=2, shuffle=True, random_state=10)\n",
        "X_train, X_test, t_train, t_test = train_test_split(\n",
        "\tX, t, test_size=0.3, shuffle=True, random_state=1)\n",
        "\n",
        "model = tree.DecisionTreeClassifier()\n",
        "model = model.fit(X_train, t_train)\n",
        "\n",
        "predicted_value = model.predict(X_test)\n",
        "print(predicted_value)\n",
        "\n",
        "tree.plot_tree(model)\n",
        "\n",
        "zeroes = 0\n",
        "ones = 0\n",
        "for i in range(0, len(t_train)):\n",
        "\tif t_train[i] == 0:\n",
        "\t\tzeroes += 1\n",
        "\telse:\n",
        "\t\tones += 1\n",
        "\n",
        "print(zeroes)\n",
        "print(ones)\n",
        "\n",
        "val = 1 - ((zeroes/70)*(zeroes/70) + (ones/70)*(ones/70))\n",
        "print(\"Gini :\", val)\n",
        "\n",
        "match = 0\n",
        "UnMatch = 0\n",
        "\n",
        "for i in range(30):\n",
        "\tif predicted_value[i] == t_test[i]:\n",
        "\t\tmatch += 1\n",
        "\telse:\n",
        "\t\tUnMatch += 1\n",
        "\n",
        "accuracy = match/30\n",
        "print(\"Accuracy is: \", accuracy)\n",
        "\n",
        "\n",
        "\n",
        "Output\n",
        "1 1 0 0 1 0 1 0 1 0 0 1 1 0 0 1 0 1 1 1 0 0 0 1 1 0 0 0 1 0\n",
        "Gini : 0.5\n",
        "Accuracy is: 0.366667"
      ],
      "metadata": {
        "id": "6hGDhZuab-k6"
      },
      "execution_count": null,
      "outputs": []
    },
    {
      "cell_type": "markdown",
      "source": [
        "The code you provided demonstrates the usage of the decision tree classifier from the scikit-learn library for a binary classification task. It generates a synthetic dataset, splits it into training and testing sets, trains a decision tree classifier, makes predictions, and calculates accuracy metrics.\n",
        "\n",
        "Let's break down the code and discuss its purpose, when and where to use it, and summarize the expected result:\n",
        "\n",
        "\n",
        "\n",
        "\n",
        "\n",
        "The code performs the following steps:\n",
        "\n",
        "1. Import the necessary libraries: `make_classification` from `sklearn.datasets`, `tree` from `sklearn`, and `train_test_split` from `sklearn.model_selection`.\n",
        "2. Generate a synthetic classification dataset using `make_classification`. It creates 100 samples with 5 features and 2 classes, shuffled with a random state of 10.\n",
        "3. Split the dataset into training and testing sets using `train_test_split`. It assigns 70% of the data to the training set (`X_train` and `t_train`) and 30% to the testing set (`X_test` and `t_test`).\n",
        "4. Create an instance of the `DecisionTreeClassifier` class from `tree`.\n",
        "5. Train the decision tree classifier using the training data (`X_train` and `t_train`).\n",
        "6. Make predictions on the testing set using the trained model and store the predicted values in `predicted_value`.\n",
        "7. Print the predicted values.\n",
        "8. Plot the decision tree using `tree.plot_tree`.\n",
        "9. Calculate the class distribution in the training set by counting the occurrences of class labels (`0` and `1`) in `t_train`.\n",
        "10. Print the counts of class labels (`0` and `1`) in the training set.\n",
        "11. Calculate the Gini impurity using the class distribution.\n",
        "12. Calculate the accuracy metrics by comparing the predicted values with the true labels in the testing set.\n",
        "13. Print the accuracy.\n",
        "\n",
        "The purpose of this code is to demonstrate the usage of the decision tree classifier for binary classification, including dataset generation, model training, prediction, visualization, and accuracy calculation.\n",
        "\n",
        "When and Where to Use:\n",
        "- Use this code when you want to apply a decision tree classifier to a binary classification task.\n",
        "- Decision trees are versatile and widely used classifiers, suitable for various applications.\n",
        "- This code is applicable when you have a binary classification problem and want to understand and evaluate the performance of the decision tree classifier.\n",
        "\n",
        "Result Summary:\n",
        "Executing this code will generate a synthetic dataset, split it into training and testing sets, train a decision tree classifier, make predictions on the testing set, plot the decision tree, calculate class distribution and Gini impurity in the training set, and compute the accuracy of the predictions. The printed output will show the predicted values, class counts, Gini impurity, and accuracy metrics."
      ],
      "metadata": {
        "id": "9KXSTmvjcgmL"
      }
    },
    {
      "cell_type": "code",
      "source": [
        "# dividing the datasets into two parts i.e. training datasets and test datasets\n",
        "X, y = datasets.load_iris( return_X_y = True)\n",
        "\n",
        "# Splitting arrays or matrices into random train and test subsets\n",
        "from sklearn.model_selection import train_test_split\n",
        "# i.e. 70 % training dataset and 30 % test datasets\n",
        "X_train, X_test, y_train, y_test = train_test_split(X, y, test_size = 0.30)\n",
        "\n",
        "\n"
      ],
      "metadata": {
        "id": "QRn82kRqc5ub"
      },
      "execution_count": null,
      "outputs": []
    },
    {
      "cell_type": "markdown",
      "source": [
        "# **Code: Importing required libraries and random forest classifier module.**\n",
        "\n"
      ],
      "metadata": {
        "id": "7EuVp-6BdenX"
      }
    },
    {
      "cell_type": "code",
      "source": [
        "# importing random forest classifier from assemble module\n",
        "from sklearn.ensemble import RandomForestClassifier\n",
        "import pandas as pd\n",
        "# creating dataframe of IRIS dataset\n",
        "data = pd.DataFrame({‘sepallength’: iris.data[:, 0], ’sepalwidth’: iris.data[:, 1],\n",
        "\t\t\t\t\t’petallength’: iris.data[:, 2], ’petalwidth’: iris.data[:, 3],\n",
        "\t\t\t\t\t’species’: iris.target})\n"
      ],
      "metadata": {
        "id": "rBHlejFjdfqJ"
      },
      "execution_count": null,
      "outputs": []
    },
    {
      "cell_type": "markdown",
      "source": [
        "The code you provided demonstrates the usage of the Random Forest Classifier from the `sklearn.ensemble` module to create a classification model using the Iris dataset. It imports the necessary libraries, creates a DataFrame from the Iris dataset, and assigns the features and target variables.\n",
        "\n",
        "Let's break down the code and discuss its purpose, when and where to use it, and summarize the expected result:\n",
        "\n",
        "\n",
        "\n",
        "\n",
        "The code performs the following steps:\n",
        "\n",
        "1. Import the necessary libraries: `RandomForestClassifier` from `sklearn.ensemble` and `pandas` as `pd`.\n",
        "2. Create a DataFrame called `data` using the Iris dataset.\n",
        "   - The columns of the DataFrame are defined using dictionary-like notation, with keys as column names and values as the respective feature arrays from the Iris dataset.\n",
        "   - The `iris.data` contains the feature values, and `iris.target` contains the target variable values.\n",
        "   - Each feature is assigned to a specific column in the DataFrame, and the target variable is assigned to the 'species' column.\n",
        "\n",
        "The purpose of this code is to prepare the Iris dataset by creating a DataFrame with the feature columns and the target column.\n",
        "\n",
        "When and Where to Use:\n",
        "- Use this code when you want to work with the Iris dataset using a DataFrame format, specifically for using the Random Forest Classifier.\n",
        "- Random Forest Classifier is an ensemble learning method that combines multiple decision trees to make predictions. It is often used for classification tasks.\n",
        "- This code is suitable for scenarios where you want to work with tabular data in a DataFrame format and use the Random Forest Classifier for classification tasks.\n",
        "\n",
        "Result Summary:\n",
        "Executing this code will create a DataFrame called `data` that contains the features (sepal length, sepal width, petal length, petal width) and the target variable (species) from the Iris dataset. The DataFrame can be used for further analysis, feature engineering, model training, and evaluation using the Random Forest Classifier."
      ],
      "metadata": {
        "id": "n86-62WAdhDR"
      }
    },
    {
      "cell_type": "code",
      "source": [
        "# importing random forest classifier from assemble module\n",
        "from sklearn.ensemble import RandomForestClassifier\n",
        "# Create a Random forest Classifier\n",
        "clf = RandomForestClassifier(n_estimators = 100)\n",
        "\n",
        "# Train the model using the training sets\n",
        "clf.fit(X_train, y_train)\n"
      ],
      "metadata": {
        "id": "3xM6c5mSdhxb"
      },
      "execution_count": null,
      "outputs": []
    },
    {
      "cell_type": "markdown",
      "source": [
        "The code snippet you provided demonstrates the usage of the Random Forest Classifier from the `sklearn.ensemble` module. It imports the necessary library, creates an instance of the Random Forest Classifier, and trains the model using the training sets.\n",
        "\n",
        "Let's break down the code and discuss its purpose, when and where to use it, and summarize the expected result:\n",
        "\n",
        "\n",
        "\n",
        "The code performs the following steps:\n",
        "\n",
        "1. Import the necessary library: `RandomForestClassifier` from `sklearn.ensemble`.\n",
        "2. Create an instance of the Random Forest Classifier by calling the `RandomForestClassifier` class. The parameter `n_estimators` is set to 100, which specifies the number of decision trees to be included in the random forest ensemble.\n",
        "3. Train the model using the training sets by calling the `fit` method of the classifier and passing the training feature data (`X_train`) and corresponding target labels (`y_train`).\n",
        "\n",
        "The purpose of this code is to create a Random Forest Classifier, configure its parameters, and train it on the provided training data.\n",
        "\n",
        "When and Where to Use:\n",
        "- Use this code when you want to apply the Random Forest Classifier to a classification problem.\n",
        "- Random Forest Classifier is a powerful ensemble learning algorithm that combines multiple decision trees to make predictions. It is widely used for classification tasks.\n",
        "- This code can be used in various machine learning projects where classification is required, such as predicting customer churn, fraud detection, or image recognition.\n",
        "\n",
        "Result Summary:\n",
        "Executing this code will create an instance of the Random Forest Classifier with 100 decision trees. The classifier will be trained on the provided training data (`X_train` and `y_train`). The resulting `clf` object represents the trained classifier, which can then be used to make predictions on new, unseen data."
      ],
      "metadata": {
        "id": "tXZwcUKbfohE"
      }
    },
    {
      "cell_type": "code",
      "source": [
        "# using the feature importance variable\n",
        "import pandas as pd\n",
        "feature_imp = pd.Series(clf.feature_importances_, index = iris.feature_names).sort_values(ascending = False)\n",
        "feature_imp\n",
        "\n",
        "\n",
        "\n",
        "output:\n",
        "petal width (cm)     0.458607\n",
        "petal length (cm)    0.413859\n",
        "sepal length (cm)    0.103600\n",
        "sepal width (cm)     0.023933\n",
        "dtype: float64\n",
        "\n"
      ],
      "metadata": {
        "id": "-6245LsBfXvg"
      },
      "execution_count": null,
      "outputs": []
    },
    {
      "cell_type": "markdown",
      "source": [
        "The code snippet you provided demonstrates the usage of the feature importance variable from a trained Random Forest Classifier. It imports the necessary library, creates a pandas Series object to store the feature importances, and sorts them in descending order.\n",
        "\n",
        "Let's break down the code and discuss its purpose, when and where to use it, and summarize the expected result:\n",
        "\n",
        "\n",
        "\n",
        "The code performs the following steps:\n",
        "\n",
        "1. Import the necessary library: `pandas` as `pd`.\n",
        "2. Create a pandas Series object named `feature_imp` to store the feature importances obtained from the Random Forest Classifier (`clf`).\n",
        "3. The `clf.feature_importances_` attribute retrieves the importance scores for each feature from the trained classifier.\n",
        "4. Set the index of the `feature_imp` Series as the feature names of the Iris dataset (`iris.feature_names`).\n",
        "5. Sort the Series in descending order based on the feature importances using the `sort_values` method with the parameter `ascending=False`.\n",
        "\n",
        "The purpose of this code is to calculate and display the feature importances obtained from the trained Random Forest Classifier.\n",
        "\n",
        "When and Where to Use:\n",
        "- Use this code when you want to understand the importance of different features in a classification task.\n",
        "- Feature importance indicates the relative importance of each feature in predicting the target variable and can help in feature selection or identifying the most influential features.\n",
        "- This code is typically used after training a Random Forest Classifier to gain insights into the significance of different features in the classification model.\n",
        "\n",
        "Result Summary:\n",
        "Executing this code will compute the feature importances using the trained Random Forest Classifier (`clf`). The resulting `feature_imp` pandas Series object will display the feature names along with their corresponding importance scores, sorted in descending order. This information can provide insights into which features are most relevant for the classification task at hand."
      ],
      "metadata": {
        "id": "VEXlkUhYf3U5"
      }
    },
    {
      "cell_type": "markdown",
      "source": [
        "# Python implementation of AdaBoost\n",
        "-----------------\n",
        "![image.png](data:image/png;base64,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)"
      ],
      "metadata": {
        "id": "QrfdPMNNf65W"
      }
    },
    {
      "cell_type": "code",
      "source": [
        "X_train, X_val, Y_train, Y_val = train_test_split(\n",
        "\tX, y, test_size=0.25, random_state=28)\n",
        "\n",
        "\n",
        "# Creating adaboost classifier model\n",
        "adb = AdaBoostClassifier()\n",
        "adb_model = adb.fit(X_train,Y_train)\n",
        "\n",
        "\n",
        "\n",
        "output:\n",
        "\n",
        "The accuracy of the model on validation set is 0.9210526315789473\n"
      ],
      "metadata": {
        "id": "5QnB7iwff6dX"
      },
      "execution_count": null,
      "outputs": []
    },
    {
      "cell_type": "markdown",
      "source": [
        "The code snippet you provided demonstrates the creation and training of an AdaBoost Classifier model. It imports the necessary library, creates an instance of the AdaBoostClassifier, and trains the model using the provided training sets.\n",
        "\n",
        "Let's break down the code and discuss its purpose, when and where to use it, and summarize the expected result:\n",
        "\n",
        "\n",
        "\n",
        "The code performs the following steps:\n",
        "\n",
        "1. Import the necessary library: `AdaBoostClassifier` from `sklearn.ensemble`.\n",
        "2. Create an instance of the AdaBoost Classifier by calling the `AdaBoostClassifier` class.\n",
        "3. Train the model using the training sets by calling the `fit` method of the classifier and passing the training feature data (`X_train`) and corresponding target labels (`Y_train`).\n",
        "\n",
        "The purpose of this code is to create an AdaBoost Classifier model and train it on the provided training data.\n",
        "\n",
        "When and Where to Use:\n",
        "- Use this code when you want to apply the AdaBoost Classifier to a classification task.\n",
        "- AdaBoost (Adaptive Boosting) is an ensemble learning method that combines multiple weak classifiers to create a strong classifier. It is often used for binary classification problems.\n",
        "- This code is applicable in scenarios where you have labeled training data and want to train an AdaBoost Classifier to classify new, unseen instances.\n",
        "\n",
        "Result Summary:\n",
        "Executing this code will create an instance of the AdaBoost Classifier. The classifier will be trained on the provided training data (`X_train` and `Y_train`). The resulting `adb_model` object represents the trained AdaBoost Classifier model, which can be used to make predictions on new, unseen data."
      ],
      "metadata": {
        "id": "Wnnyowslf6JG"
      }
    },
    {
      "cell_type": "markdown",
      "source": [
        "# **Algorithm for the Bagging classifier:**\n",
        "\n",
        "\n",
        "\n",
        "-------------------------------------\n",
        "\n",
        "Original training dataset: 1, 2, 3, 4, 5, 6, 7, 8, 9, 10 Resampled training set 1: 2, 3, 3, 5, 6, 1, 8, 10, 9, 1 Resampled training set 2: 1, 1, 5, 6, 3, 8, 9, 10, 2, 7 Resampled training set 3: 1, 5, 8, 9, 2, 10, 9, 7, 5, 4\n",
        "--------------------------------------\n",
        "Classifier generation:\n",
        "\n",
        "Let N be the size of the training set.\n",
        "for each of t iterations:\n",
        "    sample N instances with replacement from the original training set.\n",
        "    apply the learning algorithm to the sample.\n",
        "    store the resulting classifier.\n",
        "\n",
        "Classification:\n",
        "for each of the t classifiers:\n",
        "    predict class of instance using classifier.\n",
        "return class that was predicted most often.\n",
        "---------------------------------"
      ],
      "metadata": {
        "id": "fo-vmg9Ni0I6"
      }
    },
    {
      "cell_type": "code",
      "source": [
        "from sklearn import model_selection\n",
        "from sklearn.ensemble import BaggingClassifier\n",
        "from sklearn.tree import DecisionTreeClassifier\n",
        "import pandas as pd\n",
        "\n",
        "# load the data\n",
        "url = \"/home/debomit/Downloads/wine_data.xlsx\"\n",
        "dataframe = pd.read_excel(url)\n",
        "arr = dataframe.values\n",
        "X = arr[:, 1:14]\n",
        "Y = arr[:, 0]\n",
        "\n",
        "seed = 8\n",
        "kfold = model_selection.KFold(n_splits = 3,\n",
        "\t\t\t\t\trandom_state = seed)\n",
        "\n",
        "# initialize the base classifier\n",
        "base_cls = DecisionTreeClassifier()\n",
        "\n",
        "# no. of base classifier\n",
        "num_trees = 500\n",
        "\n",
        "# bagging classifier\n",
        "model = BaggingClassifier(base_estimator = base_cls,\n",
        "\t\t\t\t\t\tn_estimators = num_trees,\n",
        "\t\t\t\t\t\trandom_state = seed)\n",
        "\n",
        "results = model_selection.cross_val_score(model, X, Y, cv = kfold)\n",
        "print(\"accuracy :\")\n",
        "print(results.mean())\n"
      ],
      "metadata": {
        "id": "8_oQ9Bc3f5e9"
      },
      "execution_count": null,
      "outputs": []
    },
    {
      "cell_type": "markdown",
      "source": [
        "Certainly! The code snippet you provided demonstrates the usage of the Bagging Classifier from the `sklearn.ensemble` module for a classification task. Let's discuss the code in detail along with its parameters:\n",
        "\n",
        "\n",
        "```\n",
        "\n",
        "Here is a breakdown of the code and the meaning of each part:\n",
        "\n",
        "1. Import the necessary libraries:\n",
        "   - `model_selection` from `sklearn`: Provides tools for model selection and evaluation.\n",
        "   - `BaggingClassifier` from `sklearn.ensemble`: Represents the Bagging Classifier model.\n",
        "   - `DecisionTreeClassifier` from `sklearn.tree`: Represents the base classifier used in the Bagging Classifier.\n",
        "   - `pandas` as `pd`: Used for handling data in a DataFrame.\n",
        "\n",
        "2. Load the data:\n",
        "   - The dataset is loaded from the specified URL using `pd.read_excel` and stored in a DataFrame called `dataframe`.\n",
        "   - The data is then extracted into feature variables (`X`) and target variable (`Y`) using indexing on the `arr` array.\n",
        "\n",
        "3. Set the random seed:\n",
        "   - The variable `seed` is set to 8 to ensure reproducibility of results.\n",
        "\n",
        "4. Create a KFold object:\n",
        "   - `kfold` is created using `model_selection.KFold`, which splits the data into 3 folds for cross-validation.\n",
        "   - The parameter `n_splits=3` indicates the number of folds, and `random_state=seed` ensures consistent shuffling of data.\n",
        "\n",
        "5. Initialize the base classifier:\n",
        "   - `base_cls` is set to `DecisionTreeClassifier()`, which represents the base classifier used in the Bagging Classifier. By default, it uses the Gini impurity as the criterion to split nodes.\n",
        "\n",
        "6. Specify the number of base classifiers:\n",
        "   - `num_trees` is set to 500, which represents the number of base classifiers (decision trees) in the Bagging Classifier ensemble.\n",
        "\n",
        "7. Create the Bagging Classifier model:\n",
        "   - `model` is initialized as a `BaggingClassifier` instance, with the base estimator (`base_cls`), number of estimators (`n_estimators=num_trees`), and random state (`random_state=seed`).\n",
        "\n",
        "8. Perform cross-validation:\n",
        "   - `model_selection.cross_val_score` is used to perform cross-validation on the Bagging Classifier model (`model`).\n",
        "   - The feature data (`X`), target data (`Y`), and cross-validation object (`kfold`) are passed as parameters.\n",
        "   - This function splits the data according to the cross-validation strategy (`kfold`), trains the model on each split, and returns the accuracy scores.\n",
        "\n",
        "9. Print the mean accuracy:\n",
        "   - The `results` obtained from the cross-validation are printed to display the accuracy scores for each fold.\n",
        "   - `results.mean()` calculates the mean accuracy across all the folds.\n",
        "\n",
        "The purpose of this code is to load the dataset, create and train a Bagging Classifier model using a Decision Tree as the base classifier, perform cross-validation, and print the mean accuracy of the model.\n",
        "\n",
        "The key parameters used in the code are:\n",
        "- `n_estimators`: Specifies the number of base classifiers (decision trees) in the Bagging Classifier ensemble.\n",
        "- `base_estimator`: Represents the base classifier used in the Bagging Classifier. In this case, it is a `DecisionTreeClassifier`.\n",
        "- `cv`: Specifies the cross-validation strategy. In this code, it uses a `KFold` object with 3 folds.\n",
        "- `random_state`: Ensures reproducibility by setting a random seed.\n",
        "\n",
        "The expected result is the mean accuracy of the Bagging Classifier model obtained from cross-validation. It provides an estimate of the model's performance on unseen data."
      ],
      "metadata": {
        "id": "55RaRpFciz0k"
      }
    },
    {
      "cell_type": "markdown",
      "source": [
        "# **Voting Classifier using Sklearn**"
      ],
      "metadata": {
        "id": "alW7lWk7lPrW"
      }
    },
    {
      "cell_type": "code",
      "source": [
        "# importing libraries\n",
        "from sklearn.ensemble import VotingClassifier\n",
        "from sklearn.linear_model import LogisticRegression\n",
        "from sklearn.svm import SVC\n",
        "from sklearn.tree import DecisionTreeClassifier\n",
        "from sklearn.datasets import load_iris\n",
        "from sklearn.metrics import accuracy_score\n",
        "from sklearn.model_selection import train_test_split\n",
        "\n",
        "# loading iris dataset\n",
        "iris = load_iris()\n",
        "X = iris.data[:, :4]\n",
        "Y = iris.target\n",
        "\n",
        "# train_test_split\n",
        "X_train, X_test, y_train, y_test = train_test_split(X,\n",
        "\t\t\t\t\t\t\t\t\t\t\t\t\tY,\n",
        "\t\t\t\t\t\t\t\t\t\t\t\t\ttest_size = 0.20,\n",
        "\t\t\t\t\t\t\t\t\t\t\t\t\trandom_state = 42)\n",
        "\n",
        "# group / ensemble of models\n",
        "estimator = []\n",
        "estimator.append(('LR',\n",
        "\t\t\t\tLogisticRegression(solver ='lbfgs',\n",
        "\t\t\t\t\t\t\t\t\tmulti_class ='multinomial',\n",
        "\t\t\t\t\t\t\t\t\tmax_iter = 200)))\n",
        "estimator.append(('SVC', SVC(gamma ='auto', probability = True)))\n",
        "estimator.append(('DTC', DecisionTreeClassifier()))\n",
        "\n",
        "# Voting Classifier with hard voting\n",
        "vot_hard = VotingClassifier(estimators = estimator, voting ='hard')\n",
        "vot_hard.fit(X_train, y_train)\n",
        "y_pred = vot_hard.predict(X_test)\n",
        "\n",
        "# using accuracy_score metric to predict accuracy\n",
        "score = accuracy_score(y_test, y_pred)\n",
        "print(\"Hard Voting Score % d\" % score)\n",
        "\n",
        "# Voting Classifier with soft voting\n",
        "vot_soft = VotingClassifier(estimators = estimator, voting ='soft')\n",
        "vot_soft.fit(X_train, y_train)\n",
        "y_pred = vot_soft.predict(X_test)\n",
        "\n",
        "# using accuracy_score\n",
        "score = accuracy_score(y_test, y_pred)\n",
        "print(\"Soft Voting Score % d\" % score)\n",
        "\n",
        "\n",
        "\n",
        "output:--\n",
        "Hard Voting Score 1\n",
        "Soft Voting Score 1\n"
      ],
      "metadata": {
        "id": "qsRSga8yk-gJ"
      },
      "execution_count": null,
      "outputs": []
    },
    {
      "cell_type": "markdown",
      "source": [
        "The given code is an example of using a voting ensemble technique with a group of models for classification tasks. Here's an explanation of each part of the code and its purpose:\n",
        "\n",
        "1. Creating the ensemble of models:\n",
        "   - The code initializes an empty list called `estimator` to store the individual models.\n",
        "   - Three models are appended to the `estimator` list:\n",
        "     - Logistic Regression (`LR`): It uses the `LogisticRegression` class with parameters such as solver, multi_class, and max_iter.\n",
        "     - Support Vector Classifier (`SVC`): It uses the `SVC` class with the gamma parameter set to 'auto' and probability set to True.\n",
        "     - Decision Tree Classifier (`DTC`): It uses the `DecisionTreeClassifier` class.\n",
        "\n",
        "2. Creating a Voting Classifier with hard voting:\n",
        "   - The code creates a `VotingClassifier` called `vot_hard` using the `estimator` list as the `estimators` parameter and 'hard' as the `voting` parameter.\n",
        "   - The `fit` method is called on `vot_hard` to train the ensemble on the provided training data (`X_train` and `y_train`).\n",
        "\n",
        "3. Making predictions with hard voting:\n",
        "   - The `predict` method is used on `vot_hard` to predict the class labels for the test data (`X_test`).\n",
        "   - The predicted labels are stored in `y_pred`.\n",
        "\n",
        "4. Evaluating the hard voting ensemble:\n",
        "   - The accuracy of the hard voting ensemble is calculated by comparing the predicted labels (`y_pred`) with the actual labels (`y_test`) using the `accuracy_score` function.\n",
        "   - The calculated accuracy score is printed as \"Hard Voting Score % d\".\n",
        "\n",
        "5. Creating a Voting Classifier with soft voting:\n",
        "   - Similar to step 2, a new `VotingClassifier` called `vot_soft` is created with the same `estimator` list but with 'soft' as the `voting` parameter.\n",
        "\n",
        "6. Making predictions with soft voting:\n",
        "   - The `predict` method is used on `vot_soft` to predict the class labels for the test data (`X_test`).\n",
        "   - The predicted labels are stored in `y_pred`.\n",
        "\n",
        "7. Evaluating the soft voting ensemble:\n",
        "   - The accuracy of the soft voting ensemble is calculated using the `accuracy_score` function, comparing the predicted labels (`y_pred`) with the actual labels (`y_test`).\n",
        "   - The calculated accuracy score is printed as \"Soft Voting Score % d\".\n",
        "\n",
        "Summary:\n",
        "The code demonstrates the concept of ensemble learning using a voting classifier. It creates an ensemble of models (Logistic Regression, Support Vector Classifier, and Decision Tree Classifier) and compares two voting strategies: hard voting and soft voting. Hard voting selects the class label that receives the most votes from the individual models, while soft voting calculates the probabilities of each class label and selects the label with the highest average probability. The code then evaluates the accuracy of both voting strategies on the test data. The purpose is to combine the predictions of multiple models to potentially improve the overall performance and robustness of the classification task."
      ],
      "metadata": {
        "id": "azHsZjZDmA5E"
      }
    },
    {
      "cell_type": "markdown",
      "source": [
        "# Extra Tree Classifier for Feature Selection"
      ],
      "metadata": {
        "id": "lv2Avjw2misN"
      }
    },
    {
      "cell_type": "code",
      "source": [
        "# Building the model\n",
        "extra_tree_forest = ExtraTreesClassifier(n_estimators = 5,\n",
        "\t\t\t\t\t\t\t\t\t\tcriterion ='entropy', max_features = 2)\n",
        "\n",
        "# Training the model\n",
        "extra_tree_forest.fit(X, y)\n",
        "\n",
        "# Computing the importance of each feature\n",
        "feature_importance = extra_tree_forest.feature_importances_\n",
        "\n",
        "# Normalizing the individual importances\n",
        "feature_importance_normalized = np.std([tree.feature_importances_ for tree in\n",
        "\t\t\t\t\t\t\t\t\t\textra_tree_forest.estimators_],\n",
        "\t\t\t\t\t\t\t\t\t\taxis = 0)\n"
      ],
      "metadata": {
        "id": "oJVlbo1EmDiO"
      },
      "execution_count": null,
      "outputs": []
    },
    {
      "cell_type": "markdown",
      "source": [
        "The given code snippet is used to build a model, train it, and compute the importance of each feature in the dataset. Here's a breakdown of each part of the code and its purpose:\n",
        "\n",
        "1. Building the model:\n",
        "   - The code creates an instance of the `ExtraTreesClassifier` class called `extra_tree_forest`.\n",
        "   - The `ExtraTreesClassifier` is a type of ensemble learning method based on the random forest algorithm.\n",
        "   - It takes several parameters:\n",
        "     - `n_estimators`: The number of trees in the forest. In this case, it is set to 5.\n",
        "     - `criterion`: The function to measure the quality of a split. It is set to 'entropy', which uses the information gain criterion.\n",
        "     - `max_features`: The number of features to consider when looking for the best split. Here, it is set to 2.\n",
        "\n",
        "2. Training the model:\n",
        "   - The `fit` method is called on the `extra_tree_forest` object to train the model.\n",
        "   - It takes the input features (`X`) and the corresponding target labels (`y`) as parameters.\n",
        "\n",
        "3. Computing the importance of each feature:\n",
        "   - The code calculates the importance of each feature in the trained model.\n",
        "   - The `feature_importances_` attribute of the `extra_tree_forest` object provides the feature importance scores.\n",
        "\n",
        "4. Normalizing the individual importances:\n",
        "   - The code calculates the standard deviation of feature importances across all the trees in the forest.\n",
        "   - It uses a list comprehension to iterate over each tree in `extra_tree_forest.estimators_` and retrieve the `feature_importances_` for each tree.\n",
        "   - The `np.std` function from NumPy is used to compute the standard deviation along the axis 0, which represents the feature dimension.\n",
        "\n",
        "The purpose of this code is to analyze the importance of each feature in the dataset according to the trained ExtraTreesClassifier model. Feature importance provides insights into which features have the most influence on the model's predictions. By identifying important features, we can gain a better understanding of the dataset and potentially select a subset of relevant features for further analysis or model building."
      ],
      "metadata": {
        "id": "o2wnZ9XSmy8i"
      }
    },
    {
      "cell_type": "markdown",
      "source": [
        "## **Perform stepwise regression**\n",
        "\n"
      ],
      "metadata": {
        "id": "Ol0i9nMgneBi"
      }
    },
    {
      "cell_type": "code",
      "source": [
        "sfs = SequentialFeatureSelector(linear_model.LogisticRegression(),\n",
        "\t\t\t\t\t\t\t\tk_features=3,\n",
        "\t\t\t\t\t\t\t\tforward=True,\n",
        "\t\t\t\t\t\t\t\tscoring='accuracy',\n",
        "\t\t\t\t\t\t\t\tcv=None)\n",
        "selected_features = sfs.fit(X, y)\n",
        "\n"
      ],
      "metadata": {
        "id": "rbx27zuznlDB"
      },
      "execution_count": null,
      "outputs": []
    },
    {
      "cell_type": "markdown",
      "source": [
        "The given code snippet demonstrates the usage of Sequential Feature Selection (SFS) using a logistic regression model. Here's an explanation of each part of the code and its purpose:\n",
        "\n",
        "1. Importing the necessary modules:\n",
        "   - The code assumes that the `linear_model` module from the scikit-learn library has been imported previously.\n",
        "\n",
        "2. Creating the SequentialFeatureSelector:\n",
        "   - The `SequentialFeatureSelector` is instantiated with the `LogisticRegression` model from scikit-learn's `linear_model` module as the estimator.\n",
        "   - The parameters passed to the `SequentialFeatureSelector` are:\n",
        "     - `linear_model.LogisticRegression()`: This specifies the model to be used for feature selection.\n",
        "     - `k_features=3`: It sets the number of features to select. In this case, it selects 3 features.\n",
        "     - `forward=True`: It specifies that forward feature selection should be performed, meaning features are added one by one.\n",
        "     - `scoring='accuracy'`: It sets the scoring metric to evaluate the performance of feature subsets. In this case, accuracy is used.\n",
        "     - `cv=None`: It specifies the cross-validation strategy. Here, it is set to None, which implies using the default value of 5-fold cross-validation.\n",
        "\n",
        "3. Performing feature selection:\n",
        "   - The `fit` method is called on the `sfs` object with the input features (`X`) and the corresponding target labels (`y`) as parameters.\n",
        "   - The `fit` method executes the sequential feature selection algorithm and selects the best subset of features based on the specified configuration.\n",
        "\n",
        "4. Obtaining the selected features:\n",
        "   - The selected features are retrieved by accessing the `support_` attribute of the `sfs` object.\n",
        "   - The `support_` attribute is a Boolean mask indicating which features were selected (`True`) and which were not (`False`).\n",
        "\n",
        "The purpose of this code is to perform sequential feature selection using logistic regression as the underlying model. Sequential feature selection is a technique that systematically selects a subset of features based on their individual performance or their combined contribution to the model's performance. In this case, the algorithm starts with an empty set of features and iteratively selects the best feature to add until the desired number of features (`k_features=3`) is reached. The selected features can then be used for further analysis or model training. The scoring metric ('accuracy') is used to evaluate the performance of different feature subsets during the selection process."
      ],
      "metadata": {
        "id": "IAG0VISDn4Hv"
      }
    },
    {
      "cell_type": "markdown",
      "source": [
        "# **elastic net regression**"
      ],
      "metadata": {
        "id": "NM2LE5ETon4U"
      }
    },
    {
      "cell_type": "code",
      "source": [
        "# import model\n",
        "from sklearn.linear_model import ElasticNet\n",
        "\n",
        "# Train the model\n",
        "e_net = ElasticNet(alpha = 1)\n",
        "e_net.fit(x_train, y_train)\n",
        "\n",
        "# calculate the prediction and mean square error\n",
        "y_pred_elastic = e_net.predict(x_test)\n",
        "mean_squared_error = np.mean((y_pred_elastic - y_test)**2)\n",
        "print(\"Mean Squared Error on test set\", mean_squared_error)\n",
        "\n",
        "e_net_coeff = pd.DataFrame()\n",
        "e_net_coeff[\"Columns\"] = x_train.columns\n",
        "e_net_coeff['Coefficient Estimate'] = pd.Series(e_net.coef_)\n",
        "e_net_coeff\n"
      ],
      "metadata": {
        "id": "sCs05vtyn5jR"
      },
      "execution_count": null,
      "outputs": []
    },
    {
      "cell_type": "markdown",
      "source": [
        "The provided code snippet demonstrates the usage of Elastic Net regression for training a model, making predictions, and analyzing the coefficients. Here's an explanation of each part of the code and its purpose:\n",
        "\n",
        "1. Importing the necessary modules:\n",
        "   - The code imports the `ElasticNet` model from the `linear_model` module of scikit-learn.\n",
        "\n",
        "2. Training the Elastic Net model:\n",
        "   - An instance of the `ElasticNet` model is created, named `e_net`, with an `alpha` value of 1.\n",
        "   - The `alpha` parameter controls the regularization strength, with higher values leading to stronger regularization.\n",
        "   - The `fit` method is called on the `e_net` object, using the training data (`x_train` and `y_train`) as parameters.\n",
        "   - This step trains the model on the provided training data.\n",
        "\n",
        "3. Making predictions and calculating the mean squared error:\n",
        "   - The `predict` method is used on the `e_net` object to make predictions on the test data (`x_test`), and the predicted values are stored in `y_pred_elastic`.\n",
        "   - The mean squared error (MSE) is calculated by taking the average of the squared differences between the predicted values (`y_pred_elastic`) and the true values (`y_test`).\n",
        "   - The calculated MSE is printed as \"Mean Squared Error on test set\".\n",
        "\n",
        "4. Analyzing the coefficients:\n",
        "   - An empty DataFrame named `e_net_coeff` is created to store the feature names and their corresponding coefficient estimates.\n",
        "   - The column names of the DataFrame are set as \"Columns\" and \"Coefficient Estimate\".\n",
        "   - The feature names from the training data (`x_train.columns`) are assigned to the \"Columns\" column.\n",
        "   - The coefficient estimates of the Elastic Net model (`e_net.coef_`) are assigned to the \"Coefficient Estimate\" column.\n",
        "\n",
        "The purpose of this code is to train an Elastic Net regression model, evaluate its performance using the mean squared error metric, and analyze the coefficients to understand the importance of different features in the model. Elastic Net regression is a linear regression model that combines L1 (Lasso) and L2 (Ridge) regularization, allowing for feature selection and handling multicollinearity. The code provides insights into the model's performance and the impact of each feature on the predicted outcomes."
      ],
      "metadata": {
        "id": "StuldmxWo3Y5"
      }
    },
    {
      "cell_type": "markdown",
      "source": [
        "# **Implementation of Bayesian Regression Using Python:**"
      ],
      "metadata": {
        "id": "bsl3DyoQphxz"
      }
    },
    {
      "cell_type": "code",
      "source": [
        "import numpy as np\n",
        "import pymc3 as pm\n",
        "import matplotlib.pyplot as plt\n",
        "\n",
        "# Generate some sample data\n",
        "np.random.seed(0)\n",
        "X = np.linspace(0, 10, 100)\n",
        "true_slope = 2\n",
        "true_intercept = 1\n",
        "Y = true_intercept + true_slope * X + np.random.normal(0, 1, size=100)\n",
        "\n",
        "# Create a PyMC3 model\n",
        "with pm.Model() as model:\n",
        "\t# Priors for the parameters\n",
        "\tslope = pm.Normal('slope', mu=0, sd=10)\n",
        "\tintercept = pm.Normal('intercept', mu=0, sd=10)\n",
        "\tsigma = pm.HalfNormal('sigma', sd=1)\n",
        "\n",
        "\t# Expected value of the outcome\n",
        "\tmu = intercept + slope * X\n",
        "\n",
        "\t# Likelihood (sampling distribution) of the observations\n",
        "\tY_obs = pm.Normal('Y_obs', mu=mu, sd=sigma, observed=Y)\n",
        "\n",
        "\t# Run the MCMC sampling\n",
        "\ttrace = pm.sample(2000, tune=1000)\n",
        "\n",
        "# Plot the posterior distributions\n",
        "pm.plot_posterior(trace, var_names=['slope', 'intercept', 'sigma'])\n",
        "plt.show()\n"
      ],
      "metadata": {
        "id": "FBPLYoMupWD1"
      },
      "execution_count": null,
      "outputs": []
    },
    {
      "cell_type": "markdown",
      "source": [
        "![image.png](data:image/png;base64,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)"
      ],
      "metadata": {
        "id": "BrNzaBUzprGk"
      }
    },
    {
      "cell_type": "markdown",
      "source": [
        "The provided code snippet demonstrates the usage of PyMC3, a probabilistic programming library, to perform Bayesian linear regression and visualize the posterior distributions of the model parameters. Here's an explanation of each part of the code and its purpose:\n",
        "\n",
        "1. Importing the necessary modules:\n",
        "   - The code imports `numpy` as `np` for numerical operations, `pymc3` as `pm` for the Bayesian modeling framework, and `matplotlib.pyplot` as `plt` for visualization.\n",
        "\n",
        "2. Generating sample data:\n",
        "   - A set of sample data points is generated.\n",
        "   - The `linspace` function from NumPy is used to create 100 equally spaced points between 0 and 10, which are stored in the `X` array.\n",
        "   - The true slope and intercept values are defined (`true_slope = 2` and `true_intercept = 1`).\n",
        "   - The observed response variable `Y` is generated by adding random noise (normally distributed with mean 0 and standard deviation 1) to the true intercept and slope multiplied by the corresponding `X` values.\n",
        "\n",
        "3. Creating a PyMC3 model:\n",
        "   - A PyMC3 model is defined using a `with` block, which sets up the context for model specification.\n",
        "   - Prior distributions are specified for the model parameters:\n",
        "     - `slope` and `intercept` are assigned normal prior distributions centered at 0 with standard deviation 10.\n",
        "     - `sigma` is assigned a half-normal prior distribution with standard deviation 1, which ensures positive values.\n",
        "   - The expected value (`mu`) of the outcome variable `Y` is defined as the sum of `intercept` and `slope` multiplied by `X`.\n",
        "   - The likelihood (sampling distribution) of the observations is specified using a normal distribution (`Y_obs`) with mean `mu`, standard deviation `sigma`, and observed data `Y`.\n",
        "\n",
        "4. Running MCMC sampling:\n",
        "   - The code uses the `sample` function from PyMC3 (`pm.sample`) to run Markov Chain Monte Carlo (MCMC) sampling to approximate the posterior distribution of the model parameters.\n",
        "   - The `sample` function is called with parameters `2000` (number of samples to draw) and `1000` (number of samples to discard as burn-in or tuning samples).\n",
        "\n",
        "5. Plotting the posterior distributions:\n",
        "   - The `plot_posterior` function from PyMC3 (`pm.plot_posterior`) is used to visualize the posterior distributions of the model parameters.\n",
        "   - The `trace` object, obtained from the MCMC sampling, is passed as input to the function.\n",
        "   - The `var_names` parameter is used to specify the variables (`slope`, `intercept`, and `sigma`) for which the posterior distributions should be plotted.\n",
        "\n",
        "The purpose of this code is to showcase how to use PyMC3 for Bayesian linear regression. It defines a model with prior distributions for the parameters, specifies the likelihood of the observations, performs MCMC sampling, and visualizes the posterior distributions of the parameters. Bayesian inference provides a probabilistic approach to estimating model parameters and quantifying uncertainty. The code demonstrates how to apply these concepts to linear regression modeling and visualize the posterior distributions using PyMC3."
      ],
      "metadata": {
        "id": "S9b3JQaopupN"
      }
    },
    {
      "cell_type": "markdown",
      "source": [
        "# **Gradient Descent algorithm and its variants**"
      ],
      "metadata": {
        "id": "sRiIUn9gsVM2"
      }
    },
    {
      "cell_type": "markdown",
      "source": [
        "Implementations of the Gradient Descent algorithm"
      ],
      "metadata": {
        "id": "s9oKZRF_s3x4"
      }
    },
    {
      "cell_type": "code",
      "source": [
        "# Number of epochs\n",
        "num_epochs = 1000\n",
        "\n",
        "# Learning Rate\n",
        "learning_rate = 0.01\n",
        "\n",
        "# SUBPLOT WEIGHT & BIAS VS lOSSES\n",
        "fig, (ax1, ax2) = plt.subplots(1, 2, sharey=True)\n",
        "\n",
        "for epoch in range(num_epochs):\n",
        "\t# Forward pass\n",
        "\ty_p = model(x)\n",
        "\tloss = Mean_Squared_Error(y_p, y)\n",
        "\n",
        "\t# Backproogation\n",
        "\t# Find the fradient using\n",
        "\tloss.backward()\n",
        "\n",
        "\t# Learning Rate\n",
        "\tlearning_rate = 0.001\n",
        "\n",
        "\t# Model Parameter\n",
        "\tw = model.linear.weight\n",
        "\tb = model.linear.bias\n",
        "\n",
        "\t# Matually Update the model parameter\n",
        "\tw = w - learning_rate * w.grad\n",
        "\tb = b - learning_rate * b.grad\n",
        "\n",
        "\t# assign the weight & bias parameter to the linear layer\n",
        "\tmodel.linear.weight = nn.Parameter(w)\n",
        "\tmodel.linear.bias = nn.Parameter(b)\n",
        "\n",
        "\tif (epoch+1) % 100 == 0:\n",
        "\t\tax1.plot(w.detach().numpy(),loss.item(),'r*-')\n",
        "\t\tax2.plot(b.detach().numpy(),loss.item(),'g+-')\n",
        "\t\tprint('Epoch [{}/{}], weight:{}, bias:{} Loss: {:.4f}'.format(\n",
        "\t\t\tepoch+1,num_epochs,\n",
        "\t\t\tw.detach().numpy(),\n",
        "\t\t\tb.detach().numpy(),\n",
        "\t\t\tloss.item()))\n",
        "\n",
        "ax1.set_xlabel('weight')\n",
        "ax2.set_xlabel('bias')\n",
        "ax1.set_ylabel('Loss')\n",
        "ax2.set_ylabel('Loss')\n",
        "plt.show()\n"
      ],
      "metadata": {
        "id": "CDvEdQcLpsqz"
      },
      "execution_count": null,
      "outputs": []
    },
    {
      "cell_type": "markdown",
      "source": [
        "The given code snippet shows the training process of a linear regression model for a specified number of epochs. It also visualizes the changes in weight and bias parameters over time using subplots.\n",
        "\n",
        "1. Number of epochs and learning rate:\n",
        "   - The variable `num_epochs` is set to 1000, indicating the number of training iterations.\n",
        "   - The variable `learning_rate` is set to 0.01, representing the step size for updating the model parameters.\n",
        "\n",
        "2. Subplot creation:\n",
        "   - The code creates a figure with two subplots using the `subplots` function from `matplotlib.pyplot`.\n",
        "   - The subplots are assigned to `ax1` and `ax2`, representing the weight and bias plots, respectively.\n",
        "   - The subplots share the same y-axis.\n",
        "\n",
        "3. Training loop:\n",
        "   - The code iterates over each epoch using a `for` loop.\n",
        "   - Forward pass: The model predicts the output (`y_p`) by passing the input (`x`) through the model.\n",
        "   - Loss calculation: The mean squared error loss is computed by comparing the predicted output with the true output (`y`).\n",
        "   - Backpropagation: The gradients of the loss with respect to the model parameters are computed using the `backward` method.\n",
        "   - Learning rate adjustment: The learning rate is manually set to 0.001.\n",
        "   - Model parameter update: The weight (`w`) and bias (`b`) parameters are updated using the learning rate and gradients.\n",
        "   - Plotting: Every 100 epochs, the weight, bias, and loss values are plotted on the corresponding subplots (`ax1` and `ax2`).\n",
        "   - Print progress: The current epoch, weight, bias, and loss values are printed.\n",
        "\n",
        "4. Subplot configuration and display:\n",
        "   - The x-axis labels for both subplots are set to 'weight' and 'bias', respectively.\n",
        "   - The y-axis labels are set to 'Loss' for both subplots.\n",
        "   - The `show` function is called to display the plot.\n",
        "\n",
        "The purpose of this code is to visualize the training process of a linear regression model by plotting the weight and bias values against the loss over the course of training. The loss represents the discrepancy between the model's predicted output and the true output. By observing the changes in weight and bias, it is possible to see how the model parameters are updated to minimize the loss and improve the model's fit to the data."
      ],
      "metadata": {
        "id": "ewV3sbMHtjCt"
      }
    },
    {
      "cell_type": "markdown",
      "source": [
        "SGD Implementation (SGD Implementation)"
      ],
      "metadata": {
        "id": "SaZWEiGXuGgL"
      }
    },
    {
      "cell_type": "code",
      "source": [
        "# Create random dataset with 100 rows and 5 columns\n",
        "X = np.random.randn(100, 5)\n",
        "# create corresponding target value by adding random\n",
        "# noise in the dataset\n",
        "y = np.dot(X, np.array([1, 2, 3, 4, 5]))\\\n",
        "\t+ np.random.randn(100) * 0.1\n",
        "# Create an instance of the SGD class\n",
        "model = SGD(lr=0.01, max_iter=1000,\n",
        "\t\t\tbatch_size=32, tol=1e-3)\n",
        "model.fit(X, y)\n",
        "# Predict using predict method from model\n",
        "y_pred = model.predict(X)\n"
      ],
      "metadata": {
        "id": "Ae8wI1C7tkkt"
      },
      "execution_count": null,
      "outputs": []
    },
    {
      "cell_type": "markdown",
      "source": [
        "The provided code snippet demonstrates the usage of Stochastic Gradient Descent (SGD) for training a model and making predictions on a random dataset. Here's an explanation of each part of the code and its purpose:\n",
        "\n",
        "1. Creating a random dataset:\n",
        "   - The code uses NumPy's `np.random.randn` function to generate a random dataset with 100 rows and 5 columns.\n",
        "   - The dataset is assigned to the variable `X`.\n",
        "\n",
        "2. Generating target values:\n",
        "   - The code creates corresponding target values (`y`) by taking the dot product of the dataset `X` with a coefficient vector `[1, 2, 3, 4, 5]` and adding random noise.\n",
        "   - The random noise is generated using `np.random.randn(100) * 0.1` and is multiplied by 0.1 to control the amount of noise.\n",
        "\n",
        "3. Creating an instance of the SGD class:\n",
        "   - The code creates an instance of the SGD class for training the model.\n",
        "   - The `SGD` class is assumed to be a custom implementation or from a library not explicitly mentioned in the code.\n",
        "   - The parameters passed to the `SGD` class are:\n",
        "     - `lr=0.01`: The learning rate or step size used in the SGD optimization algorithm.\n",
        "     - `max_iter=1000`: The maximum number of iterations or epochs to perform during training.\n",
        "     - `batch_size=32`: The batch size used for each iteration of SGD.\n",
        "     - `tol=1e-3`: The tolerance or convergence criterion to stop training when the change in the loss is below this threshold.\n",
        "\n",
        "4. Training the model:\n",
        "   - The `fit` method is called on the `model` object, using the dataset `X` and the target values `y` as parameters.\n",
        "   - This step trains the model using the SGD algorithm.\n",
        "\n",
        "5. Making predictions:\n",
        "   - The `predict` method is used on the `model` object to make predictions on the same dataset `X`.\n",
        "   - The predicted values are stored in the variable `y_pred`.\n",
        "\n",
        "The purpose of this code is to showcase the use of SGD for training a regression model on a randomly generated dataset. SGD is an optimization algorithm commonly used for large-scale machine learning tasks. It performs model updates based on a small batch of data at a time, allowing for efficient and iterative training. After training, the code makes predictions on the same dataset to evaluate the model's performance."
      ],
      "metadata": {
        "id": "PFhQ7CokuNTZ"
      }
    },
    {
      "cell_type": "markdown",
      "source": [
        "# **Adam_optimizer**"
      ],
      "metadata": {
        "id": "cxhynPAyvtIt"
      }
    },
    {
      "cell_type": "code",
      "source": [
        "```python\n",
        "import numpy as np\n",
        "\n",
        "def adam_optimizer(grad_func, initial_params, num_iterations, learning_rate=0.01, beta1=0.9, beta2=0.999, epsilon=1e-8):\n",
        "    \"\"\"\n",
        "    Adam Optimization Algorithm\n",
        "\n",
        "    Arguments:\n",
        "    grad_func -- a function that computes the gradient of the cost with respect to the parameters\n",
        "    initial_params -- numpy array of initial parameters\n",
        "    num_iterations -- number of iterations for optimization\n",
        "    learning_rate -- learning rate (default: 0.01)\n",
        "    beta1 -- exponential decay rate for the first moment estimates (default: 0.9)\n",
        "    beta2 -- exponential decay rate for the second moment estimates (default: 0.999)\n",
        "    epsilon -- small value to prevent division by zero (default: 1e-8)\n",
        "\n",
        "    Returns:\n",
        "    params -- optimized parameters\n",
        "    \"\"\"\n",
        "\n",
        "    # Initialize parameters\n",
        "    params = initial_params\n",
        "    num_params = len(params)\n",
        "    v = np.zeros(num_params)  # Initialize first moment vector\n",
        "    s = np.zeros(num_params)  # Initialize second moment vector\n",
        "\n",
        "    for t in range(1, num_iterations + 1):\n",
        "        # Compute gradient\n",
        "        gradients = grad_func(params)\n",
        "\n",
        "        # Update first moment estimate\n",
        "        v = beta1 * v + (1 - beta1) * gradients\n",
        "\n",
        "        # Update second moment estimate\n",
        "        s = beta2 * s + (1 - beta2) * (gradients ** 2)\n",
        "\n",
        "        # Bias correction\n",
        "        v_corrected = v / (1 - beta1 ** t)\n",
        "        s_corrected = s / (1 - beta2 ** t)\n",
        "\n",
        "        # Update parameters\n",
        "        params -= learning_rate * v_corrected / (np.sqrt(s_corrected) + epsilon)\n",
        "\n",
        "    return params"
      ],
      "metadata": {
        "id": "XZb6wTL0vqXC"
      },
      "execution_count": null,
      "outputs": []
    },
    {
      "cell_type": "markdown",
      "source": [
        "Certainly! Below is an implementation of the Adam optimization algorithm in Python, along with a detailed explanation of each step:\n",
        "\n",
        "\n",
        "Now let's go through the code and explain each step:\n",
        "\n",
        "1. The `adam_optimizer` function takes several arguments:\n",
        "   - `grad_func`: A function that computes the gradient of the cost with respect to the parameters. It should take the parameters as input and return the gradients.\n",
        "   - `initial_params`: A numpy array containing the initial parameters.\n",
        "   - `num_iterations`: The number of iterations to perform for optimization.\n",
        "   - `learning_rate`: The learning rate determines the step size for each parameter update. It's set to `0.01` by default.\n",
        "   - `beta1` and `beta2`: The exponential decay rates for the first and second moment estimates, respectively. They are set to `0.9` and `0.999` by default.\n",
        "   - `epsilon`: A small value added to the denominator to prevent division by zero. It's set to `1e-8` by default.\n",
        "\n",
        "2. Initialize the parameters:\n",
        "   - `params` stores the current parameters, which are initially set to `initial_params`.\n",
        "   - `num_params` is the number of parameters.\n",
        "   - `v` and `s` are the first and second moment vectors, respectively, and are initialized with zeros.\n",
        "\n",
        "3. Loop over the specified number of iterations (from 1 to `num_iterations`):\n",
        "   - Compute the gradients of the cost with respect to the parameters using the provided `grad_func`.\n",
        "\n",
        "4. Update the first moment estimate (`v`):\n",
        "   - Multiply the previous `v` by `beta1` and add the current gradients multiplied by `(1 - beta1)`. This step accumulates the exponentially decaying average of past gradients.\n",
        "\n",
        "5. Update the second moment estimate (`s`):\n",
        "   - Multiply the previous `s` by `beta2` and add the squared current gradients multiplied by `(1 - beta2)`. This step accumulates the exponentially decaying average of past squared gradients.\n",
        "\n",
        "6. Perform bias correction for both `v` and `s`:\n",
        "   - Divide `v` by `(1 - beta1^t)` and `s` by `(1 - beta2^t)` to correct for the initial bias of the estimates.\n",
        "\n",
        "7. Update the parameters:\n",
        "   - Subtract the learning rate multiplied by `v_corrected` divided by the square root of `s_corrected` plus `epsilon` from the current parameters. This step performs the actual parameter update using the Adam optimization formula.\n",
        "\n",
        "8. Repeat the above steps for the specified number of iterations.\n",
        "\n",
        "9. Return the optimized parameters.\n",
        "\n",
        "You can use this code by defining your own `grad_func` that computes the gradients of the cost function with respect to the parameters. Then, pass the necessary arguments to the `adam_optimizer` function to perform the optimization."
      ],
      "metadata": {
        "id": "MQJorGJ9v75v"
      }
    },
    {
      "cell_type": "markdown",
      "source": [
        "# **Momentum-based Optimization:**\n",
        "An Adaptive Optimization Algorithm uses exponentially weighted averages of gradients over previous iterations to stabilize the convergence, resulting in quicker optimization. For example, in most real-world applications of Deep Neural Networks, the training is carried out on noisy data. It is, therefore, necessary to reduce the effect of noise when the data are fed in batches during Optimization. This problem can be tackled using Exponentially Weighted Averages (or Exponentially Weighted Moving Averages).\n"
      ],
      "metadata": {
        "id": "AJn0SBa2wYnZ"
      }
    },
    {
      "cell_type": "code",
      "source": [
        "import math\n",
        "\n",
        "# HyperParameters of the optimization algorithm\n",
        "alpha = 0.01\n",
        "beta = 0.9\n",
        "\n",
        "# Objective function\n",
        "\n",
        "\n",
        "def obj_func(x):\n",
        "\treturn x * x - 4 * x + 4\n",
        "\n",
        "# Gradient of the objective function\n",
        "\n",
        "\n",
        "def grad(x):\n",
        "\treturn 2 * x - 4\n",
        "\n",
        "\n",
        "# Parameter of the objective function\n",
        "x = 0\n",
        "\n",
        "# Number of iterations\n",
        "iterations = 0\n",
        "\n",
        "v = 0\n",
        "\n",
        "while (1):\n",
        "\titerations += 1\n",
        "\tv = beta * v + (1 - beta) * grad(x)\n",
        "\n",
        "\tx_prev = x\n",
        "\n",
        "\tx = x - alpha * v\n",
        "\n",
        "\tprint(\"Value of objective function on iteration\", iterations, \"is\", x)\n",
        "\n",
        "\tif x_prev == x:\n",
        "\t\tprint(\"Done optimizing the objective function. \")\n",
        "\t\tbreak\n"
      ],
      "metadata": {
        "id": "AttSyMz0uMXh"
      },
      "execution_count": null,
      "outputs": []
    },
    {
      "cell_type": "markdown",
      "source": [
        "The given code snippet demonstrates an optimization algorithm using gradient descent with momentum. Here's an explanation of each part of the code and its purpose:\n",
        "\n",
        "1. Hyperparameters:\n",
        "   - The code sets the hyperparameters of the optimization algorithm:\n",
        "     - `alpha`: The learning rate or step size of the gradient descent update. It is set to 0.01.\n",
        "     - `beta`: The momentum term that controls the influence of the previous gradient direction on the current update. It is set to 0.9.\n",
        "\n",
        "2. Objective function:\n",
        "   - The code defines an objective function called `obj_func(x)` that takes a single parameter `x` and returns the value of the function `x^2 - 4x + 4`.\n",
        "   - The objective function represents the function being optimized.\n",
        "\n",
        "3. Gradient of the objective function:\n",
        "   - The code defines a gradient function called `grad(x)` that takes a single parameter `x` and returns the derivative of the objective function with respect to `x`.\n",
        "   - The gradient function represents the derivative or slope of the objective function.\n",
        "\n",
        "4. Initialization:\n",
        "   - The code initializes the parameter `x` of the objective function to 0.\n",
        "   - The variable `iterations` is initialized to 0 to keep track of the number of iterations.\n",
        "\n",
        "5. Momentum update loop:\n",
        "   - The code enters a while loop that continues until a convergence criterion is met.\n",
        "   - In each iteration, the momentum update is performed:\n",
        "     - The momentum `v` is updated using the momentum term `beta` and the gradient `grad(x)`.\n",
        "     - The previous value of `x` is stored in `x_prev`.\n",
        "     - The parameter `x` is updated using the momentum update rule: `x = x - alpha * v`.\n",
        "     - The updated value of `x` is printed.\n",
        "\n",
        "6. Convergence check:\n",
        "   - After each parameter update, the code checks if the value of `x_prev` is equal to the updated value of `x`.\n",
        "   - If they are equal, it means that the optimization has converged, and the loop is terminated.\n",
        "\n",
        "The purpose of this code is to optimize the given objective function using gradient descent with momentum. Gradient descent is an iterative optimization algorithm that aims to find the minimum of a function. The momentum term allows the algorithm to build up velocity in the direction of steepest descent, leading to faster convergence. The code repeatedly updates the parameter `x` based on the gradient and momentum, until convergence is achieved. The updated value of `x` is printed in each iteration, and the code terminates when convergence is detected."
      ],
      "metadata": {
        "id": "QCdl_q58w-AF"
      }
    },
    {
      "cell_type": "markdown",
      "source": [
        "# **Linear Regression model**"
      ],
      "metadata": {
        "id": "BvhM_DeQEfVq"
      }
    },
    {
      "cell_type": "code",
      "source": [
        "class LinearRegression:\n",
        "\tdef __init__(self):\n",
        "\t\tself.parameters = {}\n",
        "\n",
        "\tdef forward_propagation(self, train_input):\n",
        "\t\tm = self.parameters['m']\n",
        "\t\tc = self.parameters['c']\n",
        "\t\tpredictions = np.multiply(m, train_input) + c\n",
        "\t\treturn predictions\n",
        "\n",
        "\tdef cost_function(self, predictions, train_output):\n",
        "\t\tcost = np.mean((train_output - predictions) ** 2)\n",
        "\t\treturn cost\n",
        "\n",
        "\tdef backward_propagation(self, train_input, train_output, predictions):\n",
        "\t\tderivatives = {}\n",
        "\t\tdf = (train_output - predictions) * -1\n",
        "\t\tdm = np.mean(np.multiply(train_input, df))\n",
        "\t\tdc = np.mean(df)\n",
        "\t\tderivatives['dm'] = dm\n",
        "\t\tderivatives['dc'] = dc\n",
        "\t\treturn derivatives\n",
        "\n",
        "\tdef update_parameters(self, derivatives, learning_rate):\n",
        "\t\tself.parameters['m'] = self.parameters['m'] - learning_rate * derivatives['dm']\n",
        "\t\tself.parameters['c'] = self.parameters['c'] - learning_rate * derivatives['dc']\n",
        "\n",
        "\tdef train(self, train_input, train_output, learning_rate, iters):\n",
        "\t\t#initialize random parameters\n",
        "\t\tself.parameters['m'] = np.random.uniform(0,1) * -1\n",
        "\t\tself.parameters['c'] = np.random.uniform(0,1) * -1\n",
        "\n",
        "\t\t#initialize loss\n",
        "\t\tself.loss = []\n",
        "\n",
        "\t\t#iterate\n",
        "\t\tfor i in range(iters):\n",
        "\t\t\t#forward propagation\n",
        "\t\t\tpredictions = self.forward_propagation(train_input)\n",
        "\n",
        "\t\t\t#cost function\n",
        "\t\t\tcost = self.cost_function(predictions, train_output)\n",
        "\n",
        "\t\t\t#append loss and print\n",
        "\t\t\tself.loss.append(cost)\n",
        "\t\t\tprint(\"Iteration = {}, Loss = {}\".format(i+1, cost))\n",
        "\n",
        "\t\t\t#back propagation\n",
        "\t\t\tderivatives = self.backward_propagation(train_input, train_output, predictions)\n",
        "\n",
        "\t\t\t#update parameters\n",
        "\t\t\tself.update_parameters(derivatives, learning_rate)\n",
        "\n",
        "\t\treturn self.parameters, self.loss\n"
      ],
      "metadata": {
        "id": "yIeOsXF6w_yK"
      },
      "execution_count": null,
      "outputs": []
    },
    {
      "cell_type": "code",
      "source": [
        "#train tha model\n",
        "linear_reg = LinearRegression()\n",
        "parameters, loss = linear_reg.train(train_input, train_output, 0.0001, 20)\n"
      ],
      "metadata": {
        "id": "A9eIT0FCFJph"
      },
      "execution_count": null,
      "outputs": []
    },
    {
      "cell_type": "markdown",
      "source": [
        "The provided code snippet implements a simple linear regression model as a Python class. Here's an explanation of each part of the code and its purpose:\n",
        "\n",
        "1. Class Initialization:\n",
        "   - The `LinearRegression` class is defined with an empty `parameters` dictionary as an instance variable.\n",
        "\n",
        "2. Forward Propagation:\n",
        "   - The `forward_propagation` method takes the input data `train_input` and performs the forward propagation step of the linear regression model.\n",
        "   - It uses the parameters `m` and `c` from the `parameters` dictionary to compute the predictions.\n",
        "   - The predictions are calculated by multiplying `m` with `train_input` and adding `c`.\n",
        "\n",
        "3. Cost Function:\n",
        "   - The `cost_function` method takes the predictions and the actual output `train_output` and computes the cost or mean squared error (MSE) between them.\n",
        "   - The cost is calculated as the mean of the squared differences between `train_output` and `predictions`.\n",
        "\n",
        "4. Backward Propagation:\n",
        "   - The `backward_propagation` method takes the input data `train_input`, the actual output `train_output`, and the predictions.\n",
        "   - It computes the derivatives of the cost function with respect to the parameters (`dm` and `dc`).\n",
        "   - The derivatives are calculated based on the partial derivatives of the MSE loss function with respect to `m` and `c`.\n",
        "\n",
        "5. Update Parameters:\n",
        "   - The `update_parameters` method takes the derivatives and the learning rate as inputs.\n",
        "   - It updates the parameters `m` and `c` in the `parameters` dictionary using the learning rate and the derivatives.\n",
        "\n",
        "6. Training:\n",
        "   - The `train` method is used to train the linear regression model.\n",
        "   - It takes the input data `train_input`, the actual output `train_output`, the learning rate, and the number of iterations as inputs.\n",
        "   - Random initial values are assigned to `m` and `c` within a specified range.\n",
        "   - The method iterates over the specified number of iterations and performs the following steps:\n",
        "     - Forward propagation to obtain predictions.\n",
        "     - Calculation of the cost function and appending the cost to the `loss` list.\n",
        "     - Backward propagation to compute derivatives.\n",
        "     - Updating the parameters.\n",
        "     - Printing the iteration number and the current loss value.\n",
        "   - The trained parameters and the loss values are returned.\n",
        "\n",
        "The purpose of this code is to provide a basic implementation of a linear regression model. It allows for training the model, computing predictions, and evaluating the loss or cost during the training process. The class encapsulates the necessary functionalities for training and using a linear regression model, providing a reusable and modular structure."
      ],
      "metadata": {
        "id": "ypOHMP3lE6xi"
      }
    },
    {
      "cell_type": "markdown",
      "source": [
        "# **Gradient Descent **"
      ],
      "metadata": {
        "id": "zSV-afRVFlXq"
      }
    },
    {
      "cell_type": "code",
      "source": [
        "# Implementation of gradient descent in linear regression\n",
        "import numpy as np\n",
        "import matplotlib.pyplot as plt\n",
        "\n",
        "\n",
        "class Linear_Regression:\n",
        "\tdef __init__(self, X, Y):\n",
        "\t\tself.X = X\n",
        "\t\tself.Y = Y\n",
        "\t\tself.b = [0, 0]\n",
        "\n",
        "\tdef update_coeffs(self, learning_rate):\n",
        "\t\tY_pred = self.predict()\n",
        "\t\tY = self.Y\n",
        "\t\tm = len(Y)\n",
        "\t\tself.b[0] = self.b[0] - (learning_rate * ((1/m) *\n",
        "\t\t\t\t\t\t\t\t\t\t\t\tnp.sum(Y_pred - Y)))\n",
        "\n",
        "\t\tself.b[1] = self.b[1] - (learning_rate * ((1/m) *\n",
        "\t\t\t\t\t\t\t\t\t\t\t\tnp.sum((Y_pred - Y) * self.X)))\n",
        "\n",
        "\tdef predict(self, X=[]):\n",
        "\t\tY_pred = np.array([])\n",
        "\t\tif not X:\n",
        "\t\t\tX = self.X\n",
        "\t\tb = self.b\n",
        "\t\tfor x in X:\n",
        "\t\t\tY_pred = np.append(Y_pred, b[0] + (b[1] * x))\n",
        "\n",
        "\t\treturn Y_pred\n",
        "\n",
        "\tdef get_current_accuracy(self, Y_pred):\n",
        "\t\tp, e = Y_pred, self.Y\n",
        "\t\tn = len(Y_pred)\n",
        "\t\treturn 1-sum(\n",
        "\t\t\t[\n",
        "\t\t\t\tabs(p[i]-e[i])/e[i]\n",
        "\t\t\t\tfor i in range(n)\n",
        "\t\t\t\tif e[i] != 0]\n",
        "\t\t)/n\n",
        "\t# def predict(self, b, yi):\n",
        "\n",
        "\tdef compute_cost(self, Y_pred):\n",
        "\t\tm = len(self.Y)\n",
        "\t\tJ = (1 / 2*m) * (np.sum(Y_pred - self.Y)**2)\n",
        "\t\treturn J\n",
        "\n",
        "\tdef plot_best_fit(self, Y_pred, fig):\n",
        "\t\tf = plt.figure(fig)\n",
        "\t\tplt.scatter(self.X, self.Y, color='b')\n",
        "\t\tplt.plot(self.X, Y_pred, color='g')\n",
        "\t\tf.show()\n",
        "\n",
        "\n",
        "def main():\n",
        "\tX = np.array([i for i in range(11)])\n",
        "\tY = np.array([2*i for i in range(11)])\n",
        "\n",
        "\tregressor = Linear_Regression(X, Y)\n",
        "\n",
        "\titerations = 0\n",
        "\tsteps = 100\n",
        "\tlearning_rate = 0.01\n",
        "\tcosts = []\n",
        "\n",
        "\t# original best-fit line\n",
        "\tY_pred = regressor.predict()\n",
        "\tregressor.plot_best_fit(Y_pred, 'Initial Best Fit Line')\n",
        "\n",
        "\twhile 1:\n",
        "\t\tY_pred = regressor.predict()\n",
        "\t\tcost = regressor.compute_cost(Y_pred)\n",
        "\t\tcosts.append(cost)\n",
        "\t\tregressor.update_coeffs(learning_rate)\n",
        "\n",
        "\t\titerations += 1\n",
        "\t\tif iterations % steps == 0:\n",
        "\t\t\tprint(iterations, \"epochs elapsed\")\n",
        "\t\t\tprint(\"Current accuracy is :\",\n",
        "\t\t\t\tregressor.get_current_accuracy(Y_pred))\n",
        "\n",
        "\t\t\tstop = input(\"Do you want to stop (y/*)??\")\n",
        "\t\t\tif stop == \"y\":\n",
        "\t\t\t\tbreak\n",
        "\n",
        "\t# final best-fit line\n",
        "\tregressor.plot_best_fit(Y_pred, 'Final Best Fit Line')\n",
        "\n",
        "\t# plot to verify cost function decreases\n",
        "\th = plt.figure('Verification')\n",
        "\tplt.plot(range(iterations), costs, color='b')\n",
        "\th.show()\n",
        "\n",
        "\t# if user wants to predict using the regressor:\n",
        "\tregressor.predict([i for i in range(10)])\n",
        "\n",
        "\n",
        "if __name__ == '__main__':\n",
        "\tmain()\n"
      ],
      "metadata": {
        "id": "u4XMA4UjE8Z-"
      },
      "execution_count": null,
      "outputs": []
    },
    {
      "cell_type": "markdown",
      "source": [
        "The provided code implements linear regression using gradient descent to find the best-fit line for a given set of data points. Here's an explanation of each part of the code and its purpose:\n",
        "\n",
        "1. Class Initialization:\n",
        "   - The `Linear_Regression` class is defined to handle linear regression operations.\n",
        "   - The constructor `__init__` takes the input data `X` and the corresponding output data `Y` as parameters and initializes the coefficients `b` as `[0, 0]`.\n",
        "\n",
        "2. Coefficient Update:\n",
        "   - The `update_coeffs` method updates the coefficients `b` using gradient descent.\n",
        "   - It calculates the predicted values `Y_pred` using the current coefficients.\n",
        "   - It then updates the coefficients by subtracting the learning rate multiplied by the gradient of the cost function.\n",
        "\n",
        "3. Prediction:\n",
        "   - The `predict` method predicts the output values for the input data `X`.\n",
        "   - It takes an optional parameter `X` to allow predicting on new data if provided.\n",
        "   - It uses the coefficients `b` to calculate the predicted values.\n",
        "\n",
        "4. Accuracy Calculation:\n",
        "   - The `get_current_accuracy` method calculates the current accuracy of the model predictions.\n",
        "   - It takes the predicted values `Y_pred` and compares them to the true output values `Y`.\n",
        "   - It returns the percentage of accuracy based on the absolute difference between predicted and true values.\n",
        "\n",
        "5. Cost Function Calculation:\n",
        "   - The `compute_cost` method calculates the cost function.\n",
        "   - It takes the predicted values `Y_pred` and computes the mean squared error (MSE) cost.\n",
        "\n",
        "6. Best-Fit Line Plotting:\n",
        "   - The `plot_best_fit` method visualizes the best-fit line.\n",
        "   - It plots the original data points (`X` and `Y`) as scatter points and the predicted values `Y_pred` as a line.\n",
        "\n",
        "7. Main Function:\n",
        "   - The `main` function is the entry point of the program.\n",
        "   - It initializes the `Linear_Regression` object with input data `X` and output data `Y`.\n",
        "   - It sets the number of iterations (`steps`), learning rate, and an empty list for storing costs.\n",
        "   - It performs gradient descent iterations until the user decides to stop.\n",
        "   - In each iteration, it calculates the predicted values, computes the cost, updates the coefficients, and stores the cost in the list.\n",
        "   - After a certain number of iterations, it prints the current accuracy and asks the user whether to continue or stop.\n",
        "   - It plots the initial and final best-fit lines.\n",
        "   - Finally, it plots the cost function to verify that it decreases over iterations.\n",
        "\n",
        "The purpose of this code is to demonstrate the implementation of linear regression using gradient descent. It trains a model to find the best-fit line for a given set of data points and provides visualizations to show the convergence of the cost function and the resulting best-fit line."
      ],
      "metadata": {
        "id": "-gLgVEIkFyv_"
      }
    },
    {
      "cell_type": "markdown",
      "source": [
        "# **implementation of Normal Equation**"
      ],
      "metadata": {
        "id": "96K82GMQGVRi"
      }
    },
    {
      "cell_type": "code",
      "source": [
        "import numpy as np\n",
        "from sklearn.datasets import make_regression\n",
        "\n",
        "# Create data set.\n",
        "X, y = make_regression(n_samples=100, n_features=1,\n",
        "\t\t\t\t\tn_informative=1, noise=10, random_state=10)\n",
        "\n",
        "def linear_regression_normal_equation(X, y):\n",
        "\tX_transpose = np.transpose(X)\n",
        "\tX_transpose_X = np.dot(X_transpose, X)\n",
        "\tX_transpose_y = np.dot(X_transpose, y)\n",
        "\n",
        "\ttry:\n",
        "\t\ttheta = np.linalg.solve(X_transpose_X, X_transpose_y)\n",
        "\t\treturn theta\n",
        "\texcept np.linalg.LinAlgError:\n",
        "\t\treturn None\n",
        "\n",
        "\n",
        "# Add a column of ones to X for the intercept term\n",
        "X_with_intercept = np.c_[np.ones((X.shape[0], 1)), X]\n",
        "\n",
        "theta = linear_regression_normal_equation(X_with_intercept, y)\n",
        "if theta is not None:\n",
        "\tprint(theta)\n",
        "else:\n",
        "\tprint(\"Unable to compute theta. The matrix X_transpose_X is singular.\")\n"
      ],
      "metadata": {
        "id": "K7nsMWbwGXrR"
      },
      "execution_count": null,
      "outputs": []
    },
    {
      "cell_type": "markdown",
      "source": [
        "The provided code performs linear regression using the normal equation method. Here's an explanation of each part of the code and its purpose:\n",
        "\n",
        "1. Creating a Dataset:\n",
        "   - The code uses the `make_regression` function from `sklearn.datasets` to generate a synthetic regression dataset.\n",
        "   - The dataset is assigned to variables `X` and `y`, where `X` represents the input features, and `y` represents the corresponding target values.\n",
        "   - The generated dataset has 100 samples, 1 feature, 1 informative feature, 10 units of noise, and a random state of 10.\n",
        "\n",
        "2. Linear Regression with Normal Equation:\n",
        "   - The code defines a function called `linear_regression_normal_equation` that takes the input features `X` and target values `y` as parameters.\n",
        "   - The function computes the normal equation solution for linear regression.\n",
        "   - It first calculates the transpose of `X` and stores it in `X_transpose`.\n",
        "   - Then, it calculates the dot product of `X_transpose` and `X`, storing the result in `X_transpose_X`.\n",
        "   - Next, it calculates the dot product of `X_transpose` and `y`, storing the result in `X_transpose_y`.\n",
        "   - Finally, it attempts to solve the equation `X_transpose_X * theta = X_transpose_y` using `np.linalg.solve`.\n",
        "   - If the solution is successful, it returns the vector `theta`, which represents the learned coefficients for the linear regression model.\n",
        "   - If the matrix `X_transpose_X` is singular and the solution cannot be computed, it returns `None`.\n",
        "\n",
        "3. Adding Intercept Term:\n",
        "   - The code adds a column of ones to the matrix `X` to account for the intercept term in the linear regression model.\n",
        "   - It uses `np.c_` to concatenate an array of ones with `X`, resulting in `X_with_intercept`.\n",
        "\n",
        "4. Computing Theta:\n",
        "   - The code calls the `linear_regression_normal_equation` function, passing `X_with_intercept` and `y` as arguments.\n",
        "   - It assigns the returned value to the variable `theta`.\n",
        "\n",
        "5. Printing the Results:\n",
        "   - The code checks if `theta` is not `None`, indicating a successful computation of the coefficients.\n",
        "   - If `theta` is not `None`, it prints the learned coefficients.\n",
        "   - If `theta` is `None`, it prints a message indicating that the matrix `X_transpose_X` is singular, and the computation of `theta` is not possible.\n",
        "\n",
        "The purpose of this code is to demonstrate linear regression using the normal equation method. The normal equation provides a closed-form solution to calculate the optimal coefficients for a linear regression model. The code generates a synthetic dataset, adds an intercept term to the input features, computes the coefficients using the normal equation, and prints the results."
      ],
      "metadata": {
        "id": "kMChoSTmGlZs"
      }
    },
    {
      "cell_type": "markdown",
      "source": [
        "# **Implementation of Linear Regression**"
      ],
      "metadata": {
        "id": "Ot_jkpIcHHKT"
      }
    },
    {
      "cell_type": "code",
      "source": [
        "import numpy as np\n",
        "import matplotlib.pyplot as plt\n",
        "\n",
        "def estimate_coef(x, y):\n",
        "\t# number of observations/points\n",
        "\tn = np.size(x)\n",
        "\n",
        "\t# mean of x and y vector\n",
        "\tm_x = np.mean(x)\n",
        "\tm_y = np.mean(y)\n",
        "\n",
        "\t# calculating cross-deviation and deviation about x\n",
        "\tSS_xy = np.sum(y*x) - n*m_y*m_x\n",
        "\tSS_xx = np.sum(x*x) - n*m_x*m_x\n",
        "\n",
        "\t# calculating regression coefficients\n",
        "\tb_1 = SS_xy / SS_xx\n",
        "\tb_0 = m_y - b_1*m_x\n",
        "\n",
        "\treturn (b_0, b_1)\n",
        "\n",
        "def plot_regression_line(x, y, b):\n",
        "\t# plotting the actual points as scatter plot\n",
        "\tplt.scatter(x, y, color = \"m\",\n",
        "\t\t\tmarker = \"o\", s = 30)\n",
        "\n",
        "\t# predicted response vector\n",
        "\ty_pred = b[0] + b[1]*x\n",
        "\n",
        "\t# plotting the regression line\n",
        "\tplt.plot(x, y_pred, color = \"g\")\n",
        "\n",
        "\t# putting labels\n",
        "\tplt.xlabel('x')\n",
        "\tplt.ylabel('y')\n",
        "\n",
        "\t# function to show plot\n",
        "\tplt.show()\n",
        "\n",
        "def main():\n",
        "\t# observations / data\n",
        "\tx = np.array([0, 1, 2, 3, 4, 5, 6, 7, 8, 9])\n",
        "\ty = np.array([1, 3, 2, 5, 7, 8, 8, 9, 10, 12])\n",
        "\n",
        "\t# estimating coefficients\n",
        "\tb = estimate_coef(x, y)\n",
        "\tprint(\"Estimated coefficients:\\nb_0 = {} \\\n",
        "\t\t\\nb_1 = {}\".format(b[0], b[1]))\n",
        "\n",
        "\t# plotting regression line\n",
        "\tplot_regression_line(x, y, b)\n",
        "\n",
        "if __name__ == \"__main__\":\n",
        "\tmain()\n"
      ],
      "metadata": {
        "id": "PEEZdD0RGwZn"
      },
      "execution_count": null,
      "outputs": []
    },
    {
      "cell_type": "markdown",
      "source": [
        "The provided code performs simple linear regression using the method of least squares. Here's an explanation of each part of the code and its purpose:\n",
        "\n",
        "1. Estimating Coefficients:\n",
        "   - The `estimate_coef` function takes the input array `x` and output array `y` as parameters.\n",
        "   - It calculates the regression coefficients (`b_0` and `b_1`) using the formulas based on the least squares method.\n",
        "   - The calculations involve the means of `x` and `y`, as well as the cross-deviation and deviation about `x`.\n",
        "   - The calculated coefficients are returned.\n",
        "\n",
        "2. Plotting the Regression Line:\n",
        "   - The `plot_regression_line` function takes the input array `x`, output array `y`, and the estimated coefficients `b` as parameters.\n",
        "   - It creates a scatter plot of the actual points using `plt.scatter`.\n",
        "   - It calculates the predicted response vector `y_pred` using the estimated coefficients and the input array `x`.\n",
        "   - It plots the regression line by connecting the points `(x, y_pred)` using `plt.plot`.\n",
        "   - It sets the labels for the x-axis and y-axis using `plt.xlabel` and `plt.ylabel`.\n",
        "   - Finally, it shows the plot using `plt.show`.\n",
        "\n",
        "3. Main Function:\n",
        "   - The `main` function is the entry point of the program.\n",
        "   - It defines the observations/data as numpy arrays `x` and `y`.\n",
        "   - It calls the `estimate_coef` function to calculate the regression coefficients `b`.\n",
        "   - It prints the estimated coefficients.\n",
        "   - It calls the `plot_regression_line` function to plot the regression line.\n",
        "\n",
        "The purpose of this code is to demonstrate simple linear regression using the least squares method. It takes a set of input-output pairs (`x` and `y` arrays), estimates the coefficients for the best-fit line, and visualizes the regression line along with the actual data points. The code provides a basic understanding of how to calculate and visualize linear regression using numpy and matplotlib."
      ],
      "metadata": {
        "id": "jFxnGqGnHSvg"
      }
    },
    {
      "cell_type": "markdown",
      "source": [
        "# **multiple linear regression techniques**"
      ],
      "metadata": {
        "id": "deF87PqaG3Ok"
      }
    },
    {
      "cell_type": "code",
      "source": [
        "from sklearn.model_selection import train_test_split\n",
        "import matplotlib.pyplot as plt\n",
        "import numpy as np\n",
        "from sklearn import datasets, linear_model, metrics\n",
        "\n",
        "# load the boston dataset\n",
        "data_url = \"http://lib.stat.cmu.edu/datasets/boston\"\n",
        "raw_df = pd.read_csv(data_url, sep=\"\\s+\",\n",
        "\t\t\t\t\tskiprows=22, header=None)\n",
        "X = np.hstack([raw_df.values[::2, :],\n",
        "\t\t\traw_df.values[1::2, :2]])\n",
        "y = raw_df.values[1::2, 2]\n",
        "\n",
        "# splitting X and y into training and testing sets\n",
        "X_train, X_test,\\\n",
        "\ty_train, y_test = train_test_split(X, y,\n",
        "\t\t\t\t\t\t\t\t\ttest_size=0.4,\n",
        "\t\t\t\t\t\t\t\t\trandom_state=1)\n",
        "\n",
        "# create linear regression object\n",
        "reg = linear_model.LinearRegression()\n",
        "\n",
        "# train the model using the training sets\n",
        "reg.fit(X_train, y_train)\n",
        "\n",
        "# regression coefficients\n",
        "print('Coefficients: ', reg.coef_)\n",
        "\n",
        "# variance score: 1 means perfect prediction\n",
        "print('Variance score: {}'.format(reg.score(X_test, y_test)))\n",
        "\n",
        "# plot for residual error\n",
        "\n",
        "# setting plot style\n",
        "plt.style.use('fivethirtyeight')\n",
        "\n",
        "# plotting residual errors in training data\n",
        "plt.scatter(reg.predict(X_train),\n",
        "\t\t\treg.predict(X_train) - y_train,\n",
        "\t\t\tcolor=\"green\", s=10,\n",
        "\t\t\tlabel='Train data')\n",
        "\n",
        "# plotting residual errors in test data\n",
        "plt.scatter(reg.predict(X_test),\n",
        "\t\t\treg.predict(X_test) - y_test,\n",
        "\t\t\tcolor=\"blue\", s=10,\n",
        "\t\t\tlabel='Test data')\n",
        "\n",
        "# plotting line for zero residual error\n",
        "plt.hlines(y=0, xmin=0, xmax=50, linewidth=2)\n",
        "\n",
        "# plotting legend\n",
        "plt.legend(loc='upper right')\n",
        "\n",
        "# plot title\n",
        "plt.title(\"Residual errors\")\n",
        "\n",
        "# method call for showing the plot\n",
        "plt.show()\n"
      ],
      "metadata": {
        "id": "aa2uz6xRG4J2"
      },
      "execution_count": null,
      "outputs": []
    },
    {
      "cell_type": "markdown",
      "source": [
        "The provided code demonstrates the use of linear regression from scikit-learn library to analyze the Boston Housing dataset. Here's an explanation of each part of the code and its purpose:\n",
        "\n",
        "1. Data Loading and Preparation:\n",
        "   - The code loads the Boston dataset from a given URL using the `read_csv` function from pandas library.\n",
        "   - The dataset is split into two parts: the even-indexed rows for the input features (`X`) and the odd-indexed rows for the target variable (`y`).\n",
        "   - The input features are constructed by concatenating two subsets of the dataset: the even-indexed rows for all columns and the odd-indexed rows for the first two columns.\n",
        "\n",
        "2. Data Splitting:\n",
        "   - The code splits the dataset into training and testing sets using the `train_test_split` function from scikit-learn.\n",
        "   - The input features (`X`) and the target variable (`y`) are split into `X_train`, `X_test`, `y_train`, and `y_test` respectively.\n",
        "   - The testing set size is set to 40% of the whole dataset, and a random state of 1 is used for reproducibility.\n",
        "\n",
        "3. Linear Regression Model:\n",
        "   - The code creates a linear regression object using `linear_model.LinearRegression()`.\n",
        "   - This object will be used to train the linear regression model.\n",
        "\n",
        "4. Model Training:\n",
        "   - The code trains the linear regression model using the training sets (`X_train` and `y_train`) by calling the `fit` method on the linear regression object.\n",
        "\n",
        "5. Regression Coefficients:\n",
        "   - The code prints the coefficients of the trained linear regression model using the `coef_` attribute of the linear regression object.\n",
        "\n",
        "6. Variance Score:\n",
        "   - The code calculates the variance score of the trained linear regression model on the testing set (`X_test` and `y_test`) using the `score` method of the linear regression object.\n",
        "   - The variance score is a measure of how well the model fits the testing data. A score of 1 indicates a perfect prediction.\n",
        "\n",
        "7. Residual Error Plot:\n",
        "   - The code creates a residual error plot to analyze the performance of the linear regression model.\n",
        "   - It plots the residual errors (difference between predicted and actual values) for both the training and testing data points.\n",
        "   - A horizontal line is drawn at y=0 to indicate zero residual error.\n",
        "   - The plot is displayed with a title and legend.\n",
        "\n",
        "The purpose of this code is to demonstrate the use of linear regression for analyzing the Boston Housing dataset. It showcases various steps, including data loading, data splitting, model training, coefficient estimation, variance score calculation, and residual error plot visualization. The code provides insights into the model's performance and residual errors, aiding in the evaluation and interpretation of the linear regression results."
      ],
      "metadata": {
        "id": "dLAnTZzbHr6h"
      }
    },
    {
      "cell_type": "markdown",
      "source": [
        "# **Full Implementation of univariate using Python **"
      ],
      "metadata": {
        "id": "jzrb9WG0Ia7h"
      }
    },
    {
      "cell_type": "code",
      "source": [
        "class LinearRegressor:\n",
        "\tdef __init__(self, x, y, alpha=0.01, b0=0, b1=0):\n",
        "\t\t\"\"\"\n",
        "\t\t\tx: input feature\n",
        "\t\t\ty: result / target\n",
        "\t\t\talpha: learning rate, default is 0.01\n",
        "\t\t\tb0, b1: linear regression coefficient.\n",
        "\t\t\"\"\"\n",
        "\t\tself.i = 0\n",
        "\t\tself.x = x\n",
        "\t\tself.y = y\n",
        "\t\tself.alpha = alpha\n",
        "\t\tself.b0 = b0\n",
        "\t\tself.b1 = b1\n",
        "\t\tif len(x) != len(y):\n",
        "\t\t\traise TypeError(\"\"\"x and y should have same number of rows.\"\"\")\n",
        "\n",
        "\tdef predict(model, x):\n",
        "\t\t\"\"\"Predicts the value of prediction based on\n",
        "\t\tcurrent value of regression coefficients\n",
        "\t\twhen input is x\"\"\"\n",
        "\t\treturn model.b0 + model.b1 * x\n",
        "\n",
        "\tdef grad_fun(model, i):\n",
        "\t\tx, y, b0, b1 = model.x, model.y, model.b0, model.b1\n",
        "\t\tpredict = model.predict\n",
        "\t\treturn sum([\n",
        "\t\t\t2 * (predict(xi) - yi) * 1\n",
        "\t\t\tif i == 0\n",
        "\t\t\telse (predict(xi) - yi) * xi\n",
        "\t\t\tfor xi, yi in zip(x, y)\n",
        "\t\t]) / len(x)\n",
        "\n",
        "\tdef update_coeff(model, i):\n",
        "\t\tcost_derivative = model.cost_derivative\n",
        "\t\tif i == 0:\n",
        "\t\t\tmodel.b0 -= model.alpha * cost_derivative(i)\n",
        "\t\telif i == 1:\n",
        "\t\t\tmodel.b1 -= model.alpha * cost_derivative(i)\n",
        "\n",
        "\tdef stop_iteration(model, max_epochs=1000):\n",
        "\t\tmodel.i += 1\n",
        "\t\tif model.i == max_epochs:\n",
        "\t\t\treturn True\n",
        "\t\telse:\n",
        "\t\t\treturn False\n",
        "\n",
        "\tdef fit(model):\n",
        "\t\tupdate_coeff = model.update_coeff\n",
        "\t\tmodel.i = 0\n",
        "\t\twhile True:\n",
        "\t\t\tif model.stop_iteration():\n",
        "\t\t\t\tbreak\n",
        "\t\t\telse:\n",
        "\t\t\t\tupdate_coeff(0)\n",
        "\t\t\t\tupdate_coeff(1)\n"
      ],
      "metadata": {
        "id": "GFVzJuYlHtrt"
      },
      "execution_count": null,
      "outputs": []
    },
    {
      "cell_type": "markdown",
      "source": [
        "The given code represents a simple implementation of linear regression using gradient descent. Here's an explanation of each part of the code and its purpose:\n",
        "\n",
        "1. Class Initialization:\n",
        "   - The `LinearRegressor` class is defined to handle linear regression operations.\n",
        "   - The constructor `__init__` takes the input feature `x`, target variable `y`, learning rate `alpha`, and initial regression coefficients `b0` and `b1`.\n",
        "   - It initializes instance variables to store the current iteration, input feature, target variable, learning rate, and regression coefficients.\n",
        "   - It also checks if the lengths of `x` and `y` are the same to ensure the correctness of the data.\n",
        "\n",
        "2. Prediction:\n",
        "   - The `predict` method takes an input value `x` and predicts the corresponding target value based on the current regression coefficients.\n",
        "   - It calculates the prediction using the linear regression equation `b0 + b1 * x`.\n",
        "\n",
        "3. Gradient Calculation:\n",
        "   - The `grad_fun` method calculates the gradient of the cost function with respect to the regression coefficients.\n",
        "   - It takes the instance variables `x`, `y`, `b0`, `b1`, and `predict` as inputs.\n",
        "   - It uses a list comprehension to iterate over the data points and calculates the partial derivatives of the cost function with respect to `b0` and `b1`.\n",
        "   - The gradient is then averaged over all data points.\n",
        "\n",
        "4. Coefficient Update:\n",
        "   - The `update_coeff` method updates the regression coefficients based on the calculated gradient.\n",
        "   - It takes an index `i` to indicate whether to update `b0` or `b1`.\n",
        "   - It uses the `cost_derivative` method (not shown in the code) to get the derivative of the cost function with respect to the corresponding coefficient.\n",
        "   - The coefficients are updated using the gradient descent update rule.\n",
        "\n",
        "5. Stopping Criteria:\n",
        "   - The `stop_iteration` method checks if the maximum number of iterations (`max_epochs`) has been reached.\n",
        "   - It increments the iteration count (`model.i`) and returns `True` if the count is equal to `max_epochs`, indicating that the maximum iterations have been reached.\n",
        "   - Otherwise, it returns `False`, indicating that the iterations should continue.\n",
        "\n",
        "6. Model Training:\n",
        "   - The `fit` method trains the linear regression model using gradient descent.\n",
        "   - It calls the `update_coeff` method iteratively until the stopping criteria is met.\n",
        "   - In each iteration, it updates both `b0` and `b1` by calling `update_coeff` with the corresponding index.\n",
        "\n",
        "The purpose of this code is to provide a basic implementation of linear regression using gradient descent"
      ],
      "metadata": {
        "id": "mzcyBtZrIlG9"
      }
    },
    {
      "cell_type": "markdown",
      "source": [
        "# **Polynomial Regression**"
      ],
      "metadata": {
        "id": "Snya4LRyKMgc"
      }
    },
    {
      "cell_type": "code",
      "source": [
        "# Fitting Polynomial Regression to the dataset\n",
        "from sklearn.preprocessing import PolynomialFeatures\n",
        "\n",
        "poly = PolynomialFeatures(degree=4)\n",
        "X_poly = poly.fit_transform(X)\n",
        "\n",
        "poly.fit(X_poly, y)\n",
        "lin2 = LinearRegression()\n",
        "lin2.fit(X_poly, y)\n"
      ],
      "metadata": {
        "id": "_mN77RwXJKwn"
      },
      "execution_count": null,
      "outputs": []
    },
    {
      "cell_type": "markdown",
      "source": [
        "The given code performs polynomial regression by fitting a polynomial function to the dataset. Here's an explanation of each part of the code and its purpose:\n",
        "\n",
        "1. Importing Libraries:\n",
        "   - The code imports the necessary libraries for performing polynomial regression.\n",
        "   - It uses the `PolynomialFeatures` class from `sklearn.preprocessing` to generate polynomial features.\n",
        "   - It also imports the `LinearRegression` class from `sklearn.linear_model` to perform linear regression.\n",
        "\n",
        "2. Generating Polynomial Features:\n",
        "   - The code creates an instance of the `PolynomialFeatures` class with a specified degree (e.g., 4) using `poly = PolynomialFeatures(degree=4)`.\n",
        "   - It transforms the original input feature `X` into a new feature matrix `X_poly` containing polynomial features using `X_poly = poly.fit_transform(X)`.\n",
        "   - The `fit_transform` method fits the polynomial features to the data and transforms the data accordingly.\n",
        "\n",
        "3. Fitting Polynomial Features to the Target Variable:\n",
        "   - The code fits the polynomial features `X_poly` to the target variable `y` using `poly.fit(X_poly, y)`.\n",
        "   - This step calculates and stores the required information about the polynomial features.\n",
        "\n",
        "4. Performing Linear Regression on Polynomial Features:\n",
        "   - The code creates an instance of the `LinearRegression` class using `lin2 = LinearRegression()`.\n",
        "   - It fits the polynomial features `X_poly` and the target variable `y` to the linear regression model using `lin2.fit(X_poly, y)`.\n",
        "   - This step trains the linear regression model to find the optimal coefficients for the polynomial function.\n",
        "\n",
        "The purpose of this code is to demonstrate polynomial regression by fitting a polynomial function to the dataset. It involves generating polynomial features from the original input feature, fitting the polynomial features to the target variable, and performing linear regression on the transformed data. Polynomial regression can capture nonlinear relationships between the input feature and the target variable by introducing higher-order terms. The degree of the polynomial can be adjusted to find the best fit for the data."
      ],
      "metadata": {
        "id": "eH10xE0iKTc6"
      }
    },
    {
      "cell_type": "markdown",
      "source": [
        "# **logestic regression**"
      ],
      "metadata": {
        "id": "Qgtf8B_eKxmj"
      }
    },
    {
      "cell_type": "code",
      "source": [
        "from sklearn.linear_model import LogisticRegression\n",
        "\n",
        "classifier = LogisticRegression(random_state = 0)\n",
        "classifier.fit(xtrain, ytrain)\n",
        "y_pred = classifier.predict(xtest)\n"
      ],
      "metadata": {
        "id": "93iavfDJLnWm"
      },
      "execution_count": null,
      "outputs": []
    },
    {
      "cell_type": "markdown",
      "source": [
        "The provided code demonstrates the use of logistic regression for classification using the `LogisticRegression` class from scikit-learn. Here's an explanation of each part of the code and its purpose:\n",
        "\n",
        "1. Importing Libraries:\n",
        "   - The code imports the `LogisticRegression` class from `sklearn.linear_model`.\n",
        "   - The `LogisticRegression` class is used to perform logistic regression for classification problems.\n",
        "\n",
        "2. Creating and Training the Classifier:\n",
        "   - The code creates an instance of the `LogisticRegression` class with a specified random state (e.g., 0) using `classifier = LogisticRegression(random_state=0)`.\n",
        "   - The `random_state` parameter is set to ensure reproducibility of the results.\n",
        "   - It then trains the logistic regression classifier using the training data `xtrain` and the corresponding target variable `ytrain` using `classifier.fit(xtrain, ytrain)`.\n",
        "   - This step estimates the coefficients of the logistic regression model based on the training data.\n",
        "\n",
        "3. Making Predictions:\n",
        "   - The code uses the trained classifier to make predictions on the test data `xtest` using `y_pred = classifier.predict(xtest)`.\n",
        "   - The `predict` method of the `LogisticRegression` object is used to predict the class labels for the test data based on the learned logistic regression model.\n",
        "\n",
        "The purpose of this code is to demonstrate logistic regression for classification tasks using the `LogisticRegression` class. Logistic regression is a commonly used algorithm for binary classification, where the goal is to predict one of two possible classes based on input features. The code shows how to create a logistic regression classifier, train it on the training data, and use it to make predictions on the test data. The predicted class labels are stored in `y_pred`, which can be used for further evaluation or analysis."
      ],
      "metadata": {
        "id": "m0sdv9JIL8WA"
      }
    },
    {
      "cell_type": "markdown",
      "source": [
        "# **StandardScaler**"
      ],
      "metadata": {
        "id": "bFQEhwIjL3hw"
      }
    },
    {
      "cell_type": "code",
      "source": [
        "from sklearn.preprocessing import StandardScaler\n",
        "\n",
        "sc_x = StandardScaler()\n",
        "xtrain = sc_x.fit_transform(xtrain)\n",
        "xtest = sc_x.transform(xtest)\n",
        "\n",
        "print (xtrain[0:10, :])\n"
      ],
      "metadata": {
        "id": "TtfUhz-pKuxm"
      },
      "execution_count": null,
      "outputs": []
    },
    {
      "cell_type": "markdown",
      "source": [
        "The provided code demonstrates the use of the StandardScaler class from scikit-learn to standardize the features of a dataset. Here's an explanation of each part of the code and its purpose:\n",
        "\n",
        "Importing Libraries:\n",
        "\n",
        "The code imports the StandardScaler class from sklearn.preprocessing.\n",
        "The StandardScaler class is used to perform feature scaling by standardizing the features.\n",
        "Standardizing the Training Data:\n",
        "\n",
        "The code creates an instance of the StandardScaler class using sc_x = StandardScaler().\n",
        "It then applies the fit_transform method of the StandardScaler object to the training data xtrain.\n",
        "This method computes the mean and standard deviation of each feature in the training data and then scales the data using these statistics.\n",
        "The result is stored in the xtrain variable, overwriting the original values.\n",
        "Standardizing the Test Data:\n",
        "\n",
        "The code applies the transform method of the StandardScaler object to the test data xtest.\n",
        "The transform method uses the mean and standard deviation computed from the training data to scale the test data.\n",
        "The result is stored in the xtest variable, representing the standardized test data.\n",
        "Printing Standardized Training Data:\n",
        "\n",
        "The code prints the first 10 rows of the standardized training data using print(xtrain[0:10, :]).\n",
        "The purpose of this code is to standardize the features of the dataset using the StandardScaler class. Standardization is a common preprocessing step in machine learning that transforms the data to have zero mean and unit variance. This is done by subtracting the mean and dividing by the standard deviation of each feature. Standardization helps to bring all features to a similar scale, which can improve the performance of certain machine learning algorithms and make the data more interpretable. The code demonstrates how to use the StandardScaler class to perform feature scaling and provides an example of printing the standardized training data."
      ],
      "metadata": {
        "id": "DgIrv-x1KYCX"
      }
    },
    {
      "cell_type": "markdown",
      "source": [
        "# **Binomial Logistic regression: **\n"
      ],
      "metadata": {
        "id": "9wwyoQ-MMRdf"
      }
    },
    {
      "cell_type": "code",
      "source": [
        "# import the necessary libraries\n",
        "from sklearn.datasets import load_breast_cancer\n",
        "from sklearn.linear_model import LogisticRegression\n",
        "from sklearn.model_selection import train_test_split\n",
        "from sklearn.metrics import accuracy_score\n",
        "# load the breast cancer dataset\n",
        "X, y = load_breast_cancer(return_X_y=True)\n",
        "# split the train and test dataset\n",
        "X_train, X_test,\\\n",
        "\ty_train, y_test = train_test_split(X, y,\n",
        "\t\t\t\t\t\t\t\t\ttest_size=0.20,\n",
        "\t\t\t\t\t\t\t\t\trandom_state=23)\n",
        "# LogisticRegression\n",
        "clf = LogisticRegression(random_state=0)\n",
        "clf.fit(X_train, y_train)\n",
        "# Prediction\n",
        "y_pred = clf.predict(X_test)\n",
        "\n",
        "acc = accuracy_score(y_test, y_pred)\n",
        "print(\"Logistic Regression model accuracy (in %):\", acc*100)\n",
        "\n",
        "\n",
        "Output:\n",
        "\n",
        "Logistic Regression model accuracy (in %): 95.6140350877193\n",
        "\n"
      ],
      "metadata": {
        "id": "lFEHM-5wLbAk"
      },
      "execution_count": null,
      "outputs": []
    },
    {
      "cell_type": "markdown",
      "source": [
        "The given code demonstrates the use of logistic regression for binary classification using the breast cancer dataset from scikit-learn. Here's an explanation of each part of the code and its purpose:\n",
        "\n",
        "1. Importing Libraries:\n",
        "   - The code imports the necessary libraries required for logistic regression, dataset loading, train-test splitting, and performance evaluation.\n",
        "   - It imports `load_breast_cancer` from `sklearn.datasets` to load the breast cancer dataset.\n",
        "   - It imports `LogisticRegression` from `sklearn.linear_model` for logistic regression.\n",
        "   - It imports `train_test_split` from `sklearn.model_selection` to split the dataset into train and test sets.\n",
        "   - It imports `accuracy_score` from `sklearn.metrics` to evaluate the accuracy of the logistic regression model.\n",
        "\n",
        "2. Loading and Splitting the Dataset:\n",
        "   - The code loads the breast cancer dataset using `load_breast_cancer(return_X_y=True)`.\n",
        "   - It assigns the features to `X` and the target variable to `y`.\n",
        "\n",
        "3. Train-Test Split:\n",
        "   - The code splits the dataset into training and testing sets using `train_test_split(X, y, test_size=0.20, random_state=23)`.\n",
        "   - It assigns the training features to `X_train`, training labels to `y_train`, testing features to `X_test`, and testing labels to `y_test`.\n",
        "   - The `test_size` parameter specifies the proportion of the dataset to be used for testing (20% in this case).\n",
        "\n",
        "4. Logistic Regression Model:\n",
        "   - The code creates an instance of the `LogisticRegression` class with a specified random state (e.g., 0) using `clf = LogisticRegression(random_state=0)`.\n",
        "   - The `random_state` parameter is set for reproducibility.\n",
        "   - It fits the logistic regression model to the training data using `clf.fit(X_train, y_train)`.\n",
        "\n",
        "5. Prediction and Accuracy:\n",
        "   - The code uses the trained logistic regression model to make predictions on the test data using `y_pred = clf.predict(X_test)`.\n",
        "   - It evaluates the accuracy of the model by comparing the predicted labels `y_pred` with the true labels `y_test` using `accuracy_score`.\n",
        "   - The accuracy score is multiplied by 100 and printed as a percentage using `print(\"Logistic Regression model accuracy (in %):\", acc*100)`.\n",
        "\n",
        "The purpose of this code is to demonstrate the use of logistic regression for binary classification on the breast cancer dataset. It showcases the process of loading the dataset, splitting it into training and testing sets, fitting the logistic regression model, making predictions, and evaluating the accuracy of the model. The accuracy score indicates the percentage of correctly classified instances in the test set."
      ],
      "metadata": {
        "id": "70_Tx0IXMn1L"
      }
    },
    {
      "cell_type": "markdown",
      "source": [
        "# **multinomial logestic regression**"
      ],
      "metadata": {
        "id": "ZnNRh-TOMtWa"
      }
    },
    {
      "cell_type": "code",
      "source": [
        "from sklearn.model_selection import train_test_split\n",
        "from sklearn import datasets, linear_model, metrics\n",
        "\n",
        "# load the digit dataset\n",
        "digits = datasets.load_digits()\n",
        "\n",
        "# defining feature matrix(X) and response vector(y)\n",
        "X = digits.data\n",
        "y = digits.target\n",
        "\n",
        "# splitting X and y into training and testing sets\n",
        "X_train, X_test,\\\n",
        "\ty_train, y_test = train_test_split(X, y,\n",
        "\t\t\t\t\t\t\t\t\ttest_size=0.4,\n",
        "\t\t\t\t\t\t\t\t\trandom_state=1)\n",
        "\n",
        "# create logistic regression object\n",
        "reg = linear_model.LogisticRegression()\n",
        "\n",
        "# train the model using the training sets\n",
        "reg.fit(X_train, y_train)\n",
        "\n",
        "# making predictions on the testing set\n",
        "y_pred = reg.predict(X_test)\n",
        "\n",
        "# comparing actual response values (y_test)\n",
        "# with predicted response values (y_pred)\n",
        "print(\"Logistic Regression model accuracy(in %):\",\n",
        "\tmetrics.accuracy_score(y_test, y_pred)*100)\n",
        "\n",
        "output:\n",
        "\n",
        "Logistic Regression model accuracy(in %): 96.52294853963839\n"
      ],
      "metadata": {
        "id": "bRtRyPHkM6St"
      },
      "execution_count": null,
      "outputs": []
    },
    {
      "cell_type": "markdown",
      "source": [
        "The provided code demonstrates the use of logistic regression for multi-class classification on the digit dataset from scikit-learn. Here's an explanation of each part of the code and its purpose:\n",
        "\n",
        "1. Importing Libraries:\n",
        "   - The code imports the necessary libraries required for logistic regression, dataset loading, train-test splitting, and performance evaluation.\n",
        "   - It imports `train_test_split` from `sklearn.model_selection` to split the dataset into train and test sets.\n",
        "   - It imports `datasets` from `sklearn` to load the digit dataset.\n",
        "   - It imports `linear_model` from `sklearn` to create a logistic regression object.\n",
        "   - It imports `metrics` from `sklearn` to calculate accuracy.\n",
        "\n",
        "2. Loading and Splitting the Dataset:\n",
        "   - The code loads the digit dataset using `datasets.load_digits()`.\n",
        "   - It assigns the features to `X` and the target variable to `y`.\n",
        "\n",
        "3. Train-Test Split:\n",
        "   - The code splits the dataset into training and testing sets using `train_test_split(X, y, test_size=0.4, random_state=1)`.\n",
        "   - It assigns the training features to `X_train`, training labels to `y_train`, testing features to `X_test`, and testing labels to `y_test`.\n",
        "   - The `test_size` parameter specifies the proportion of the dataset to be used for testing (40% in this case).\n",
        "\n",
        "4. Logistic Regression Model:\n",
        "   - The code creates an instance of the `LogisticRegression` class using `linear_model.LogisticRegression()`.\n",
        "   - It fits the logistic regression model to the training data using `reg.fit(X_train, y_train)`.\n",
        "\n",
        "5. Prediction and Accuracy:\n",
        "   - The code uses the trained logistic regression model to make predictions on the test data using `y_pred = reg.predict(X_test)`.\n",
        "   - It calculates the accuracy of the model by comparing the predicted labels `y_pred` with the true labels `y_test` using `metrics.accuracy_score`.\n",
        "   - The accuracy score is multiplied by 100 and printed using `print(\"Logistic Regression model accuracy (in %):\", metrics.accuracy_score(y_test, y_pred)*100)`.\n",
        "\n",
        "The purpose of this code is to demonstrate the use of logistic regression for multi-class classification on the digit dataset. It showcases the process of loading the dataset, splitting it into training and testing sets, fitting the logistic regression model, making predictions, and evaluating the accuracy of the model. The accuracy score indicates the percentage of correctly classified instances in the test set."
      ],
      "metadata": {
        "id": "SKZHRNc7NNSN"
      }
    },
    {
      "cell_type": "markdown",
      "source": [
        "\n",
        "# **SVM Hyperparameter Tuning using GridSearchCV**"
      ],
      "metadata": {
        "id": "IkZs2q85Oye-"
      }
    },
    {
      "cell_type": "code",
      "source": [
        "# use GirdSearch CV\n",
        "\n",
        "from sklearn.model_selection import GridSearchCV\n",
        "\n",
        "# defining parameter range\n",
        "param_grid = {'C': [0.1, 1, 10, 100, 1000],\n",
        "\t\t\t'gamma': [1, 0.1, 0.01, 0.001, 0.0001],\n",
        "\t\t\t'kernel': ['rbf']}\n",
        "\n",
        "grid = GridSearchCV(SVC(), param_grid, refit = True, verbose = 3)\n",
        "\n",
        "# fitting the model for grid search\n",
        "grid.fit(X_train, y_train)\n"
      ],
      "metadata": {
        "id": "X8qFSS0tNXsP"
      },
      "execution_count": null,
      "outputs": []
    },
    {
      "cell_type": "markdown",
      "source": [
        "The provided code demonstrates the use of Grid Search Cross-Validation for hyperparameter tuning on the SVM (Support Vector Machine) model. Here's an explanation of each part of the code and its purpose:\n",
        "\n",
        "1. Importing Libraries:\n",
        "   - The code imports the `GridSearchCV` class from `sklearn.model_selection`.\n",
        "   - The `GridSearchCV` class is used to perform grid search with cross-validation.\n",
        "\n",
        "2. Defining Parameter Range:\n",
        "   - The code defines a dictionary `param_grid` that specifies the range of values for different hyperparameters of the SVM model.\n",
        "   - `C` represents the regularization parameter, `gamma` represents the kernel coefficient, and `kernel` represents the type of kernel to be used.\n",
        "   - Different values are provided for each hyperparameter to search over during the grid search.\n",
        "\n",
        "3. Grid Search:\n",
        "   - The code creates an instance of the `GridSearchCV` class using `grid = GridSearchCV(SVC(), param_grid, refit=True, verbose=3)`.\n",
        "   - The `SVC()` represents the SVM model that will be used for grid search.\n",
        "   - `param_grid` specifies the parameter grid to search over.\n",
        "   - `refit=True` indicates that the best estimator found during the grid search will be refit on the entire training set.\n",
        "   - `verbose=3` sets the verbosity level to show detailed output during the grid search process.\n",
        "\n",
        "4. Fitting the Model for Grid Search:\n",
        "   - The code fits the grid search model to the training data using `grid.fit(X_train, y_train)`.\n",
        "   - This step performs an exhaustive search over the provided parameter grid, evaluating the SVM model's performance with different parameter combinations using cross-validation.\n",
        "\n",
        "The purpose of this code is to demonstrate the use of Grid Search Cross-Validation for hyperparameter tuning on the SVM model. Grid search allows you to systematically explore different combinations of hyperparameters to find the best configuration for your model. The grid search process evaluates the model's performance using cross-validation and selects the hyperparameters that yield the best performance."
      ],
      "metadata": {
        "id": "I1Lqnt0IPkP0"
      }
    },
    {
      "cell_type": "code",
      "source": [
        "# print best parameter after tuning\n",
        "print(grid.best_params_)\n",
        "\n",
        "# print how our model looks after hyper-parameter tuning\n",
        "print(grid.best_estimator_)\n",
        "\n",
        "\n",
        "grid_predictions = grid.predict(X_test)\n",
        "\n",
        "# print classification report\n",
        "print(classification_report(y_test, grid_predictions))\n"
      ],
      "metadata": {
        "id": "CRXGQt9yPjRw"
      },
      "execution_count": null,
      "outputs": []
    },
    {
      "cell_type": "markdown",
      "source": [
        "The additional code provided includes printing the best parameters found during grid search, the best estimator/model after hyperparameter tuning, and generating predictions on the test data using the tuned model. Finally, it prints a classification report for evaluating the model's performance. Here's an explanation of each part:\n",
        "\n",
        "1. Printing Best Parameters:\n",
        "   - `grid.best_params_` prints the best parameters found during grid search. It gives you the optimal values for the hyperparameters of the SVM model.\n",
        "\n",
        "2. Printing Best Estimator:\n",
        "   - `grid.best_estimator_` prints the best estimator/model found during grid search. It provides the entire SVM model with the best hyperparameters.\n",
        "\n",
        "3. Generating Predictions:\n",
        "   - `grid_predictions = grid.predict(X_test)` generates predictions on the test data using the tuned model obtained from grid search. It uses the `predict` method of the grid object.\n",
        "\n",
        "4. Printing Classification Report:\n",
        "   - `classification_report(y_test, grid_predictions)` prints a classification report that provides various metrics for evaluating the model's performance, including precision, recall, F1-score, and support, for each class in the test set.\n",
        "\n",
        "The purpose of this additional code is to provide further evaluation and analysis of the tuned SVM model. Printing the best parameters and the best estimator allows you to see the optimal hyperparameter values and understand how the model was tuned. Generating predictions and printing the classification report provide insights into the model's performance on the test data, including the accuracy and other metrics for each class."
      ],
      "metadata": {
        "id": "QzvMdQMXQGfG"
      }
    },
    {
      "cell_type": "markdown",
      "source": [
        "# **SVM for classification on a non-linear dataset**\n"
      ],
      "metadata": {
        "id": "SeA7C6YQQMAZ"
      }
    },
    {
      "cell_type": "code",
      "source": [
        "# importing libraries\n",
        "import numpy as np\n",
        "import matplotlib.pyplot as plt\n",
        "from sklearn.datasets import make_circles\n",
        "from mpl_toolkits.mplot3d import Axes3D\n",
        "\n",
        "# generating data\n",
        "X, Y = make_circles(n_samples = 500, noise = 0.02)\n",
        "\n",
        "# visualizing data\n",
        "plt.scatter(X[:, 0], X[:, 1], c = Y, marker = '.')\n",
        "plt.show()\n",
        "\n",
        "-----------------------------------------------------------------------------------------------------------------\n",
        "\n",
        "\n",
        "# adding a new dimension to X\n",
        "X1 = X[:, 0].reshape((-1, 1))\n",
        "X2 = X[:, 1].reshape((-1, 1))\n",
        "X3 = (X1**2 + X2**2)\n",
        "X = np.hstack((X, X3))\n",
        "\n",
        "# visualizing data in higher dimension\n",
        "fig = plt.figure()\n",
        "axes = fig.add_subplot(111, projection = '3d')\n",
        "axes.scatter(X1, X2, X1**2 + X2**2, c = Y, depthshade = True)\n",
        "plt.show()\n"
      ],
      "metadata": {
        "id": "odRX1dlOQFky"
      },
      "execution_count": null,
      "outputs": []
    },
    {
      "cell_type": "markdown",
      "source": [
        "The provided code demonstrates the generation and visualization of a non-linear dataset using the make_circles function from scikit-learn. Here's an explanation of each part of the code and its purpose:\n",
        "\n",
        "1. Importing Libraries:\n",
        "   - The code imports the necessary libraries, including numpy, matplotlib.pyplot, make_circles from sklearn.datasets, and Axes3D from mpl_toolkits.mplot3d.\n",
        "\n",
        "2. Generating Data:\n",
        "   - The code generates a non-linear dataset using the make_circles function with 500 samples and a noise level of 0.02. It assigns the generated data to X and the corresponding labels to Y.\n",
        "\n",
        "3. Visualizing Data (2D):\n",
        "   - The code visualizes the data in a 2D scatter plot using plt.scatter. It plots the values from the first and second columns of X on the x and y axes, respectively. The color of each point is determined by the corresponding label Y.\n",
        "\n",
        "4. Adding a New Dimension:\n",
        "   - The code adds a new dimension to the data by calculating the squared sum of the first and second columns of X. It assigns the result to X3.\n",
        "   - X1 and X2 are reshaped to have a single column each.\n",
        "   - The np.hstack function is used to horizontally stack the original X with X3 to create a new dataset X with three columns.\n",
        "\n",
        "5. Visualizing Data (3D):\n",
        "   - The code visualizes the data in the higher-dimensional space using a 3D scatter plot. It creates a figure and adds a subplot with projection='3d' using fig.add_subplot(111, projection='3d').\n",
        "   - The scatter plot is created using axes.scatter, where X1, X2, and X1**2 + X2**2 are plotted on the x, y, and z axes, respectively. The color of each point is determined by the corresponding label Y.\n",
        "   - The depthshade parameter is set to True to add depth shading to the plot.\n",
        "\n",
        "The purpose of this code is to demonstrate how to generate and visualize a non-linear dataset. The make_circles function is used to create a dataset with two interlaced circles, and the additional dimension is added to visualize the data in a higher-dimensional space. The 2D scatter plot shows the original data, while the 3D scatter plot displays the data with an additional dimension, allowing for a better understanding of the separability of the classes in the higher-dimensional space."
      ],
      "metadata": {
        "id": "hcjyrBbMRF6T"
      }
    },
    {
      "cell_type": "code",
      "source": [
        "# create support vector classifier using a linear kernel\n",
        "from sklearn import svm\n",
        "\n",
        "svc = svm.SVC(kernel = 'linear')\n",
        "svc.fit(X, Y)\n",
        "w = svc.coef_\n",
        "b = svc.intercept_\n",
        "\n",
        "# plotting the separating hyperplane\n",
        "x1 = X[:, 0].reshape((-1, 1))\n",
        "x2 = X[:, 1].reshape((-1, 1))\n",
        "x1, x2 = np.meshgrid(x1, x2)\n",
        "x3 = -(w[0][0]*x1 + w[0][1]*x2 + b) / w[0][2]\n",
        "\n",
        "fig = plt.figure()\n",
        "axes2 = fig.add_subplot(111, projection = '3d')\n",
        "axes2.scatter(X1, X2, X1**2 + X2**2, c = Y, depthshade = True)\n",
        "axes1 = fig.gca(projection = '3d')\n",
        "axes1.plot_surface(x1, x2, x3, alpha = 0.01)\n",
        "plt.show()\n"
      ],
      "metadata": {
        "id": "cg-3Mnt8Q-J4"
      },
      "execution_count": null,
      "outputs": []
    },
    {
      "cell_type": "markdown",
      "source": [
        "\n",
        "![image.png](data:image/png;base64,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)\n",
        "\n",
        "The provided code creates a support vector classifier (SVC) using a linear kernel and visualizes the separating hyperplane in a 3D plot. Here's an explanation of each part of the code and its purpose:\n",
        "\n",
        "1. Create Support Vector Classifier:\n",
        "   - The code creates an instance of the SVM classifier with a linear kernel using `svm.SVC(kernel='linear')`.\n",
        "   - The classifier is trained on the dataset X and corresponding labels Y using `svc.fit(X, Y)`.\n",
        "\n",
        "2. Get Hyperplane Parameters:\n",
        "   - The code retrieves the coefficients (`w`) and intercept (`b`) of the separating hyperplane from the trained SVM classifier using `svc.coef_` and `svc.intercept_`.\n",
        "\n",
        "3. Plot the Separating Hyperplane:\n",
        "   - The code generates a grid of points (`x1` and `x2`) to create a meshgrid for the x and y axes of the 3D plot.\n",
        "   - The equation of the separating hyperplane (`x3`) is computed using the coefficients (`w`), intercept (`b`), and the meshgrid points.\n",
        "   - A 3D plot is created using `fig = plt.figure()` and `axes2 = fig.add_subplot(111, projection='3d')`.\n",
        "   - The original data points are plotted using `axes2.scatter(X1, X2, X1**2 + X2**2, c=Y, depthshade=True)`.\n",
        "   - The separating hyperplane is plotted using `axes1.plot_surface(x1, x2, x3, alpha=0.01)`, which displays the hyperplane as a surface in the 3D plot.\n",
        "\n",
        "The purpose of this code is to demonstrate how to create a support vector classifier with a linear kernel and visualize the separating hyperplane in a 3D plot. The linear kernel represents a linear decision boundary, and the code shows how the hyperplane separates the data points in the higher-dimensional space created by adding the squared sum of the original features. The 3D plot provides a visual representation of the data points, the separating hyperplane, and the separation of classes in the higher-dimensional space."
      ],
      "metadata": {
        "id": "7did7db6R_Ud"
      }
    },
    {
      "cell_type": "code",
      "source": [
        "# import the regressor\n",
        "from sklearn.tree import DecisionTreeRegressor\n",
        "\n",
        "# create a regressor object\n",
        "regressor = DecisionTreeRegressor(random_state = 0)\n",
        "\n",
        "# fit the regressor with X and Y data\n",
        "regressor.fit(X, y)\n",
        "\n",
        "\n",
        "# predicting a new value\n",
        "\n",
        "# test the output by changing values, like 3750\n",
        "y_pred = regressor.predict([[3750]])\n",
        "\n",
        "\n",
        "# print the predicted price\n",
        "print(\"Predicted price: % d\\n\"% y_pred)\n",
        "\n",
        "# import export_graphviz\n",
        "from sklearn.tree import export_graphviz\n",
        "\n",
        "# export the decision tree to a tree.dot file\n",
        "# for visualizing the plot easily anywhere\n",
        "export_graphviz(regressor, out_file ='tree.dot',\n",
        "\t\t\tfeature_names =['Production Cost'])\n",
        "\n"
      ],
      "metadata": {
        "id": "UN0n-0iNSBIa"
      },
      "execution_count": null,
      "outputs": []
    },
    {
      "cell_type": "markdown",
      "source": [
        "The provided code demonstrates the usage of a decision tree regressor for predicting a continuous value. Here's an explanation of each part of the code and its purpose:\n",
        "\n",
        "1. Import DecisionTreeRegressor:\n",
        "   - The code imports the DecisionTreeRegressor class from the sklearn.tree module.\n",
        "\n",
        "2. Create Regressor Object:\n",
        "   - The code creates an instance of the DecisionTreeRegressor class with the random_state parameter set to 0. This ensures reproducibility of results.\n",
        "\n",
        "3. Fit Regressor:\n",
        "   - The code fits the regressor with the X and y data using the `fit()` method. This trains the decision tree regressor on the provided data.\n",
        "\n",
        "4. Predict a New Value:\n",
        "   - The code demonstrates how to use the trained regressor to make predictions. It predicts the output value for a new input of 3750 using the `predict()` method.\n",
        "\n",
        "5. Print Predicted Price:\n",
        "   - The code prints the predicted price using the variable `y_pred` obtained from the `predict()` method.\n",
        "\n",
        "6. Export Decision Tree Visualization:\n",
        "   - The code exports the decision tree to a tree.dot file using the `export_graphviz()` function from sklearn.tree. This file can be visualized later using graph visualization tools.\n",
        "\n",
        "The purpose of this code is to demonstrate how to use the DecisionTreeRegressor class for predicting continuous values. It fits the regressor with the provided data, predicts the output value for a new input, and exports the decision tree for visualization. Decision trees are useful for solving regression problems by partitioning the input space into regions and predicting a continuous value for each region based on the training data."
      ],
      "metadata": {
        "id": "op9JmT3mVe18"
      }
    },
    {
      "cell_type": "markdown",
      "source": [
        "# **Random forest regression**"
      ],
      "metadata": {
        "id": "jWOS0uceWKdi"
      }
    },
    {
      "cell_type": "code",
      "source": [
        "# Fitting Random Forest Regression to the dataset\n",
        "# import the regressor\n",
        "from sklearn.ensemble import RandomForestRegressor\n",
        "\n",
        "# create regressor object\n",
        "regressor = RandomForestRegressor(n_estimators=100,\n",
        "\t\t\t\t\t\t\t\trandom_state=0)\n",
        "\n",
        "# fit the regressor with x and y data\n",
        "regressor.fit(x, y)\n"
      ],
      "metadata": {
        "id": "RFPi1_OPVgrc"
      },
      "execution_count": null,
      "outputs": []
    },
    {
      "cell_type": "markdown",
      "source": [
        "The provided code demonstrates the usage of a random forest regressor for fitting a regression model to a dataset. Here's an explanation of each part of the code and its purpose:\n",
        "\n",
        "1. Import RandomForestRegressor:\n",
        "   - The code imports the RandomForestRegressor class from the sklearn.ensemble module.\n",
        "\n",
        "2. Create Regressor Object:\n",
        "   - The code creates an instance of the RandomForestRegressor class with the n_estimators parameter set to 100 and the random_state parameter set to 0. The n_estimators parameter specifies the number of decision trees to be included in the random forest.\n",
        "\n",
        "3. Fit Regressor:\n",
        "   - The code fits the regressor with the x and y data using the `fit()` method. This trains the random forest regressor on the provided data.\n",
        "\n",
        "The purpose of this code is to demonstrate how to use the RandomForestRegressor class for fitting a regression model to a dataset. Random forests are an ensemble learning method that combines multiple decision trees to make predictions. They are effective in handling complex regression problems by reducing overfitting and improving generalization."
      ],
      "metadata": {
        "id": "APMhpwlPWSlf"
      }
    },
    {
      "cell_type": "markdown",
      "source": [],
      "metadata": {
        "id": "NUipC2N3WYYD"
      }
    }
  ]
}