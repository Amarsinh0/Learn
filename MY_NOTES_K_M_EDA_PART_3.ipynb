{
  "nbformat": 4,
  "nbformat_minor": 0,
  "metadata": {
    "colab": {
      "provenance": [],
      "authorship_tag": "ABX9TyM5snpJhmfmuvP1evxKwuP4",
      "include_colab_link": true
    },
    "kernelspec": {
      "name": "python3",
      "display_name": "Python 3"
    },
    "language_info": {
      "name": "python"
    }
  },
  "cells": [
    {
      "cell_type": "markdown",
      "metadata": {
        "id": "view-in-github",
        "colab_type": "text"
      },
      "source": [
        "<a href=\"https://colab.research.google.com/github/Amarsinh0/MY-NOTES/blob/main/MY_NOTES_K_M_EDA_PART_3.ipynb\" target=\"_parent\"><img src=\"https://colab.research.google.com/assets/colab-badge.svg\" alt=\"Open In Colab\"/></a>"
      ]
    },
    {
      "cell_type": "code",
      "execution_count": 6,
      "metadata": {
        "id": "ESfW2wTnGFwR"
      },
      "outputs": [],
      "source": [
        "from scipy import stats\n",
        "import statistics as stat"
      ]
    },
    {
      "cell_type": "markdown",
      "source": [
        "* lets starts with some simplye data in list form\n",
        "\n",
        "\n",
        "\n",
        "---\n",
        "1) find t - value \n",
        "\n",
        "---\n",
        "2) find p -value\n",
        "\n",
        "---\n",
        "\n",
        "\n",
        "\n",
        "\n",
        "\n"
      ],
      "metadata": {
        "id": "aqCVp3XOGW3y"
      }
    },
    {
      "cell_type": "markdown",
      "source": [
        "**f statstics:**\n",
        "linK:---- https://www.statisticshowto.com/probability-and-statistics/f-statistic-value-test/\n"
      ],
      "metadata": {
        "id": "wg19WUQkSaH7"
      }
    },
    {
      "cell_type": "code",
      "source": [
        "edu_partialhighschool=[30000,10000,10000,20000,70000,30000,10000,20000,10000,30000]\n",
        "edu_highschool=[20000,30000,60000,20000,40000,60000,60000]\n",
        "edu_partialcollege=[60000,40000,30000,130000,60000,40000]\n",
        "edu_bachelors=[40000,20000,90000,120000,60000,130000,20000,100000,80000,30000,100000,120000]\n",
        "edu_graduate=[160000,50000,80000,30000,40000,80000,130000,100000,130000,50000,130000]\n",
        "\n",
        "print('partialhighschool: '    + str(int(stat.mean(edu_partialhighschool))))\n",
        "print('highschool:        '    + str(int(stat.mean(edu_highschool))))\n",
        "print('partialcollege:    '    + str(int(stat.mean(edu_partialcollege))))\n",
        "print('bachelors:         '    + str(int(stat.mean(edu_bachelors))))\n",
        "print('graduate:          '    + str(int(stat.mean(edu_graduate))))"
      ],
      "metadata": {
        "colab": {
          "base_uri": "https://localhost:8080/"
        },
        "id": "lICPNneTGVd9",
        "outputId": "ad8ff5be-fd8e-456e-cb1e-bac547ae0c07"
      },
      "execution_count": 12,
      "outputs": [
        {
          "output_type": "stream",
          "name": "stdout",
          "text": [
            "partialhighschool: 24000\n",
            "highschool:        41428\n",
            "partialcollege:    60000\n",
            "bachelors:         75833\n",
            "graduate:          89090\n"
          ]
        }
      ]
    },
    {
      "cell_type": "code",
      "source": [
        "t,p=stats.ttest_ind(edu_partialhighschool,edu_highschool)\n",
        "print(f't-value: {t}')\n",
        "print(f'p-value: {p}')"
      ],
      "metadata": {
        "colab": {
          "base_uri": "https://localhost:8080/"
        },
        "id": "WZLr0DYdLNMJ",
        "outputId": "93d4c02e-cda9-4e71-ecc1-33a45e53c461"
      },
      "execution_count": 15,
      "outputs": [
        {
          "output_type": "stream",
          "name": "stdout",
          "text": [
            "t-value: -1.9131753750607223\n",
            "p-value: 0.07500898731578687\n"
          ]
        }
      ]
    },
    {
      "cell_type": "code",
      "source": [
        "import seaborn as sns\n",
        "sns.distplot(edu_partialhighschool,label='partialhighschool')          # distribution ploting \n",
        "sns.distplot(edu_highschool,label='highschool')\n"
      ],
      "metadata": {
        "colab": {
          "base_uri": "https://localhost:8080/",
          "height": 675
        },
        "id": "l0tSyINUMLtO",
        "outputId": "07c1c73c-fff4-436c-b57b-9eb78fbae1a8"
      },
      "execution_count": 17,
      "outputs": [
        {
          "output_type": "stream",
          "name": "stderr",
          "text": [
            "<ipython-input-17-5141c840e2b3>:2: UserWarning: \n",
            "\n",
            "`distplot` is a deprecated function and will be removed in seaborn v0.14.0.\n",
            "\n",
            "Please adapt your code to use either `displot` (a figure-level function with\n",
            "similar flexibility) or `histplot` (an axes-level function for histograms).\n",
            "\n",
            "For a guide to updating your code to use the new functions, please see\n",
            "https://gist.github.com/mwaskom/de44147ed2974457ad6372750bbe5751\n",
            "\n",
            "  sns.distplot(edu_partialhighschool,label='partialhighschool')\n",
            "<ipython-input-17-5141c840e2b3>:3: UserWarning: \n",
            "\n",
            "`distplot` is a deprecated function and will be removed in seaborn v0.14.0.\n",
            "\n",
            "Please adapt your code to use either `displot` (a figure-level function with\n",
            "similar flexibility) or `histplot` (an axes-level function for histograms).\n",
            "\n",
            "For a guide to updating your code to use the new functions, please see\n",
            "https://gist.github.com/mwaskom/de44147ed2974457ad6372750bbe5751\n",
            "\n",
            "  sns.distplot(edu_highschool,label='highschool')\n"
          ]
        },
        {
          "output_type": "execute_result",
          "data": {
            "text/plain": [
              "<Axes: ylabel='Density'>"
            ]
          },
          "metadata": {},
          "execution_count": 17
        },
        {
          "output_type": "display_data",
          "data": {
            "text/plain": [
              "<Figure size 432x288 with 1 Axes>"
            ],
            "image/png": "[encoded data removed]"
          },
          "metadata": {
            "needs_background": "light"
          }
        }
      ]
    },
    {
      "cell_type": "code",
      "source": [
        "import seaborn as sns\n",
        "import matplotlib.pyplot as plt\n",
        "\n",
        "sns.distplot(edu_partialhighschool,label='partialhighschool')\n",
        "sns.distplot(edu_highschool,label='highschool')\n",
        "sns.distplot(edu_partialcollege,label='partialcollege')\n",
        "sns.distplot(edu_bachelors,label='bachelors')\n",
        "sns.distplot(edu_graduate,label='graduate')\n",
        "plt.legend()"
      ],
      "metadata": {
        "colab": {
          "base_uri": "https://localhost:8080/",
          "height": 1000
        },
        "id": "yxkKbRyXK_nl",
        "outputId": "5ba35f96-25fa-4965-ddcc-253011acde8e"
      },
      "execution_count": 24,
      "outputs": [
        {
          "output_type": "stream",
          "name": "stderr",
          "text": [
            "<ipython-input-24-3fd8981a4b1c>:3: UserWarning: \n",
            "\n",
            "`distplot` is a deprecated function and will be removed in seaborn v0.14.0.\n",
            "\n",
            "Please adapt your code to use either `displot` (a figure-level function with\n",
            "similar flexibility) or `histplot` (an axes-level function for histograms).\n",
            "\n",
            "For a guide to updating your code to use the new functions, please see\n",
            "https://gist.github.com/mwaskom/de44147ed2974457ad6372750bbe5751\n",
            "\n",
            "  sns.distplot(edu_partialhighschool,label='partialhighschool')\n",
            "<ipython-input-24-3fd8981a4b1c>:4: UserWarning: \n",
            "\n",
            "`distplot` is a deprecated function and will be removed in seaborn v0.14.0.\n",
            "\n",
            "Please adapt your code to use either `displot` (a figure-level function with\n",
            "similar flexibility) or `histplot` (an axes-level function for histograms).\n",
            "\n",
            "For a guide to updating your code to use the new functions, please see\n",
            "https://gist.github.com/mwaskom/de44147ed2974457ad6372750bbe5751\n",
            "\n",
            "  sns.distplot(edu_highschool,label='highschool')\n",
            "<ipython-input-24-3fd8981a4b1c>:5: UserWarning: \n",
            "\n",
            "`distplot` is a deprecated function and will be removed in seaborn v0.14.0.\n",
            "\n",
            "Please adapt your code to use either `displot` (a figure-level function with\n",
            "similar flexibility) or `histplot` (an axes-level function for histograms).\n",
            "\n",
            "For a guide to updating your code to use the new functions, please see\n",
            "https://gist.github.com/mwaskom/de44147ed2974457ad6372750bbe5751\n",
            "\n",
            "  sns.distplot(edu_partialcollege,label='partialcollege')\n",
            "<ipython-input-24-3fd8981a4b1c>:6: UserWarning: \n",
            "\n",
            "`distplot` is a deprecated function and will be removed in seaborn v0.14.0.\n",
            "\n",
            "Please adapt your code to use either `displot` (a figure-level function with\n",
            "similar flexibility) or `histplot` (an axes-level function for histograms).\n",
            "\n",
            "For a guide to updating your code to use the new functions, please see\n",
            "https://gist.github.com/mwaskom/de44147ed2974457ad6372750bbe5751\n",
            "\n",
            "  sns.distplot(edu_bachelors,label='bachelors')\n",
            "<ipython-input-24-3fd8981a4b1c>:7: UserWarning: \n",
            "\n",
            "`distplot` is a deprecated function and will be removed in seaborn v0.14.0.\n",
            "\n",
            "Please adapt your code to use either `displot` (a figure-level function with\n",
            "similar flexibility) or `histplot` (an axes-level function for histograms).\n",
            "\n",
            "For a guide to updating your code to use the new functions, please see\n",
            "https://gist.github.com/mwaskom/de44147ed2974457ad6372750bbe5751\n",
            "\n",
            "  sns.distplot(edu_graduate,label='graduate')\n"
          ]
        },
        {
          "output_type": "execute_result",
          "data": {
            "text/plain": [
              "<matplotlib.legend.Legend at 0x7fbcd9507af0>"
            ]
          },
          "metadata": {},
          "execution_count": 24
        },
        {
          "output_type": "display_data",
          "data": {
            "text/plain": [
              "<Figure size 432x288 with 1 Axes>"
            ],
            "image/png": "[encoded data removed]"
          },
          "metadata": {
            "needs_background": "light"
          }
        }
      ]
    },
    {
      "cell_type": "code",
      "source": [
        "f,p=stats.f_oneway(edu_bachelors,edu_graduate,edu_highschool,edu_partialcollege,edu_partialhighschool)\n",
        "print(f'f-value : {f}')\n",
        "print(f'p-value : {p}')"
      ],
      "metadata": {
        "colab": {
          "base_uri": "https://localhost:8080/"
        },
        "id": "EzgBoOnoPe9H",
        "outputId": "42aa8db2-2ad4-4548-8b55-50cebd864798"
      },
      "execution_count": 27,
      "outputs": [
        {
          "output_type": "stream",
          "name": "stdout",
          "text": [
            "f-value : 5.778065095961635\n",
            "p-value : 0.0008781084858501968\n"
          ]
        }
      ]
    },
    {
      "cell_type": "markdown",
      "source": [
        "**The F Value in ANOVA**\n",
        "\n",
        "---\n",
        "\n",
        "\n",
        "The F value in one way ANOVA is a tool to help you answer the question “Is the variance between the means of two populations significantly different?” The F value in the ANOVA test also determines the P value; The P value is the probability of getting a result at least as extreme as the one that was actually observed, given that the null hypothesis is true.\n",
        "\n",
        "---\n",
        "\n",
        "\n",
        "\n",
        "The p value is a probability, while the f ratio is a test statistic, calculated as:\n",
        "\n",
        "F value = variance of the group means (Mean Square Between) / mean of the within group variances (Mean Squared Error)"
      ],
      "metadata": {
        "id": "Zal9tQQTSjCE"
      }
    },
    {
      "cell_type": "code",
      "source": [
        "import pandas as pd\n",
        "import numpy as np\n",
        "from scipy import stats\n"
      ],
      "metadata": {
        "id": "wfzXyZRxQOcP"
      },
      "execution_count": 28,
      "outputs": []
    },
    {
      "cell_type": "code",
      "source": [
        "df=pd.read_csv('/content/insurance.csv')\n",
        "df.head()"
      ],
      "metadata": {
        "colab": {
          "base_uri": "https://localhost:8080/",
          "height": 206
        },
        "id": "eYoIau8DTCh5",
        "outputId": "b01ff2fa-a070-49d8-e3f2-7a24824ac193"
      },
      "execution_count": 31,
      "outputs": [
        {
          "output_type": "execute_result",
          "data": {
            "text/plain": [
              "   age     sex     bmi  children smoker     region      charges\n",
              "0   19  female  27.900         0    yes  southwest  16884.92400\n",
              "1   18    male  33.770         1     no  southeast   1725.55230\n",
              "2   28    male  33.000         3     no  southeast   4449.46200\n",
              "3   33    male  22.705         0     no  northwest  21984.47061\n",
              "4   32    male  28.880         0     no  northwest   3866.85520"
            ],
            "text/html": [
              "\n",
              "  <div id=\"df-597e225c-9cbd-4625-96ff-5afaa98ca9b8\">\n",
              "    <div class=\"colab-df-container\">\n",
              "      <div>\n",
              "<style scoped>\n",
              "    .dataframe tbody tr th:only-of-type {\n",
              "        vertical-align: middle;\n",
              "    }\n",
              "\n",
              "    .dataframe tbody tr th {\n",
              "        vertical-align: top;\n",
              "    }\n",
              "\n",
              "    .dataframe thead th {\n",
              "        text-align: right;\n",
              "    }\n",
              "</style>\n",
              "<table border=\"1\" class=\"dataframe\">\n",
              "  <thead>\n",
              "    <tr style=\"text-align: right;\">\n",
              "      <th></th>\n",
              "      <th>age</th>\n",
              "      <th>sex</th>\n",
              "      <th>bmi</th>\n",
              "      <th>children</th>\n",
              "      <th>smoker</th>\n",
              "      <th>region</th>\n",
              "      <th>charges</th>\n",
              "    </tr>\n",
              "  </thead>\n",
              "  <tbody>\n",
              "    <tr>\n",
              "      <th>0</th>\n",
              "      <td>19</td>\n",
              "      <td>female</td>\n",
              "      <td>27.900</td>\n",
              "      <td>0</td>\n",
              "      <td>yes</td>\n",
              "      <td>southwest</td>\n",
              "      <td>16884.92400</td>\n",
              "    </tr>\n",
              "    <tr>\n",
              "      <th>1</th>\n",
              "      <td>18</td>\n",
              "      <td>male</td>\n",
              "      <td>33.770</td>\n",
              "      <td>1</td>\n",
              "      <td>no</td>\n",
              "      <td>southeast</td>\n",
              "      <td>1725.55230</td>\n",
              "    </tr>\n",
              "    <tr>\n",
              "      <th>2</th>\n",
              "      <td>28</td>\n",
              "      <td>male</td>\n",
              "      <td>33.000</td>\n",
              "      <td>3</td>\n",
              "      <td>no</td>\n",
              "      <td>southeast</td>\n",
              "      <td>4449.46200</td>\n",
              "    </tr>\n",
              "    <tr>\n",
              "      <th>3</th>\n",
              "      <td>33</td>\n",
              "      <td>male</td>\n",
              "      <td>22.705</td>\n",
              "      <td>0</td>\n",
              "      <td>no</td>\n",
              "      <td>northwest</td>\n",
              "      <td>21984.47061</td>\n",
              "    </tr>\n",
              "    <tr>\n",
              "      <th>4</th>\n",
              "      <td>32</td>\n",
              "      <td>male</td>\n",
              "      <td>28.880</td>\n",
              "      <td>0</td>\n",
              "      <td>no</td>\n",
              "      <td>northwest</td>\n",
              "      <td>3866.85520</td>\n",
              "    </tr>\n",
              "  </tbody>\n",
              "</table>\n",
              "</div>\n",
              "      <button class=\"colab-df-convert\" onclick=\"convertToInteractive('df-597e225c-9cbd-4625-96ff-5afaa98ca9b8')\"\n",
              "              title=\"Convert this dataframe to an interactive table.\"\n",
              "              style=\"display:none;\">\n",
              "        \n",
              "  <svg xmlns=\"http://www.w3.org/2000/svg\" height=\"24px\"viewBox=\"0 0 24 24\"\n",
              "       width=\"24px\">\n",
              "    <path d=\"M0 0h24v24H0V0z\" fill=\"none\"/>\n",
              "    <path d=\"M18.56 5.44l.94 2.06.94-2.06 2.06-.94-2.06-.94-.94-2.06-.94 2.06-2.06.94zm-11 1L8.5 8.5l.94-2.06 2.06-.94-2.06-.94L8.5 2.5l-.94 2.06-2.06.94zm10 10l.94 2.06.94-2.06 2.06-.94-2.06-.94-.94-2.06-.94 2.06-2.06.94z\"/><path d=\"M17.41 7.96l-1.37-1.37c-.4-.4-.92-.59-1.43-.59-.52 0-1.04.2-1.43.59L10.3 9.45l-7.72 7.72c-.78.78-.78 2.05 0 2.83L4 21.41c.39.39.9.59 1.41.59.51 0 1.02-.2 1.41-.59l7.78-7.78 2.81-2.81c.8-.78.8-2.07 0-2.86zM5.41 20L4 18.59l7.72-7.72 1.47 1.35L5.41 20z\"/>\n",
              "  </svg>\n",
              "      </button>\n",
              "      \n",
              "  <style>\n",
              "    .colab-df-container {\n",
              "      display:flex;\n",
              "      flex-wrap:wrap;\n",
              "      gap: 12px;\n",
              "    }\n",
              "\n",
              "    .colab-df-convert {\n",
              "      background-color: #E8F0FE;\n",
              "      border: none;\n",
              "      border-radius: 50%;\n",
              "      cursor: pointer;\n",
              "      display: none;\n",
              "      fill: #1967D2;\n",
              "      height: 32px;\n",
              "      padding: 0 0 0 0;\n",
              "      width: 32px;\n",
              "    }\n",
              "\n",
              "    .colab-df-convert:hover {\n",
              "      background-color: #E2EBFA;\n",
              "      box-shadow: 0px 1px 2px rgba(60, 64, 67, 0.3), 0px 1px 3px 1px rgba(60, 64, 67, 0.15);\n",
              "      fill: #174EA6;\n",
              "    }\n",
              "\n",
              "    [theme=dark] .colab-df-convert {\n",
              "      background-color: #3B4455;\n",
              "      fill: #D2E3FC;\n",
              "    }\n",
              "\n",
              "    [theme=dark] .colab-df-convert:hover {\n",
              "      background-color: #434B5C;\n",
              "      box-shadow: 0px 1px 3px 1px rgba(0, 0, 0, 0.15);\n",
              "      filter: drop-shadow(0px 1px 2px rgba(0, 0, 0, 0.3));\n",
              "      fill: #FFFFFF;\n",
              "    }\n",
              "  </style>\n",
              "\n",
              "      <script>\n",
              "        const buttonEl =\n",
              "          document.querySelector('#df-597e225c-9cbd-4625-96ff-5afaa98ca9b8 button.colab-df-convert');\n",
              "        buttonEl.style.display =\n",
              "          google.colab.kernel.accessAllowed ? 'block' : 'none';\n",
              "\n",
              "        async function convertToInteractive(key) {\n",
              "          const element = document.querySelector('#df-597e225c-9cbd-4625-96ff-5afaa98ca9b8');\n",
              "          const dataTable =\n",
              "            await google.colab.kernel.invokeFunction('convertToInteractive',\n",
              "                                                     [key], {});\n",
              "          if (!dataTable) return;\n",
              "\n",
              "          const docLinkHtml = 'Like what you see? Visit the ' +\n",
              "            '<a target=\"_blank\" href=https://colab.research.google.com/notebooks/data_table.ipynb>data table notebook</a>'\n",
              "            + ' to learn more about interactive tables.';\n",
              "          element.innerHTML = '';\n",
              "          dataTable['output_type'] = 'display_data';\n",
              "          await google.colab.output.renderOutput(dataTable, element);\n",
              "          const docLink = document.createElement('div');\n",
              "          docLink.innerHTML = docLinkHtml;\n",
              "          element.appendChild(docLink);\n",
              "        }\n",
              "      </script>\n",
              "    </div>\n",
              "  </div>\n",
              "  "
            ]
          },
          "metadata": {},
          "execution_count": 31
        }
      ]
    },
    {
      "cell_type": "code",
      "source": [
        "col='smoker'\n",
        "label='charges'\n",
        "\n",
        "groups=df[col].unique()\n",
        "#print(groups)     \n",
        "                                    #o/p ---'yes' 'no'\n",
        "df_grouped=df.groupby(col)\n",
        "#print(df_grouped)         \n",
        "                                    # group by() : for sort the dataframe in current catagorical column\n",
        "group_labels=[]\n",
        "for g in groups:\n",
        "  g_list=df_grouped.get_group(g)    #  use the get_group() function see to return a list contaning only the records for each unique values\n",
        "  #print(g_list)                     to understant get_group() read below information\n",
        "  group_labels.append(g_list[label])# use append() function to store of label value\n",
        "#print(group_labels)    \n",
        "\n",
        "\n",
        "oneway= stats.f_oneway(*group_labels)   # * sign is way of dynamically adding every group in list of lists  \n",
        "\n",
        "f= oneway[0]\n",
        "p= oneway[1]\n",
        "\n",
        "print('f: '+ str(round(f,3)))\n",
        "print('p: '+ str(round(p,3)))"
      ],
      "metadata": {
        "colab": {
          "base_uri": "https://localhost:8080/"
        },
        "id": "rgo6ClV1TaYE",
        "outputId": "fd2c31ed-f597-4816-d9cf-43658f7ec6e4"
      },
      "execution_count": 43,
      "outputs": [
        {
          "output_type": "stream",
          "name": "stdout",
          "text": [
            "f: 2177.615\n",
            "p: 0.0\n"
          ]
        }
      ]
    },
    {
      "cell_type": "markdown",
      "source": [
        "**what is f-test ?**\n",
        "\n",
        "https://www.statisticshowto.com/probability-and-statistics/hypothesis-testing/f-test/\n",
        "\n"
      ],
      "metadata": {
        "id": "UOM7meEbbVxd"
      }
    },
    {
      "cell_type": "markdown",
      "source": [
        "**Get Groups**:  df_grouped.get_group(g)\n",
        "\n",
        "---\n",
        "\n",
        "*italicized text*\n",
        "The pandas GroupBy method get_group() is used to select or extract only one group from the GroupBy object.\n",
        "\n",
        "For example, suppose you want to see the contents of ‘Healthcare’ group. This can be done in the simplest way as below.\n",
        "\n",
        "df_group.get_group('Healthcare')\n",
        "\n",
        "pandas group by get_group() | Image by Author\n",
        "As you see, there is no change in the structure of the dataset and still you get all the records where product category is ‘Healthcare’.\n",
        "\n",
        "I have an interesting use-case for this method — Slicing a DataFrame\n",
        "\n",
        "Suppose, you want to select all the rows where Product Category is ‘Home’. A simple and widely used method is to use bracket notation [ ] like below,\n",
        "\n",
        "df[df[\"Product_Category\"]=='Home']\n",
        "And nothing wrong in that. But you can get exactly same results with the method .get_group() as below,\n",
        "\n",
        "df_group = df.groupby(\"Product_Category\")\n",
        "df_group.get_group('Home')\n",
        "A step further, when you compare the performance between these two methods and run them 1000 times each, certainly .get_group() is time-efficient. ✅"
      ],
      "metadata": {
        "id": "ML9LhzpBf54L"
      }
    },
    {
      "cell_type": "code",
      "source": [],
      "metadata": {
        "id": "Zi1ZM40wf1GE"
      },
      "execution_count": null,
      "outputs": []
    },
    {
      "cell_type": "code",
      "source": [],
      "metadata": {
        "id": "jnu2LYnVUOkr"
      },
      "execution_count": null,
      "outputs": []
    }
  ]
}