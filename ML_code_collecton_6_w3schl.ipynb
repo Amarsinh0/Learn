{
  "nbformat": 4,
  "nbformat_minor": 0,
  "metadata": {
    "colab": {
      "provenance": [],
      "authorship_tag": "ABX9TyOGdOzybKqkPY3Kv2ES54tx",
      "include_colab_link": true
    },
    "kernelspec": {
      "name": "python3",
      "display_name": "Python 3"
    },
    "language_info": {
      "name": "python"
    }
  },
  "cells": [
    {
      "cell_type": "markdown",
      "metadata": {
        "id": "view-in-github",
        "colab_type": "text"
      },
      "source": [
        "<a href=\"https://colab.research.google.com/github/Amarsinh0/MY-NOTES/blob/main/ML_code_collecton_6_w3schl.ipynb\" target=\"_parent\"><img src=\"https://colab.research.google.com/assets/colab-badge.svg\" alt=\"Open In Colab\"/></a>"
      ]
    },
    {
      "cell_type": "code",
      "execution_count": null,
      "metadata": {
        "id": "9fxGdnxjecBr"
      },
      "outputs": [],
      "source": [
        "import numpy\n",
        "\n",
        "speed = [99,86,87,88,111,86,103,87,94,78,77,85,86]\n",
        "\n",
        "x = numpy.mean(speed)\n",
        "\n",
        "print(x)"
      ]
    },
    {
      "cell_type": "code",
      "source": [
        "from scipy import stats\n",
        "\n",
        "speed = [99,86,87,88,111,86,103,87,94,78,77,85,86]\n",
        "\n",
        "x = stats.mode(speed)\n",
        "\n",
        "print(x)"
      ],
      "metadata": {
        "id": "YvBsVRNkexkS"
      },
      "execution_count": null,
      "outputs": []
    },
    {
      "cell_type": "code",
      "source": [
        "import numpy\n",
        "\n",
        "speed = [86,87,88,86,87,85,86]\n",
        "\n",
        "x = numpy.std(speed)\n",
        "\n",
        "print(x)"
      ],
      "metadata": {
        "id": "6jE8qU-de_mY"
      },
      "execution_count": null,
      "outputs": []
    },
    {
      "cell_type": "code",
      "source": [
        "import numpy\n",
        "\n",
        "ages = [5,31,43,48,50,41,7,11,15,39,80,82,32,2,8,6,25,36,27,61,31]\n",
        "\n",
        "x = numpy.percentile(ages, 90)\n",
        "\n",
        "print(x)"
      ],
      "metadata": {
        "id": "m6wD8kK2fA9P"
      },
      "execution_count": null,
      "outputs": []
    },
    {
      "cell_type": "code",
      "source": [
        "# Create an array containing 250 random floats between 0 and 5:\n",
        "import numpy\n",
        "\n",
        "x = numpy.random.uniform(0.0, 5.0, 250)\n",
        "\n",
        "print(x)"
      ],
      "metadata": {
        "id": "EE0ivW6OfV93"
      },
      "execution_count": null,
      "outputs": []
    },
    {
      "cell_type": "code",
      "source": [
        "#histogram\n",
        "\n",
        "import numpy\n",
        "import matplotlib.pyplot as plt\n",
        "\n",
        "x = numpy.random.uniform(0.0, 5.0, 250)\n",
        "\n",
        "plt.hist(x, 5)\n",
        "plt.show()"
      ],
      "metadata": {
        "id": "CpfU_Vo8fXLm"
      },
      "execution_count": null,
      "outputs": []
    },
    {
      "cell_type": "code",
      "source": [
        "#normal distribution\n",
        "\n",
        "import numpy\n",
        "import matplotlib.pyplot as plt\n",
        "\n",
        "x = numpy.random.normal(5.0, 1.0, 100000)\n",
        "\n",
        "plt.hist(x, 100)\n",
        "plt.show()"
      ],
      "metadata": {
        "id": "iIIqNN8tfxlg"
      },
      "execution_count": null,
      "outputs": []
    },
    {
      "cell_type": "markdown",
      "source": [
        "We use the array from the numpy.random.normal() method, with 100000 values,  to draw a histogram with 100 bars.\n",
        "\n",
        "We specify that the mean value is 5.0, and the standard deviation is 1.0.\n",
        "\n",
        "Meaning that the values should be concentrated around 5.0, and rarely further away than 1.0 from the mean.\n",
        "\n",
        "And as you can see from the histogram, most values are between 4.0 and 6.0, with a top at approximately 5.0."
      ],
      "metadata": {
        "id": "tgmHZ4fYglIv"
      }
    },
    {
      "cell_type": "code",
      "source": [
        "#scatter plot\n",
        "\n",
        "import matplotlib.pyplot as plt\n",
        "\n",
        "x = [5,7,8,7,2,17,2,9,4,11,12,9,6]\n",
        "y = [99,86,87,88,111,86,103,87,94,78,77,85,86]\n",
        "\n",
        "plt.scatter(x, y)\n",
        "plt.show()"
      ],
      "metadata": {
        "id": "lwiMxlHCgHoY"
      },
      "execution_count": null,
      "outputs": []
    },
    {
      "cell_type": "code",
      "source": [
        "import numpy\n",
        "import matplotlib.pyplot as plt\n",
        "\n",
        "x = numpy.random.normal(5.0, 1.0, 1000)\n",
        "y = numpy.random.normal(10.0, 2.0, 1000)\n",
        "\n",
        "plt.scatter(x, y)\n",
        "plt.show()"
      ],
      "metadata": {
        "id": "SRGVgJCnhVay"
      },
      "execution_count": null,
      "outputs": []
    },
    {
      "cell_type": "markdown",
      "source": [
        "see below Let us create two arrays that are both filled with 1000 random numbers from a normal data distribution.\n",
        "\n",
        "The first array will have the mean set to 5.0 with a standard deviation of 1.0.\n",
        "\n",
        "The second array will have the mean set to 10.0 with a standard deviation of 2.0:"
      ],
      "metadata": {
        "id": "7bZok7FnhV4X"
      }
    },
    {
      "cell_type": "markdown",
      "source": [
        "\n",
        "# **Linear Regression:**\n",
        "Import scipy and draw the line of Linear Regression:"
      ],
      "metadata": {
        "id": "uqnjkehGhzMC"
      }
    },
    {
      "cell_type": "code",
      "source": [
        "import matplotlib.pyplot as plt\n",
        "from scipy import stats\n",
        "\n",
        "x = [5,7,8,7,2,17,2,9,4,11,12,9,6]\n",
        "y = [99,86,87,88,111,86,103,87,94,78,77,85,86]\n",
        "\n",
        "slope, intercept, r, p, std_err = stats.linregress(x, y)\n",
        "\n",
        "def myfunc(x):\n",
        "  return slope * x + intercept\n",
        "\n",
        "mymodel = list(map(myfunc, x))\n",
        "\n",
        "plt.scatter(x, y)\n",
        "plt.plot(x, mymodel)\n",
        "plt.show()\n"
      ],
      "metadata": {
        "id": "QLkJ_Blohr8o"
      },
      "execution_count": null,
      "outputs": []
    },
    {
      "cell_type": "markdown",
      "source": [
        "Certainly! The provided code performs linear regression analysis using the SciPy library and creates a scatter plot of the data points along with the regression line.\n",
        "\n",
        "Let's go through the code step by step:\n",
        "\n",
        "\n",
        "3. Performing Linear Regression:\n",
        "   - The line `slope, intercept, r, p, std_err = stats.linregress(x, y)` performs linear regression analysis using the `linregress` function from `scipy.stats`.\n",
        "   - The function takes the input data (`x` and `y`) and returns multiple values:\n",
        "     - `slope` represents the slope of the regression line.\n",
        "     - `intercept` represents the y-intercept of the regression line.\n",
        "     - `r` represents the correlation coefficient (Pearson's r) between `x` and `y`.\n",
        "     - `p` represents the p-value associated with the significance of the regression relationship.\n",
        "     - `std_err` represents the standard error of the estimated slope and intercept.\n",
        "\n",
        "4. Defining the Regression Function:\n",
        "   - The code defines a function called `myfunc(x)` that calculates the predicted values (`y`) based on the regression line equation.\n",
        "   - The function uses the previously obtained `slope` and `intercept` values to compute the predicted `y` values.\n",
        "\n",
        "5. Generating Predicted Values:\n",
        "   - The line `mymodel = list(map(myfunc, x))` generates the predicted `y` values by applying the `myfunc` function to each element of `x` using the `map` function.\n",
        "   - The resulting values are stored in the `mymodel` list.\n",
        "\n",
        "6. Creating the Scatter Plot:\n",
        "   - The line `plt.scatter(x, y)` creates a scatter plot of the original data points using `matplotlib.pyplot`.\n",
        "   - `x` represents the x-axis values, and `y` represents the y-axis values.\n",
        "\n",
        "7. Plotting the Regression Line:\n",
        "   - The line `plt.plot(x, mymodel)` plots the regression line using the original `x` values and the predicted `y` values (`mymodel`).\n",
        "   - The resulting line represents the best-fit line that minimizes the distance between the data points and the line.\n",
        "\n",
        "8. Displaying the Plot:\n",
        "   - Finally, `plt.show()` is called to display the scatter plot with the regression line.\n",
        "\n",
        "The output of this code will be a scatter plot of the original data points along with the regression line that represents the linear relationship between the variables `x` and `y`."
      ],
      "metadata": {
        "id": "PklSS2XRi_P6"
      }
    },
    {
      "cell_type": "markdown",
      "source": [
        "\n",
        "# **Polynomial Regression:**\n",
        "Import numpy and matplotlib then draw the line of Polynomial Regression:"
      ],
      "metadata": {
        "id": "W0EEYgchjrb9"
      }
    },
    {
      "cell_type": "code",
      "source": [
        "import numpy\n",
        "import matplotlib.pyplot as plt\n",
        "\n",
        "x = [1,2,3,5,6,7,8,9,10,12,13,14,15,16,18,19,21,22]\n",
        "y = [100,90,80,60,60,55,60,65,70,70,75,76,78,79,90,99,99,100]\n",
        "\n",
        "mymodel = numpy.poly1d(numpy.polyfit(x, y, 3))\n",
        "\n",
        "myline = numpy.linspace(1, 22, 100)\n",
        "\n",
        "plt.scatter(x, y)\n",
        "plt.plot(myline, mymodel(myline))\n",
        "plt.show()\n"
      ],
      "metadata": {
        "id": "0r_hD6qJhtH4"
      },
      "execution_count": null,
      "outputs": []
    },
    {
      "cell_type": "markdown",
      "source": [],
      "metadata": {
        "id": "MLmFYMz1lbes"
      }
    },
    {
      "cell_type": "markdown",
      "source": [
        "The code you provided performs polynomial regression using NumPy and creates a scatter plot of the data points along with the fitted polynomial curve.\n",
        "\n",
        "Let's break down the code step by step:\n",
        "\n",
        "\n",
        "\n",
        "3. Fitting the Polynomial Curve:\n",
        "   - The line `mymodel = numpy.poly1d(numpy.polyfit(x, y, 3))` fits a polynomial curve of degree 3 to the data using the `polyfit` function from NumPy.\n",
        "   - The `polyfit` function takes the input data (`x` and `y`) and the desired degree of the polynomial (`3` in this case).\n",
        "   - It returns the coefficients of the polynomial, which are used to create a polynomial function object with `numpy.poly1d`.\n",
        "\n",
        "4. Generating Points on the Curve:\n",
        "   - The line `myline = numpy.linspace(1, 22, 100)` generates an array of 100 equally spaced points between 1 and 22 using the `linspace` function from NumPy.\n",
        "   - This `myline` array represents the x-values at which we want to evaluate the fitted polynomial curve.\n",
        "\n",
        "5. Creating the Scatter Plot:\n",
        "   - The line `plt.scatter(x, y)` creates a scatter plot of the original data points using `matplotlib.pyplot`.\n",
        "   - `x` represents the x-axis values, and `y` represents the y-axis values.\n",
        "\n",
        "6. Plotting the Fitted Curve:\n",
        "   - The line `plt.plot(myline, mymodel(myline))` plots the fitted polynomial curve using the `plot` function.\n",
        "   - The `myline` array represents the x-values, and `mymodel(myline)` evaluates the fitted polynomial function at those x-values, providing the corresponding y-values for plotting.\n",
        "\n",
        "7. Displaying the Plot:\n",
        "   - Finally, `plt.show()` is called to display the scatter plot with the fitted polynomial curve.\n",
        "\n",
        "The output of this code will be a scatter plot of the original data points along with the polynomial curve that best fits the data. The curve will be generated using the coefficients obtained from the polynomial regression analysis."
      ],
      "metadata": {
        "id": "403PzVkhkBWV"
      }
    },
    {
      "cell_type": "markdown",
      "source": [
        "# **R-Squared**\n",
        "\n",
        "How well does my data fit in a polynomial regression?"
      ],
      "metadata": {
        "id": "bbCheZS_kGw4"
      }
    },
    {
      "cell_type": "code",
      "source": [
        "import numpy\n",
        "from sklearn.metrics import r2_score\n",
        "\n",
        "x = [1,2,3,5,6,7,8,9,10,12,13,14,15,16,18,19,21,22]\n",
        "y = [100,90,80,60,60,55,60,65,70,70,75,76,78,79,90,99,99,100]\n",
        "\n",
        "mymodel = numpy.poly1d(numpy.polyfit(x, y, 3))\n",
        "\n",
        "print(r2_score(y, mymodel(x)))"
      ],
      "metadata": {
        "id": "QKZMpSyQkgA0"
      },
      "execution_count": null,
      "outputs": []
    },
    {
      "cell_type": "markdown",
      "source": [
        "The code you provided calculates the coefficient of determination (R-squared) for the fitted polynomial curve using the `r2_score` function from scikit-learn (sklearn).\n",
        "\n",
        "\n",
        "3. Fitting the Polynomial Curve:\n",
        "   - The line `mymodel = numpy.poly1d(numpy.polyfit(x, y, 3))` fits a polynomial curve of degree 3 to the data using the `polyfit` function from NumPy, as explained earlier.\n",
        "   - The `polyfit` function returns the coefficients of the polynomial, which are used to create a polynomial function object with `numpy.poly1d`.\n",
        "\n",
        "4. Calculating R-squared:\n",
        "   - The line `print(r2_score(y, mymodel(x)))` calculates the R-squared score using the `r2_score` function.\n",
        "   - The `r2_score` function takes two arguments: the actual `y` values (`y`) and the predicted `y` values obtained from evaluating the fitted polynomial function at the `x` values (`mymodel(x)`).\n",
        "   - The R-squared score represents the proportion of the variance in the dependent variable (`y`) that is predictable from the independent variable (`x`). It ranges from 0 to 1, with 1 indicating a perfect fit.\n",
        "\n",
        "5. Printing the R-squared Score:\n",
        "   - The code uses `print` to display the calculated R-squared score.\n",
        "\n",
        "The output of this code will be the R-squared score, indicating the goodness of fit of the polynomial curve to the given data. The score closer to 1 suggests a better fit, while lower values indicate less explanatory power of the model."
      ],
      "metadata": {
        "id": "Mh8JMcXCldsZ"
      }
    },
    {
      "cell_type": "markdown",
      "source": [
        "# **Predict Future Values**\n",
        "\n",
        "Predict the speed of a car passing at 17:00:"
      ],
      "metadata": {
        "id": "VwbIBq7qk2Lz"
      }
    },
    {
      "cell_type": "code",
      "source": [
        "import numpy\n",
        "from sklearn.metrics import r2_score\n",
        "\n",
        "x = [1,2,3,5,6,7,8,9,10,12,13,14,15,16,18,19,21,22]\n",
        "y = [100,90,80,60,60,55,60,65,70,70,75,76,78,79,90,99,99,100]\n",
        "\n",
        "mymodel = numpy.poly1d(numpy.polyfit(x, y, 3))\n",
        "\n",
        "speed = mymodel(17)\n",
        "print(speed)"
      ],
      "metadata": {
        "id": "VNb078rgk0Wm"
      },
      "execution_count": null,
      "outputs": []
    },
    {
      "cell_type": "markdown",
      "source": [
        "#predict the CO2 emission of a car where the weight is 2300kg, and the volume is 1300cm3:\n",
        "\n"
      ],
      "metadata": {
        "id": "4I0QTOSRl7iL"
      }
    },
    {
      "cell_type": "code",
      "source": [
        "from sklearn import linear_model\n",
        "regr = linear_model.LinearRegression()\n",
        "import pandas\n",
        "from sklearn import linear_model\n",
        "\n",
        "df = pandas.read_csv(\"data.csv\")\n",
        "\n",
        "X = df[['Weight', 'Volume']]\n",
        "y = df['CO2']\n",
        "\n",
        "regr = linear_model.LinearRegression()\n",
        "regr.fit(X, y)\n",
        "\n",
        "#predict the CO2 emission of a car where the weight is 2300kg, and the volume is 1300cm3:\n",
        "predictedCO2 = regr.predict([[2300, 1300]])\n",
        "\n",
        "print(predictedCO2)"
      ],
      "metadata": {
        "id": "1kq7JSYBl6hk"
      },
      "execution_count": null,
      "outputs": []
    },
    {
      "cell_type": "markdown",
      "source": [
        "The code you provided demonstrates the use of linear regression from the scikit-learn library (sklearn) to predict the CO2 emission of a car based on its weight and volume. It utilizes a dataset stored in a CSV file named \"data.csv\".\n",
        "\n",
        "Let's break down the code step by step:\n",
        "\n",
        "3. Preparing the Data:\n",
        "   - The lines `X = df[['Weight', 'Volume']]` and `y = df['CO2']` split the dataset into the feature matrix `X`, containing the 'Weight' and 'Volume' columns, and the target variable `y`, which is the 'CO2' column.\n",
        "\n",
        "4. Fitting the Linear Regression Model:\n",
        "   - The line `regr = linear_model.LinearRegression()` initializes a linear regression model.\n",
        "   - The subsequent line `regr.fit(X, y)` fits the model to the training data, where the model learns the relationship between the features (`X`) and the target variable (`y`).\n",
        "\n",
        "5. Predicting the CO2 Emission:\n",
        "   - The line `predictedCO2 = regr.predict([[2300, 1300]])` predicts the CO2 emission based on the learned model.\n",
        "   - The `predict` method is called on the trained `regr` model, passing a 2D array of feature values for weight and volume.\n",
        "   - In this case, it predicts the CO2 emission for a car with a weight of 2300kg and a volume of 1300cm^3.\n",
        "\n",
        "6. Printing the Predicted CO2 Emission:\n",
        "   - The line `print(predictedCO2)` outputs the predicted CO2 emission value obtained from the model.\n",
        "\n",
        "The output of this code will be the predicted CO2 emission for the given car based on its weight and volume."
      ],
      "metadata": {
        "id": "s5V6NTlem6TJ"
      }
    },
    {
      "cell_type": "markdown",
      "source": [
        "# **Coefficient**\n",
        "The coefficient is a factor that describes the relationship with an unknown variable.\n",
        "----------\n",
        "Example: if x is a variable, then 2x is x two times. x is the unknown variable, and the number 2 is the coefficient."
      ],
      "metadata": {
        "id": "wB6JDF_WnDPT"
      }
    },
    {
      "cell_type": "code",
      "source": [
        "import pandas\n",
        "from sklearn import linear_model\n",
        "\n",
        "df = pandas.read_csv(\"data.csv\")\n",
        "\n",
        "X = df[['Weight', 'Volume']]\n",
        "y = df['CO2']\n",
        "\n",
        "regr = linear_model.LinearRegression()\n",
        "regr.fit(X, y)\n",
        "\n",
        "print(regr.coef_)\n",
        "\n",
        "Result:\n",
        "[0.00755095 0.00780526]"
      ],
      "metadata": {
        "id": "wsg4Qcysm-a_"
      },
      "execution_count": null,
      "outputs": []
    },
    {
      "cell_type": "markdown",
      "source": [
        "The code you provided demonstrates linear regression using scikit-learn (sklearn) to predict CO2 emissions based on weight and volume. After fitting the linear regression model, it prints the coefficients of the model.\n",
        "\n",
        "Let's break down the code and the output:\n",
        "\n",
        "2. Preparing the Data:\n",
        "   - The lines `X = df[['Weight', 'Volume']]` and `y = df['CO2']` split the dataset into the feature matrix `X`, containing the 'Weight' and 'Volume' columns, and the target variable `y`, which is the 'CO2' column.\n",
        "\n",
        "3. Fitting the Linear Regression Model:\n",
        "   - The line `regr = linear_model.LinearRegression()` initializes a linear regression model.\n",
        "   - The subsequent line `regr.fit(X, y)` fits the model to the training data, where the model learns the relationship between the features (`X`) and the target variable (`y`).\n",
        "\n",
        "4. Printing the Coefficients:\n",
        "   - The line `print(regr.coef_)` prints the coefficients of the linear regression model.\n",
        "   - The coefficients represent the weights assigned to each feature in the linear regression equation.\n",
        "\n",
        "The output of this code is a printed list of the coefficients obtained from the linear regression model. The coefficients represent the influence of the 'Weight' and 'Volume' features on the predicted CO2 emissions. In this case, the output indicates that the weight coefficient is approximately 0.00755095, and the volume coefficient is approximately 0.00780526. These coefficients reflect the estimated impact of each feature on the CO2 emissions according to the learned linear regression model."
      ],
      "metadata": {
        "id": "B0JxxlIDnpwS"
      }
    },
    {
      "cell_type": "markdown",
      "source": [
        "## **Scale all values in the Weight and Volume columns:**"
      ],
      "metadata": {
        "id": "uPZxQvCFkjqo"
      }
    },
    {
      "cell_type": "code",
      "source": [
        "\n",
        "\n",
        "import pandas\n",
        "from sklearn import linear_model\n",
        "from sklearn.preprocessing import StandardScaler\n",
        "scale = StandardScaler()\n",
        "\n",
        "df = pandas.read_csv(\"data.csv\")\n",
        "\n",
        "X = df[['Weight', 'Volume']]\n",
        "\n",
        "scaledX = scale.fit_transform(X)\n",
        "\n",
        "print(scaledX)\n",
        "\n",
        "\n",
        "Note that the first two values are -2.1 and -1.59, which corresponds to our calculations:\n",
        "\n",
        "[[-2.10389253 -1.59336644]\n",
        " [-0.55407235 -1.07190106]]"
      ],
      "metadata": {
        "id": "DOQjPEwCnyLR"
      },
      "execution_count": null,
      "outputs": []
    },
    {
      "cell_type": "code",
      "source": [
        "# dataset\n",
        "\n",
        "import numpy\n",
        "import matplotlib.pyplot as plt\n",
        "numpy.random.seed(2)\n",
        "\n",
        "x = numpy.random.normal(3, 1, 100)\n",
        "y = numpy.random.normal(150, 40, 100) / x\n",
        "\n",
        "plt.scatter(x, y)\n",
        "plt.show()"
      ],
      "metadata": {
        "id": "ZVQp6wgIk-To"
      },
      "execution_count": null,
      "outputs": []
    },
    {
      "cell_type": "markdown",
      "source": [
        "# **Split Into Train/Test**\n",
        "\n",
        "The training set should be a random selection of 80% of the original data.\n",
        "\n",
        "The testing set should be the remaining 20%."
      ],
      "metadata": {
        "id": "dCeRGz8OlRPq"
      }
    },
    {
      "cell_type": "code",
      "source": [
        "import numpy\n",
        "import matplotlib.pyplot as plt\n",
        "numpy.random.seed(2)\n",
        "\n",
        "x = numpy.random.normal(3, 1, 100)\n",
        "y = numpy.random.normal(150, 40, 100) / x\n",
        "\n",
        "plt.scatter(x, y)\n",
        "plt.show()\n",
        "\n",
        "\n",
        "plt.scatter(train_x, train_y)\n",
        "plt.show()"
      ],
      "metadata": {
        "id": "eTU3vf_-lCbr"
      },
      "execution_count": null,
      "outputs": []
    },
    {
      "cell_type": "markdown",
      "source": [
        "## **Draw a polynomial regression line through the data points:**"
      ],
      "metadata": {
        "id": "K9K90n-3lhTt"
      }
    },
    {
      "cell_type": "code",
      "source": [
        "import numpy\n",
        "import matplotlib.pyplot as plt\n",
        "numpy.random.seed(2)\n",
        "\n",
        "x = numpy.random.normal(3, 1, 100)\n",
        "y = numpy.random.normal(150, 40, 100) / x\n",
        "\n",
        "train_x = x[:80]\n",
        "train_y = y[:80]\n",
        "\n",
        "test_x = x[80:]\n",
        "test_y = y[80:]\n",
        "\n",
        "mymodel = numpy.poly1d(numpy.polyfit(train_x, train_y, 4))\n",
        "\n",
        "myline = numpy.linspace(0, 6, 100)\n",
        "\n",
        "plt.scatter(train_x, train_y)\n",
        "plt.plot(myline, mymodel(myline))\n",
        "plt.show()"
      ],
      "metadata": {
        "id": "AkZCOV7ulr69"
      },
      "execution_count": null,
      "outputs": []
    },
    {
      "cell_type": "markdown",
      "source": [
        "The provided code demonstrates polynomial regression using NumPy and creates a scatter plot of the training data along with the fitted polynomial curve. It also includes a test set for evaluation.\n",
        "\n",
        "Let's break down the code step by step:\n",
        "\n",
        "1. Importing Libraries:\n",
        "   - The code starts by importing the necessary libraries: `numpy` for numerical operations and `matplotlib.pyplot` for creating visualizations.\n",
        "\n",
        "2. Generating Random Data:\n",
        "   - The line `numpy.random.seed(2)` sets the random seed for reproducibility.\n",
        "   - The following lines generate random data for `x` and `y` using the `numpy.random.normal` function.\n",
        "   - `x` represents independent variable values drawn from a normal distribution with a mean of 3 and standard deviation of 1.\n",
        "   - `y` represents dependent variable values drawn from a normal distribution with a mean of 150 divided by `x`, and a standard deviation of 40.\n",
        "\n",
        "3. Splitting Data into Training and Test Sets:\n",
        "   - The next lines split the data into training and test sets.\n",
        "   - `train_x` and `train_y` contain the first 80 data points of `x` and `y`, respectively, for training the model.\n",
        "   - `test_x` and `test_y` contain the remaining 20 data points for evaluating the model.\n",
        "\n",
        "4. Fitting the Polynomial Curve:\n",
        "   - The line `mymodel = numpy.poly1d(numpy.polyfit(train_x, train_y, 4))` fits a polynomial curve of degree 4 to the training data using the `polyfit` function from NumPy.\n",
        "   - The `polyfit` function takes the training data (`train_x` and `train_y`) and the desired degree of the polynomial (`4` in this case).\n",
        "   - It returns the coefficients of the polynomial, which are used to create a polynomial function object with `numpy.poly1d`.\n",
        "\n",
        "5. Generating Points on the Curve:\n",
        "   - The line `myline = numpy.linspace(0, 6, 100)` generates an array of 100 equally spaced points between 0 and 6 using the `linspace` function from NumPy.\n",
        "   - This `myline` array represents the x-values at which we want to evaluate the fitted polynomial curve.\n",
        "\n",
        "6. Creating the Scatter Plot:\n",
        "   - The line `plt.scatter(train_x, train_y)` creates a scatter plot of the training data using `matplotlib.pyplot`.\n",
        "   - `train_x` represents the x-axis values, and `train_y` represents the y-axis values.\n",
        "\n",
        "7. Plotting the Fitted Curve:\n",
        "   - The line `plt.plot(myline, mymodel(myline))` plots the fitted polynomial curve using the `plot` function.\n",
        "   - The `myline` array represents the x-values, and `mymodel(myline)` evaluates the fitted polynomial function at those x-values, providing the corresponding y-values for plotting.\n",
        "\n",
        "8. Displaying the Plot:\n",
        "   - Finally, `plt.show()` is called to display the scatter plot with the fitted polynomial curve.\n",
        "\n",
        "The output of this code will be a scatter plot of the training data along with the polynomial curve that best fits the data. The curve is generated using the coefficients obtained from the polynomial regression analysis."
      ],
      "metadata": {
        "id": "xNigT0s1meAU"
      }
    },
    {
      "cell_type": "markdown",
      "source": [
        "# **R2 value :-**"
      ],
      "metadata": {
        "id": "ICLHZYKKl5AR"
      }
    },
    {
      "cell_type": "code",
      "source": [
        "mymodel = numpy.poly1d(numpy.polyfit(train_x, train_y, 4))\n",
        "\n",
        "r2 = r2_score(train_y, mymodel(train_x))\n",
        "\n",
        "print(r2)"
      ],
      "metadata": {
        "id": "zbysmkZYl3Yb"
      },
      "execution_count": null,
      "outputs": []
    },
    {
      "cell_type": "markdown",
      "source": [
        "To calculate the R-squared (coefficient of determination) for the fitted polynomial curve on the training data, you can use the `r2_score` function from scikit-learn (sklearn). Here's an updated version of the code that includes the calculation of R-squared:\n",
        "\n",
        "```python\n",
        "import numpy\n",
        "from sklearn.metrics import r2_score\n",
        "\n",
        "mymodel = numpy.poly1d(numpy.polyfit(train_x, train_y, 4))\n",
        "\n",
        "r2 = r2_score(train_y, mymodel(train_x))\n",
        "\n",
        "print(r2)\n",
        "```\n",
        "\n",
        "Let's break down the code and its purpose:\n",
        "\n",
        "1. Importing Libraries:\n",
        "   - The code begins by importing the necessary libraries: `numpy` for numerical operations and `sklearn.metrics.r2_score` for calculating the R-squared score.\n",
        "\n",
        "2. Fitting the Polynomial Curve:\n",
        "   - The line `mymodel = numpy.poly1d(numpy.polyfit(train_x, train_y, 4))` fits a polynomial curve of degree 4 to the training data using the `polyfit` function from NumPy, as explained before.\n",
        "   - The `polyfit` function returns the coefficients of the polynomial, which are used to create a polynomial function object with `numpy.poly1d`.\n",
        "\n",
        "3. Calculating R-squared:\n",
        "   - The line `r2 = r2_score(train_y, mymodel(train_x))` calculates the R-squared score using the `r2_score` function.\n",
        "   - The `r2_score` function takes two arguments: the actual `train_y` values (the dependent variable) and the predicted `y` values obtained by evaluating the fitted polynomial function at the `train_x` values.\n",
        "   - The R-squared score represents the proportion of the variance in the dependent variable (`train_y`) that is predictable from the independent variable (`train_x`). It ranges from 0 to 1, with 1 indicating a perfect fit.\n",
        "\n",
        "4. Printing the R-squared Score:\n",
        "   - The line `print(r2)` outputs the calculated R-squared score.\n",
        "\n",
        "The output of this code will be the R-squared score, indicating the goodness of fit of the polynomial curve to the training data. The score closer to 1 suggests a better fit, while lower values indicate less explanatory power of the model on the training data."
      ],
      "metadata": {
        "id": "NmYS9iOAm0FZ"
      }
    },
    {
      "cell_type": "markdown",
      "source": [
        "# **Change string values into numerical values:**"
      ],
      "metadata": {
        "id": "rzfx7-MgnipW"
      }
    },
    {
      "cell_type": "code",
      "source": [
        "d = {'UK': 0, 'USA': 1, 'N': 2}\n",
        "df['Nationality'] = df['Nationality'].map(d)\n",
        "d = {'YES': 1, 'NO': 0}\n",
        "df['Go'] = df['Go'].map(d)\n",
        "\n",
        "print(df)\n",
        "\n"
      ],
      "metadata": {
        "id": "nU51Gnrzm1xi"
      },
      "execution_count": null,
      "outputs": []
    },
    {
      "cell_type": "markdown",
      "source": [
        "The code you provided performs mapping operations on specific columns of a pandas DataFrame. It maps specific values in the 'Nationality' and 'Go' columns to corresponding numeric representations using predefined dictionaries.\n",
        "\n",
        "Let's break down the code:\n",
        "\n",
        "1. Mapping 'Nationality' column:\n",
        "   - The line `d = {'UK': 0, 'USA': 1, 'N': 2}` defines a dictionary `d` with mappings for different nationalities.\n",
        "   - The subsequent line `df['Nationality'] = df['Nationality'].map(d)` maps the values in the 'Nationality' column of the DataFrame (`df`) to their corresponding numeric representations using the dictionary `d`.\n",
        "   - This operation replaces the original string values with their numeric counterparts in the 'Nationality' column.\n",
        "\n",
        "2. Mapping 'Go' column:\n",
        "   - The line `d = {'YES': 1, 'NO': 0}` defines a dictionary `d` with mappings for 'YES' and 'NO'.\n",
        "   - The subsequent line `df['Go'] = df['Go'].map(d)` maps the values in the 'Go' column of the DataFrame (`df`) to their corresponding numeric representations using the dictionary `d`.\n",
        "   - This operation replaces the original string values with their numeric counterparts in the 'Go' column.\n",
        "\n",
        "3. Printing the DataFrame:\n",
        "   - The line `print(df)` prints the updated DataFrame (`df`) with the mapped values in the 'Nationality' and 'Go' columns.\n",
        "\n",
        "The output of this code will be the DataFrame `df` with the 'Nationality' and 'Go' columns updated to contain numeric representations based on the mappings defined in the dictionaries."
      ],
      "metadata": {
        "id": "LyrlPyTDnp3Y"
      }
    },
    {
      "cell_type": "code",
      "source": [
        "# X is the feature columns, y is the target column:\n",
        "\n",
        "features = ['Age', 'Experience', 'Rank', 'Nationality']\n",
        "\n",
        "X = df[features]\n",
        "y = df['Go']\n",
        "\n",
        "print(X)\n",
        "print(y)"
      ],
      "metadata": {
        "id": "Vvb2XYYUnpZv"
      },
      "execution_count": null,
      "outputs": []
    },
    {
      "cell_type": "markdown",
      "source": [
        "# Create and display a Decision Tree:"
      ],
      "metadata": {
        "id": "WZJCrGZUn2Le"
      }
    },
    {
      "cell_type": "code",
      "source": [
        "import pandas\n",
        "from sklearn import tree\n",
        "from sklearn.tree import DecisionTreeClassifier\n",
        "import matplotlib.pyplot as plt\n",
        "\n",
        "df = pandas.read_csv(\"data.csv\")\n",
        "\n",
        "d = {'UK': 0, 'USA': 1, 'N': 2}\n",
        "df['Nationality'] = df['Nationality'].map(d)\n",
        "d = {'YES': 1, 'NO': 0}\n",
        "df['Go'] = df['Go'].map(d)\n",
        "\n",
        "features = ['Age', 'Experience', 'Rank', 'Nationality']\n",
        "\n",
        "X = df[features]\n",
        "y = df['Go']\n",
        "\n",
        "dtree = DecisionTreeClassifier()\n",
        "dtree = dtree.fit(X, y)\n",
        "\n",
        "tree.plot_tree(dtree, feature_names=features)\n",
        "\n"
      ],
      "metadata": {
        "id": "ljwH_CvwoMsF"
      },
      "execution_count": null,
      "outputs": []
    },
    {
      "cell_type": "markdown",
      "source": [
        "The code you provided utilizes scikit-learn (sklearn) to train a decision tree classifier using the 'data.csv' dataset. It then plots the decision tree using the `plot_tree` function from sklearn's `tree` module.\n",
        "\n",
        "Here's a step-by-step breakdown of the code:\n",
        "\n",
        "1. Importing Libraries:\n",
        "   - The code begins by importing the necessary libraries: `pandas` for data manipulation, `sklearn.tree` for decision tree-related functions, and `matplotlib.pyplot` for visualization purposes.\n",
        "\n",
        "2. Loading the Dataset:\n",
        "   - The line `df = pandas.read_csv(\"data.csv\")` reads the CSV file and loads it into a pandas DataFrame called `df`.\n",
        "\n",
        "3. Mapping Categorical Variables:\n",
        "   - The lines following the dataset loading code map specific values in the 'Nationality' and 'Go' columns to corresponding numeric representations using predefined dictionaries. This step is similar to the code you provided in the previous question.\n",
        "\n",
        "4. Defining Features and Target:\n",
        "   - The line `features = ['Age', 'Experience', 'Rank', 'Nationality']` defines a list of features to be used for training the decision tree.\n",
        "   - The line `X = df[features]` selects the columns specified in the `features` list as the feature matrix.\n",
        "   - The line `y = df['Go']` selects the 'Go' column as the target variable.\n",
        "\n",
        "5. Training the Decision Tree Classifier:\n",
        "   - The lines `dtree = DecisionTreeClassifier()` and `dtree = dtree.fit(X, y)` create an instance of the `DecisionTreeClassifier` class and fit the decision tree model to the training data (`X` and `y`).\n",
        "\n",
        "6. Plotting the Decision Tree:\n",
        "   - The line `tree.plot_tree(dtree, feature_names=features)` plots the decision tree using the `plot_tree` function.\n",
        "   - The `feature_names` parameter is set to `features` to label the tree nodes with the corresponding feature names.\n",
        "\n",
        "The output of this code will be a visual representation of the decision tree trained on the provided dataset, using the specified features and target variable. The tree will be plotted using the matplotlib library."
      ],
      "metadata": {
        "id": "Oa4OdGGZoNZS"
      }
    },
    {
      "cell_type": "markdown",
      "source": [
        "# Result Explained\n",
        "\n",
        "The decision tree uses your earlier decisions to calculate the odds for you to wanting to go see a comedian or not.\n",
        "\n",
        "Let us read the different aspects of the decision tree:\n",
        "\n",
        "\n",
        "![image.png](data:image/png;base64,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)\n",
        "\n",
        "\n",
        "Rank\n",
        "Rank <= 6.5 means that every comedian with a rank of 6.5 or lower will follow the True arrow (to the left), and the rest will follow the False arrow (to the right).\n",
        "\n",
        "gini = 0.497 refers to the quality of the split, and is always a number between 0.0 and 0.5, where 0.0 would mean all of the samples got the same result, and 0.5 would mean that the split is done exactly in the middle.\n",
        "\n",
        "samples = 13 means that there are 13 comedians left at this point in the decision, which is all of them since this is the first step.\n",
        "\n",
        "value = [6, 7] means that of these 13 comedians, 6 will get a \"NO\", and 7 will get a \"GO\".\n",
        "\n",
        "Gini\n",
        "There are many ways to split the samples, we use the GINI method in this tutorial.\n",
        "\n",
        "The Gini method uses this formula:\n",
        "\n",
        "Gini = 1 - (x/n)2 - (y/n)2\n",
        "\n",
        "![image.png](data:image/png;base64,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)\n",
        "\n",
        "Where x is the number of positive answers(\"GO\"), n is the number of samples, and y is the number of negative answers (\"NO\"), which gives us this calculation:\n",
        "\n",
        "1 - (7 / 13)2 - (6 / 13)2 = 0.497\n",
        "\n",
        "\n",
        "\n",
        "The next step contains two boxes, one box for the comedians with a 'Rank' of 6.5 or lower, and one box with the rest.\n",
        "\n",
        "True - 5 Comedians End Here:\n",
        "gini = 0.0 means all of the samples got the same result.\n",
        "\n",
        "samples = 5 means that there are 5 comedians left in this branch (5 comedian with a Rank of 6.5 or lower).\n",
        "\n",
        "value = [5, 0] means that 5 will get a \"NO\" and 0 will get a \"GO\"."
      ],
      "metadata": {
        "id": "8c2XvQm2org9"
      }
    },
    {
      "cell_type": "markdown",
      "source": [
        "# Creating a Confusion Matrix"
      ],
      "metadata": {
        "id": "jRuJL3ilpgXj"
      }
    },
    {
      "cell_type": "code",
      "source": [
        "import matplotlib.pyplot as plt\n",
        "import numpy\n",
        "from sklearn import metrics\n",
        "\n",
        "actual = numpy.random.binomial(1,.9,size = 1000)\n",
        "predicted = numpy.random.binomial(1,.9,size = 1000)\n",
        "\n",
        "confusion_matrix = metrics.confusion_matrix(actual, predicted)\n",
        "\n",
        "cm_display = metrics.ConfusionMatrixDisplay(confusion_matrix = confusion_matrix, display_labels = [False, True])\n",
        "\n",
        "cm_display.plot()\n",
        "plt.show()"
      ],
      "metadata": {
        "id": "dKGdeDUVoTJs"
      },
      "execution_count": null,
      "outputs": []
    },
    {
      "cell_type": "markdown",
      "source": [
        "The code you provided demonstrates the visualization of a confusion matrix using scikit-learn (sklearn) and matplotlib.\n",
        "\n",
        "Here's a breakdown of the code:\n",
        "\n",
        "The Confusion Matrix created has four different quadrants:\n",
        "\n",
        "True Negative (Top-Left Quadrant)\n",
        "False Positive (Top-Right Quadrant)\n",
        "False Negative (Bottom-Left Quadrant)\n",
        "True Positive (Bottom-Right Quadrant)\n",
        "\n",
        "`sklearn.metrics` for calculating metrics.\n",
        "\n",
        "2. Generating Random Binary Classification Results:\n",
        "   - The lines `actual = numpy.random.binomial(1,.9,size = 1000)` and `predicted = numpy.random.binomial(1,.9,size = 1000)` generate two arrays of binary classification results, `actual` and `predicted`, respectively.\n",
        "   - In this example, random binary classification results are generated based on a probability of success (1) of 0.9, resulting in arrays of size 1000.\n",
        "\n",
        "3. Calculating the Confusion Matrix:\n",
        "   - The line `confusion_matrix = metrics.confusion_matrix(actual, predicted)` calculates the confusion matrix using the `confusion_matrix` function from sklearn's `metrics` module.\n",
        "   - The `confusion_matrix` function takes the actual labels (`actual`) and predicted labels (`predicted`) as inputs and returns the resulting confusion matrix.\n",
        "\n",
        "4. Creating Confusion Matrix Display:\n",
        "   - The line `cm_display = metrics.ConfusionMatrixDisplay(confusion_matrix=confusion_matrix, display_labels=[False, True])` creates a `ConfusionMatrixDisplay` object, which encapsulates the confusion matrix for visualization.\n",
        "   - The `confusion_matrix` parameter is set to the previously calculated `confusion_matrix`.\n",
        "   - The `display_labels` parameter is set to specify the labels for the two classes: `False` and `True`.\n",
        "\n",
        "5. Plotting the Confusion Matrix:\n",
        "   - The line `cm_display.plot()` plots the confusion matrix using the `plot` method of the `ConfusionMatrixDisplay` object.\n",
        "\n",
        "6. Displaying the Plot:\n",
        "   - Finally, `plt.show()` is called to display the confusion matrix plot.\n",
        "\n",
        "The output of this code will be a visual representation of the confusion matrix, showing the distribution of predicted labels against actual labels for binary classification. The plot will include labels for the two classes: `False` and `True`."
      ],
      "metadata": {
        "id": "lzb82WptqAFX"
      }
    },
    {
      "cell_type": "code",
      "source": [
        "Accuracy = metrics.accuracy_score(actual, predicted)\n",
        "Precision = metrics.precision_score(actual, predicted)\n",
        "Sensitivity_recall = metrics.recall_score(actual, predicted)\n",
        "Specificity = metrics.recall_score(actual, predicted, pos_label=0)\n",
        "Specificity = metrics.recall_score(actual, predicted, pos_label=0)\n"
      ],
      "metadata": {
        "id": "7YI0gwC6p-9D"
      },
      "execution_count": null,
      "outputs": []
    },
    {
      "cell_type": "markdown",
      "source": [
        "The code you provided calculates various classification metrics, including accuracy, precision, sensitivity/recall, and specificity, using the scikit-learn `metrics` module. Let's go through each line and explain the code and the concept of each metric:\n",
        "\n",
        "1. Calculating Accuracy:\n",
        "   - The line `Accuracy = metrics.accuracy_score(actual, predicted)` calculates the accuracy score using the `accuracy_score` function from scikit-learn's `metrics` module.\n",
        "   - Accuracy measures the proportion of correct predictions out of the total number of predictions.\n",
        "   - The `accuracy_score` function takes the actual labels (`actual`) and predicted labels (`predicted`) as inputs and returns the accuracy score.\n",
        "   - A higher accuracy score indicates a better performance of the classification model.\n",
        "\n",
        "2. Calculating Precision:\n",
        "   - The line `Precision = metrics.precision_score(actual, predicted)` calculates the precision score using the `precision_score` function from scikit-learn's `metrics` module.\n",
        "   - Precision represents the proportion of true positive predictions (correctly predicted positive instances) out of the total positive predictions.\n",
        "   - The `precision_score` function takes the actual labels (`actual`) and predicted labels (`predicted`) as inputs and returns the precision score.\n",
        "   - Higher precision indicates a lower rate of false positive predictions.\n",
        "\n",
        "3. Calculating Sensitivity/Recall:\n",
        "   - The line `Sensitivity_recall = metrics.recall_score(actual, predicted)` calculates the sensitivity/recall score using the `recall_score` function from scikit-learn's `metrics` module.\n",
        "   - Sensitivity (also called recall) represents the proportion of true positive predictions out of the total actual positive instances.\n",
        "   - The `recall_score` function takes the actual labels (`actual`) and predicted labels (`predicted`) as inputs and returns the sensitivity/recall score.\n",
        "   - Higher sensitivity/recall indicates a lower rate of false negative predictions.\n",
        "\n",
        "4. Calculating Specificity:\n",
        "   - The line `Specificity = metrics.recall_score(actual, predicted, pos_label=0)` calculates the specificity score using the `recall_score` function from scikit-learn's `metrics` module.\n",
        "   - Specificity represents the proportion of true negative predictions (correctly predicted negative instances) out of the total actual negative instances.\n",
        "   - The `pos_label` parameter is set to `0` to specify the label of the negative class (non-positive) in the binary classification problem.\n",
        "   - The `recall_score` function calculates the recall/sensitivity for the specified class (positive class by default), but in this case, it is used to calculate the specificity (recall of the negative class).\n",
        "\n",
        "The concept of good or bad scores for these metrics depends on the specific problem and the importance of different evaluation criteria. In general:\n",
        "\n",
        "- Accuracy: A higher accuracy score is desired, indicating a higher proportion of correct predictions.\n",
        "- Precision: A higher precision score is desired, indicating a lower rate of false positive predictions.\n",
        "- Sensitivity/Recall: A higher sensitivity/recall score is desired, indicating a lower rate of false negative predictions.\n",
        "- Specificity: A higher specificity score is desired, indicating a higher rate of true negative predictions.\n",
        "\n",
        "It is important to consider the trade-offs between these metrics depending on the problem at hand. The choice of which metric is more appropriate to use as a measure of performance depends on the specific context and the relative importance of different types of errors (false positives and false negatives)."
      ],
      "metadata": {
        "id": "24zELMvErAqa"
      }
    },
    {
      "cell_type": "markdown",
      "source": [
        "# **dendrogram**"
      ],
      "metadata": {
        "id": "_LIdAUiBrxFp"
      }
    },
    {
      "cell_type": "code",
      "source": [
        "import numpy as np\n",
        "import matplotlib.pyplot as plt\n",
        "from scipy.cluster.hierarchy import dendrogram, linkage\n",
        "\n",
        "x = [4, 5, 10, 4, 3, 11, 14 , 6, 10, 12]\n",
        "y = [21, 19, 24, 17, 16, 25, 24, 22, 21, 21]\n",
        "\n",
        "data = list(zip(x, y))\n",
        "\n",
        "linkage_data = linkage(data, method='ward', metric='euclidean')\n",
        "dendrogram(linkage_data)\n",
        "\n",
        "plt.show()"
      ],
      "metadata": {
        "id": "kabYf7EVrlLV"
      },
      "execution_count": null,
      "outputs": []
    },
    {
      "cell_type": "markdown",
      "source": [
        "The code you provided performs hierarchical clustering and visualizes the resulting dendrogram using the `dendrogram` and `linkage` functions from scipy's `cluster.hierarchy` module. Here's a breakdown of the code:\n",
        "\n",
        " data points.\n",
        "\n",
        "3. Creating Data List:\n",
        "   - The line `data = list(zip(x, y))` combines the x and y coordinates into a list of tuples, representing the data points.\n",
        "\n",
        "4. Performing Hierarchical Clustering:\n",
        "   - The line `linkage_data = linkage(data, method='ward', metric='euclidean')` performs hierarchical clustering on the data using the `linkage` function.\n",
        "   - The `linkage` function takes the data points (`data`) as input and computes the linkage matrix based on the specified method ('ward') and metric ('euclidean').\n",
        "   - The 'ward' method uses the Ward variance minimization algorithm, and 'euclidean' is the distance metric used to measure the dissimilarity between data points.\n",
        "\n",
        "5. Plotting the Dendrogram:\n",
        "   - The line `dendrogram(linkage_data)` creates the dendrogram visualization using the `dendrogram` function.\n",
        "   - The `dendrogram` function takes the linkage matrix (`linkage_data`) as input and plots the dendrogram based on the hierarchical clustering results.\n",
        "\n",
        "6. Displaying the Plot:\n",
        "   - Finally, `plt.show()` is called to display the dendrogram plot.\n",
        "\n",
        "The output of this code will be a visual representation of the dendrogram, which illustrates the hierarchical clustering results. The dendrogram provides insights into the hierarchical relationships between data points based on their distances and clustering patterns."
      ],
      "metadata": {
        "id": "QBWv5myVsSFt"
      }
    },
    {
      "cell_type": "code",
      "source": [
        "import numpy as np\n",
        "import matplotlib.pyplot as plt\n",
        "from sklearn.cluster import AgglomerativeClustering\n",
        "\n",
        "x = [4, 5, 10, 4, 3, 11, 14 , 6, 10, 12]\n",
        "y = [21, 19, 24, 17, 16, 25, 24, 22, 21, 21]\n",
        "\n",
        "data = list(zip(x, y))\n",
        "\n",
        "hierarchical_cluster = AgglomerativeClustering(n_clusters=2, affinity='euclidean', linkage='ward')\n",
        "labels = hierarchical_cluster.fit_predict(data)\n",
        "\n",
        "plt.scatter(x, y, c=labels)\n",
        "plt.show()"
      ],
      "metadata": {
        "id": "ZSLLdfkLsMlN"
      },
      "execution_count": null,
      "outputs": []
    },
    {
      "cell_type": "markdown",
      "source": [
        "The code you provided performs agglomerative clustering using scikit-learn's `AgglomerativeClustering` class and visualizes the resulting clustering using `matplotlib.pyplot`. Here's a breakdown of the code:\n",
        "\n",
        "\n",
        "\n",
        "3. Creating Data List:\n",
        "   - The line `data = list(zip(x, y))` combines the x and y coordinates into a list of tuples, representing the data points.\n",
        "\n",
        "4. Performing Agglomerative Clustering:\n",
        "   - The line `hierarchical_cluster = AgglomerativeClustering(n_clusters=2, affinity='euclidean', linkage='ward')` creates an instance of the `AgglomerativeClustering` class.\n",
        "   - The `n_clusters` parameter is set to 2, indicating the desired number of clusters.\n",
        "   - The `affinity` parameter is set to 'euclidean', specifying the distance metric to be used.\n",
        "   - The `linkage` parameter is set to 'ward', representing the linkage criterion used for merging clusters.\n",
        "   - The line `labels = hierarchical_cluster.fit_predict(data)` performs agglomerative clustering on the data and assigns cluster labels to each data point.\n",
        "\n",
        "5. Plotting the Clustering Result:\n",
        "   - The line `plt.scatter(x, y, c=labels)` creates a scatter plot of the data points.\n",
        "   - The `c` parameter is set to `labels`, which assigns different colors to the data points based on their cluster labels.\n",
        "\n",
        "6. Displaying the Plot:\n",
        "   - Finally, `plt.show()` is called to display the scatter plot representing the clustering result.\n",
        "\n",
        "The output of this code will be a scatter plot where each data point is colored according to its assigned cluster label based on the agglomerative clustering algorithm. In this example, the algorithm is configured to create 2 clusters (`n_clusters=2`)."
      ],
      "metadata": {
        "id": "X2WAnqH8sbIL"
      }
    },
    {
      "cell_type": "markdown",
      "source": [
        "# **Logistic Regression**\n",
        "\n"
      ],
      "metadata": {
        "id": "x5i_D6qOs1ZT"
      }
    },
    {
      "cell_type": "code",
      "source": [
        "import numpy\n",
        "from sklearn import linear_model\n",
        "\n",
        "#Reshaped for Logistic function.\n",
        "X = numpy.array([3.78, 2.44, 2.09, 0.14, 1.72, 1.65, 4.92, 4.37, 4.96, 4.52, 3.69, 5.88]).reshape(-1,1)\n",
        "y = numpy.array([0, 0, 0, 0, 0, 0, 1, 1, 1, 1, 1, 1])\n",
        "\n",
        "logr = linear_model.LogisticRegression()\n",
        "logr.fit(X,y)\n",
        "\n",
        "#predict if tumor is cancerous where the size is 3.46mm:\n",
        "predicted = logr.predict(numpy.array([3.46]).reshape(-1,1))\n",
        "print(predicted)"
      ],
      "metadata": {
        "id": "P7ZUpa9ZtCpt"
      },
      "execution_count": null,
      "outputs": []
    },
    {
      "cell_type": "markdown",
      "source": [
        "The code you provided demonstrates logistic regression using scikit-learn's `linear_model.LogisticRegression` class. It trains a logistic regression model on the given data and predicts the class label for a new input.\n",
        "\n",
        "Here's a breakdown of the code:\n",
        "\n",
        "\n",
        "2. Preparing the Data:\n",
        "   - The line `X = numpy.array([3.78, 2.44, 2.09, 0.14, 1.72, 1.65, 4.92, 4.37, 4.96, 4.52, 3.69, 5.88]).reshape(-1,1)` prepares the input features (`X`) by creating a NumPy array and reshaping it to have a single feature column.\n",
        "   - The line `y = numpy.array([0, 0, 0, 0, 0, 0, 1, 1, 1, 1, 1, 1])` prepares the corresponding target labels (`y`) as a NumPy array.\n",
        "\n",
        "3. Training the Logistic Regression Model:\n",
        "   - The line `logr = linear_model.LogisticRegression()` creates an instance of the `LogisticRegression` class.\n",
        "   - The subsequent line `logr.fit(X,y)` fits the logistic regression model to the training data (`X` and `y`).\n",
        "\n",
        "4. Predicting New Data:\n",
        "   - The line `predicted = logr.predict(numpy.array([3.46]).reshape(-1,1))` predicts the class label for a new input (`3.46`) using the trained logistic regression model.\n",
        "   - The input is reshaped using `numpy.array([3.46]).reshape(-1,1)` to match the shape expected by the model (single feature column).\n",
        "\n",
        "5. Printing the Prediction:\n",
        "   - The line `print(predicted)` outputs the predicted class label for the given input.\n",
        "\n",
        "The output of this code will be the predicted class label for the new input (`3.46`) based on the logistic regression model. The predicted class label can be either `0` or `1`, representing the predicted probability of the tumor being cancerous."
      ],
      "metadata": {
        "id": "yKKjibd-tYO-"
      }
    },
    {
      "cell_type": "markdown",
      "source": [
        "# coifficent"
      ],
      "metadata": {
        "id": "20DiTOALuQ6S"
      }
    },
    {
      "cell_type": "code",
      "source": [
        "import numpy\n",
        "from sklearn import linear_model\n",
        "\n",
        "#Reshaped for Logistic function.\n",
        "X = numpy.array([3.78, 2.44, 2.09, 0.14, 1.72, 1.65, 4.92, 4.37, 4.96, 4.52, 3.69, 5.88]).reshape(-1,1)\n",
        "y = numpy.array([0, 0, 0, 0, 0, 0, 1, 1, 1, 1, 1, 1])\n",
        "\n",
        "logr = linear_model.LogisticRegression()\n",
        "logr.fit(X,y)\n",
        "\n",
        "log_odds = logr.coef_\n",
        "odds = numpy.exp(log_odds)\n",
        "\n",
        "print(odds)\n",
        "\n"
      ],
      "metadata": {
        "id": "V02fHw0GtIJt"
      },
      "execution_count": null,
      "outputs": []
    },
    {
      "cell_type": "markdown",
      "source": [
        "The code you provided calculates the odds based on the coefficients of a logistic regression model trained on the given data. Here's a breakdown of the code:\n",
        "\n",
        "1. Importing Libraries:\n",
        "   - The code begins by importing the necessary libraries: `numpy` for numerical operations and `sklearn.linear_model` for logistic regression.\n",
        "\n",
        "2. Preparing the Data:\n",
        "   - The line `X = numpy.array([3.78, 2.44, 2.09, 0.14, 1.72, 1.65, 4.92, 4.37, 4.96, 4.52, 3.69, 5.88]).reshape(-1,1)` prepares the input features (`X`) by creating a NumPy array and reshaping it to have a single feature column.\n",
        "   - The line `y = numpy.array([0, 0, 0, 0, 0, 0, 1, 1, 1, 1, 1, 1])` prepares the corresponding target labels (`y`) as a NumPy array.\n",
        "\n",
        "3. Training the Logistic Regression Model:\n",
        "   - The line `logr = linear_model.LogisticRegression()` creates an instance of the `LogisticRegression` class.\n",
        "   - The subsequent line `logr.fit(X,y)` fits the logistic regression model to the training data (`X` and `y`).\n",
        "\n",
        "4. Calculating Odds:\n",
        "   - The line `log_odds = logr.coef_` retrieves the coefficients (log-odds) of the logistic regression model.\n",
        "   - The line `odds = numpy.exp(log_odds)` calculates the odds by exponentiating the log-odds.\n",
        "   - Exponentiating the log-odds transforms them into the odds, which represent the ratio of the probability of the event occurring to the probability of the event not occurring.\n",
        "\n",
        "5. Printing the Odds:\n",
        "   - The line `print(odds)` outputs the calculated odds.\n",
        "\n",
        "The output of this code will be the odds calculated based on the coefficients of the logistic regression model. The odds represent the ratio of the probability of the event (in this case, the target class being 1) occurring to the probability of the event not occurring (target class being 0). The odds can provide insights into the relative likelihood of the event occurring based on the logistic regression model."
      ],
      "metadata": {
        "id": "nm5815V7tyvz"
      }
    },
    {
      "cell_type": "markdown",
      "source": [
        "# **probability**"
      ],
      "metadata": {
        "id": "kZGsj3K-uHK7"
      }
    },
    {
      "cell_type": "code",
      "source": [
        "import numpy\n",
        "from sklearn import linear_model\n",
        "\n",
        "X = numpy.array([3.78, 2.44, 2.09, 0.14, 1.72, 1.65, 4.92, 4.37, 4.96, 4.52, 3.69, 5.88]).reshape(-1,1)\n",
        "y = numpy.array([0, 0, 0, 0, 0, 0, 1, 1, 1, 1, 1, 1])\n",
        "\n",
        "logr = linear_model.LogisticRegression()\n",
        "logr.fit(X,y)\n",
        "\n",
        "\n",
        "def logit2prob(logr, X):\n",
        "  log_odds = logr.coef_ * X + logr.intercept_\n",
        "  odds = numpy.exp(log_odds)\n",
        "  probability = odds / (1 + odds)\n",
        "  return(probability)\n",
        "\n",
        "print(logit2prob(logr, X))"
      ],
      "metadata": {
        "id": "RSO1Evvlt0Ws"
      },
      "execution_count": null,
      "outputs": []
    },
    {
      "cell_type": "markdown",
      "source": [
        "result :-\n",
        "\n",
        "\n",
        "3.78 0.61 The probability that a tumor with the size 3.78cm is cancerous is 61%.\n",
        "\n",
        "2.44 0.19 The probability that a tumor with the size 2.44cm is cancerous is 19%.\n",
        "\n",
        "2.09 0.13 The probability that a tumor with the size 2.09cm is cancerous is 13%.\n",
        "\n",
        "\n",
        "The code you provided defines a function called `logit2prob` that converts logit values to probabilities using a trained logistic regression model. Here's a breakdown of the code:\n",
        "\n",
        "\n",
        "\n",
        "1. Function Definition:\n",
        "   - The code defines a function called `logit2prob` with two parameters: `logr` (the trained logistic regression model) and `x` (the input value).\n",
        "\n",
        "2. Calculating Log-Odds:\n",
        "   - The line `log_odds = logr.coef_ * x + logr.intercept_` calculates the log-odds by multiplying the coefficient(s) of the logistic regression model (`logr.coef_`) with the input value (`x`) and adding the intercept term (`logr.intercept_`).\n",
        "   - The log-odds represent the linear combination of the input value and the logistic regression model's coefficients.\n",
        "\n",
        "3. Calculating Odds and Probability:\n",
        "   - The line `odds = numpy.exp(log_odds)` calculates the odds by exponentiating the log-odds.\n",
        "   - The line `probability = odds / (1 + odds)` calculates the probability by dividing the odds by the sum of the odds and 1.\n",
        "   - This step transforms the odds into probabilities using the logistic function.\n",
        "\n",
        "4. Returning the Probability:\n",
        "   - The line `return(probability)` returns the calculated probability from the function.\n",
        "\n",
        "By calling this `logit2prob` function with a trained logistic regression model (`logr`) and an input value (`x`), it calculates the corresponding probability using the logistic regression model's coefficients and the logistic function. The output of this function will be the converted probability based on the given input value.\n",
        "\n"
      ],
      "metadata": {
        "id": "h1lWDsq3uoDo"
      }
    },
    {
      "cell_type": "markdown",
      "source": [
        "# **Using Default Parameters**"
      ],
      "metadata": {
        "id": "VBelLtaH9fdF"
      }
    },
    {
      "cell_type": "code",
      "source": [
        "from sklearn import datasets\n",
        "from sklearn.linear_model import LogisticRegression\n",
        "\n",
        "iris = datasets.load_iris()\n",
        "\n",
        "X = iris['data']\n",
        "y = iris['target']\n",
        "\n",
        "logit = LogisticRegression(max_iter = 10000)\n",
        "\n",
        "print(logit.fit(X,y))\n",
        "\n",
        "print(logit.score(X,y))"
      ],
      "metadata": {
        "id": "BGXFHfmQuq6u"
      },
      "execution_count": null,
      "outputs": []
    },
    {
      "cell_type": "markdown",
      "source": [
        "# **Implementing Grid Search**"
      ],
      "metadata": {
        "id": "2SEYgvdR9sXB"
      }
    },
    {
      "cell_type": "code",
      "source": [
        "from sklearn import datasets\n",
        "from sklearn.linear_model import LogisticRegression\n",
        "\n",
        "iris = datasets.load_iris()\n",
        "\n",
        "X = iris['data']\n",
        "y = iris['target']\n",
        "\n",
        "logit = LogisticRegression(max_iter = 10000)\n",
        "\n",
        "C = [0.25, 0.5, 0.75, 1, 1.25, 1.5, 1.75, 2]\n",
        "\n",
        "scores = []\n",
        "\n",
        "for choice in C:\n",
        "  logit.set_params(C=choice)\n",
        "  logit.fit(X, y)\n",
        "  scores.append(logit.score(X, y))\n",
        "\n",
        "print(scores)\n"
      ],
      "metadata": {
        "id": "ejM7SiBV9r6_"
      },
      "execution_count": null,
      "outputs": []
    },
    {
      "cell_type": "markdown",
      "source": [
        "The code you provided performs logistic regression on the Iris dataset using scikit-learn's `LogisticRegression` class. It evaluates the model's performance for different values of the regularization parameter (C) and prints the scores for each choice of C. Here's a breakdown of the code:\n",
        "\n",
        "1. Importing Libraries:\n",
        "   - The code begins by importing the necessary libraries: `datasets` from scikit-learn to load the Iris dataset and `LogisticRegression` from scikit-learn's `linear_model` module for logistic regression.\n",
        "\n",
        "2. Loading the Dataset:\n",
        "   - The line `iris = datasets.load_iris()` loads the Iris dataset into the `iris` variable.\n",
        "\n",
        "3. Preparing the Data:\n",
        "   - The line `X = iris['data']` assigns the input features (iris data) to the variable `X`.\n",
        "   - The line `y = iris['target']` assigns the target labels (iris target) to the variable `y`.\n",
        "\n",
        "4. Creating Logistic Regression Model:\n",
        "   - The line `logit = LogisticRegression(max_iter=10000)` creates an instance of the `LogisticRegression` class for logistic regression.\n",
        "   - The `max_iter` parameter is set to `10000` to ensure convergence during the training process.\n",
        "\n",
        "5. Setting Regularization Parameter and Evaluating Performance:\n",
        "   - The line `C = [0.25, 0.5, 0.75, 1, 1.25, 1.5, 1.75, 2]` defines a list of different choices for the regularization parameter C.\n",
        "   - The `C` parameter controls the inverse of the regularization strength. Smaller values of C specify stronger regularization.\n",
        "   - The loop iterates over each value in `C`:\n",
        "     - The line `logit.set_params(C=choice)` sets the `C` parameter of the logistic regression model to the current choice.\n",
        "     - The line `logit.fit(X, y)` fits the logistic regression model to the training data.\n",
        "     - The line `scores.append(logit.score(X, y))` calculates and appends the accuracy score of the model on the training data to the `scores` list.\n",
        "\n",
        "6. Printing the Scores:\n",
        "   - The line `print(scores)` outputs the accuracy scores for each choice of the regularization parameter C.\n",
        "\n",
        "The output of this code will be a list of accuracy scores corresponding to each choice of the regularization parameter C. The scores represent the performance of the logistic regression model on the Iris dataset for different levels of regularization.\n",
        "\n",
        "\n",
        "# **about grid search cv**\n",
        "\n",
        "Grid search cross-validation (GridSearchCV) is an essential technique in machine learning for hyperparameter tuning and model selection. Here's a summary of its importance in five lines:\n",
        "\n",
        "1. Hyperparameter Tuning: GridSearchCV allows systematic exploration of multiple combinations of hyperparameters to find the optimal configuration for a machine learning model.\n",
        "2. Performance Optimization: By evaluating models with different hyperparameter settings, GridSearchCV helps identify the hyperparameters that yield the best performance on a specific dataset.\n",
        "3. Automatic Search: GridSearchCV automates the process of trying out different hyperparameter combinations, saving time and effort compared to manual tuning.\n",
        "4. Generalization: By using cross-validation, GridSearchCV estimates the performance of each hyperparameter combination on unseen data, improving the model's generalization ability.\n",
        "5. Model Selection: GridSearchCV aids in selecting the best model from a set of candidates based on performance metrics, ensuring the chosen model is optimized for the given task and dataset.\n",
        "\n",
        "In summary, GridSearchCV simplifies the process of hyperparameter tuning, optimizes model performance, automates search, enhances generalization, and assists in model selection, making it an important technique for maximizing the effectiveness of machine learning models."
      ],
      "metadata": {
        "id": "8GtHoXHP9_zM"
      }
    },
    {
      "cell_type": "code",
      "source": [
        "import pandas as pd\n",
        "\n",
        "cars = pd.read_csv('data.csv')\n",
        "ohe_cars = pd.get_dummies(cars[['Car']])\n",
        "\n",
        "print(ohe_cars.to_string())"
      ],
      "metadata": {
        "id": "_MoUohD5-Ne0"
      },
      "execution_count": null,
      "outputs": []
    },
    {
      "cell_type": "markdown",
      "source": [
        "The code you provided performs one-hot encoding on the 'Car' column of a DataFrame using pandas' `get_dummies` function and prints the resulting one-hot encoded DataFrame. Here's a breakdown of the code:\n",
        "\n",
        "1. Importing Libraries:\n",
        "   - The code begins by importing the necessary library: `pandas` as `pd` for data manipulation and analysis.\n",
        "\n",
        "2. Loading the Data:\n",
        "   - The line `cars = pd.read_csv('data.csv')` loads the data from the 'data.csv' file into a DataFrame called `cars`.\n",
        "\n",
        "3. Performing One-Hot Encoding:\n",
        "   - The line `ohe_cars = pd.get_dummies(cars[['Car']])` applies one-hot encoding to the 'Car' column of the `cars` DataFrame using the `get_dummies` function from pandas.\n",
        "   - The `get_dummies` function converts categorical variables into binary columns, creating new columns for each unique value in the specified column(s).\n",
        "\n",
        "4. Printing the One-Hot Encoded DataFrame:\n",
        "   - The line `print(ohe_cars.to_string())` prints the one-hot encoded DataFrame (`ohe_cars`) using the `to_string` method.\n",
        "   - The `to_string` method converts the DataFrame to a string representation for printing.\n",
        "\n",
        "The output of this code will be the one-hot encoded DataFrame (`ohe_cars`) displayed in a tabular format. Each unique value in the original 'Car' column will have a corresponding binary column, where a value of 1 indicates the presence of that category, and 0 indicates its absence. This representation allows for easier handling of categorical variables in machine learning algorithms that require numeric input."
      ],
      "metadata": {
        "id": "N0zZFKRL_FVS"
      }
    },
    {
      "cell_type": "code",
      "source": [
        "import pandas\n",
        "from sklearn import linear_model\n",
        "\n",
        "cars = pandas.read_csv(\"data.csv\")\n",
        "ohe_cars = pandas.get_dummies(cars[['Car']])\n",
        "\n",
        "X = pandas.concat([cars[['Volume', 'Weight']], ohe_cars], axis=1)\n",
        "y = cars['CO2']\n",
        "\n",
        "regr = linear_model.LinearRegression()\n",
        "regr.fit(X,y)\n",
        "\n",
        "##predict the CO2 emission of a Volvo where the weight is 2300kg, and the volume is 1300cm3:\n",
        "predictedCO2 = regr.predict([[2300, 1300,0,0,0,0,0,0,0,0,0,0,0,0,0,0,0,1,0]])\n",
        "\n",
        "print(predictedCO2)"
      ],
      "metadata": {
        "id": "O9yd7Jgf_MK9"
      },
      "execution_count": null,
      "outputs": []
    },
    {
      "cell_type": "markdown",
      "source": [
        "The code you provided trains a linear regression model on the car dataset, including one-hot encoded categorical features. It then predicts the CO2 emission for a specific car using the trained model. Here's a breakdown of the code:\n",
        "\n",
        "\n",
        "\n",
        "3. Performing One-Hot Encoding:\n",
        "   - The line `ohe_cars = pandas.get_dummies(cars[['Car']])` applies one-hot encoding to the 'Car' column of the `cars` DataFrame, creating a new DataFrame called `ohe_cars`.\n",
        "   - The `get_dummies` function converts the categorical variable 'Car' into binary columns.\n",
        "\n",
        "4. Preparing the Feature and Target Data:\n",
        "   - The line `X = pandas.concat([cars[['Volume', 'Weight']], ohe_cars], axis=1)` concatenates the numeric features ('Volume' and 'Weight') and the one-hot encoded categorical features (`ohe_cars`) into a single DataFrame `X`.\n",
        "   - The line `y = cars['CO2']` assigns the 'CO2' column of the `cars` DataFrame as the target variable.\n",
        "\n",
        "5. Training the Linear Regression Model:\n",
        "   - The line `regr = linear_model.LinearRegression()` creates an instance of the `LinearRegression` class for linear regression.\n",
        "   - The subsequent line `regr.fit(X, y)` fits the linear regression model to the training data (`X` and `y`).\n",
        "\n",
        "6. Predicting the CO2 Emission for a Specific Car:\n",
        "   - The line `predictedCO2 = regr.predict([[2300, 1300,0,0,0,0,0,0,0,0,0,0,0,0,0,0,0,1,0]])` predicts the CO2 emission for a specific car by providing the feature values as a list of lists (2D array).\n",
        "   - The feature values include the weight, volume, and the one-hot encoded values for the car brand (Volvo).\n",
        "\n",
        "7. Printing the Predicted CO2 Emission:\n",
        "   - The line `print(predictedCO2)` outputs the predicted CO2 emission value.\n",
        "\n",
        "The output of this code will be the predicted CO2 emission for the specified car based on the trained linear regression model."
      ],
      "metadata": {
        "id": "mJgOyQfO_Gzx"
      }
    },
    {
      "cell_type": "markdown",
      "source": [
        "# **K-means**"
      ],
      "metadata": {
        "id": "XZFtP49BAQf5"
      }
    },
    {
      "cell_type": "code",
      "source": [
        "from sklearn.cluster import KMeans\n",
        "\n",
        "data = list(zip(x, y))\n",
        "inertias = []\n",
        "\n",
        "for i in range(1,11):\n",
        "    kmeans = KMeans(n_clusters=i)\n",
        "    kmeans.fit(data)\n",
        "    inertias.append(kmeans.inertia_)\n",
        "\n",
        "plt.plot(range(1,11), inertias, marker='o')\n",
        "plt.title('Elbow method')\n",
        "plt.xlabel('Number of clusters')\n",
        "plt.ylabel('Inertia')\n",
        "plt.show()"
      ],
      "metadata": {
        "id": "ivPAtg4X_3kJ"
      },
      "execution_count": null,
      "outputs": []
    },
    {
      "cell_type": "markdown",
      "source": [
        "The code you provided performs the K-means clustering algorithm on a dataset and uses the Elbow method to determine the optimal number of clusters. Here's a breakdown of the code:\n",
        "\n",
        "\n",
        "\n",
        "2. Creating Data List:\n",
        "   - The line `data = list(zip(x, y))` creates a list of tuples by combining the x and y coordinates into a single list, representing the data points.\n",
        "\n",
        "3. Computing Inertias for Different Numbers of Clusters:\n",
        "   - The line `inertias = []` initializes an empty list to store the inertia values for different numbers of clusters.\n",
        "   - The following loop iterates from 1 to 10 (exclusive) to try different numbers of clusters:\n",
        "     - The line `kmeans = KMeans(n_clusters=i)` creates an instance of the `KMeans` class with the current number of clusters (`i`).\n",
        "     - The line `kmeans.fit(data)` fits the K-means model to the data.\n",
        "     - The line `inertias.append(kmeans.inertia_)` adds the inertia value of the K-means model to the `inertias` list.\n",
        "     - The inertia is a measure of how internally coherent the clusters are. A lower inertia indicates better clustering.\n",
        "\n",
        "4. Plotting the Elbow Curve:\n",
        "   - The lines `plt.plot(range(1,11), inertias, marker='o')` create a line plot, where the x-axis represents the number of clusters and the y-axis represents the inertia values.\n",
        "   - The `range(1,11)` generates the x-axis values from 1 to 10 (inclusive).\n",
        "   - The `inertias` list provides the y-axis values.\n",
        "   - The `marker='o'` argument specifies that markers should be placed at each data point.\n",
        "   - The subsequent lines `plt.title('Elbow method')`, `plt.xlabel('Number of clusters')`, and `plt.ylabel('Inertia')` set the title and labels for the plot.\n",
        "   - Finally, `plt.show()` is called to display the plot.\n",
        "\n",
        "The output of this code will be a line plot (Elbow curve) showing the relationship between the number of clusters and the corresponding inertia values. The Elbow method helps to identify the optimal number of clusters based on the \"elbow\" point in the plot, where the inertia starts to decrease more slowly. This point indicates a trade-off between maximizing cluster separation and minimizing intra-cluster variance."
      ],
      "metadata": {
        "id": "F2Rpi6BRAFkZ"
      }
    },
    {
      "cell_type": "code",
      "source": [
        "# The elbow method shows that 2 is a good value for K, so we retrain and visualize the result:\n",
        "\n",
        "kmeans = KMeans(n_clusters=2)\n",
        "kmeans.fit(data)\n",
        "\n",
        "plt.scatter(x, y, c=kmeans.labels_)\n",
        "plt.show()"
      ],
      "metadata": {
        "id": "wjq-fme4AHeT"
      },
      "execution_count": null,
      "outputs": []
    },
    {
      "cell_type": "markdown",
      "source": [
        "\n",
        "\n",
        "\n",
        "\n",
        "# **Bootstrap Aggregation (Bagging)**\n",
        "\n",
        "\n",
        "\n"
      ],
      "metadata": {
        "id": "AANz2yQIAxrA"
      }
    },
    {
      "cell_type": "code",
      "source": [
        "from sklearn import datasets\n",
        "from sklearn.model_selection import train_test_split\n",
        "from sklearn.metrics import accuracy_score\n",
        "from sklearn.tree import DecisionTreeClassifier\n",
        "\n",
        "data = datasets.load_wine(as_frame = True)\n",
        "\n",
        "X = data.data\n",
        "y = data.target\n",
        "\n",
        "X_train, X_test, y_train, y_test = train_test_split(X, y, test_size = 0.25, random_state = 22)\n",
        "\n",
        "dtree = DecisionTreeClassifier(random_state = 22)\n",
        "dtree.fit(X_train,y_train)\n",
        "\n",
        "y_pred = dtree.predict(X_test)\n",
        "\n",
        "print(\"Train data accuracy:\",accuracy_score(y_true = y_train, y_pred = dtree.predict(X_train)))\n",
        "print(\"Test data accuracy:\",accuracy_score(y_true = y_test, y_pred = y_pred))\n"
      ],
      "metadata": {
        "id": "VvsV0YIyBEPf"
      },
      "execution_count": null,
      "outputs": []
    },
    {
      "cell_type": "code",
      "source": [
        "models = []\n",
        "scores = []\n",
        "\n",
        "for n_estimators in estimator_range:\n",
        "\n",
        "    # Create bagging classifier\n",
        "    clf = BaggingClassifier(n_estimators = n_estimators, random_state = 22)\n",
        "\n",
        "    # Fit the model\n",
        "    clf.fit(X_train, y_train)\n",
        "\n",
        "    # Append the model and score to their respective list\n",
        "    models.append(clf)\n",
        "    scores.append(accuracy_score(y_true = y_test, y_pred = clf.predict(X_test)))"
      ],
      "metadata": {
        "id": "rncSU0vvBQEP"
      },
      "execution_count": null,
      "outputs": []
    },
    {
      "cell_type": "markdown",
      "source": [
        "The code you provided trains multiple BaggingClassifier models with different numbers of estimators (n_estimators) and stores the models and their corresponding scores. Here's a breakdown of the code:\n",
        "\n",
        "1. Initializing Lists:\n",
        "   - The code starts by initializing two empty lists: `models` to store the trained models and `scores` to store the accuracy scores.\n",
        "\n",
        "2. Looping Over the Estimator Range:\n",
        "   - The code iterates over a range of `n_estimators` values specified in `estimator_range`.\n",
        "   - For each `n_estimators` value:\n",
        "     - The line `clf = BaggingClassifier(n_estimators=n_estimators, random_state=22)` creates a BaggingClassifier instance with the current number of estimators (`n_estimators`) and a random state of 22.\n",
        "     - The random state ensures reproducibility of results.\n",
        "     - The line `clf.fit(X_train, y_train)` fits the BaggingClassifier model to the training data (`X_train` and `y_train`).\n",
        "\n",
        "3. Appending Models and Scores:\n",
        "   - The line `models.append(clf)` adds the trained BaggingClassifier model to the `models` list.\n",
        "   - The line `scores.append(accuracy_score(y_true=y_test, y_pred=clf.predict(X_test)))` calculates the accuracy score by comparing the true labels (`y_test`) with the predicted labels from the BaggingClassifier model (`clf.predict(X_test)`), and appends the score to the `scores` list.\n",
        "\n",
        "The output of this code will be two lists: `models`, which contains the trained BaggingClassifier models for different numbers of estimators, and `scores`, which contains the accuracy scores corresponding to each model. These scores indicate the performance of the models on the test set (`X_test` and `y_test`).\n",
        "\n",
        "\n"
      ],
      "metadata": {
        "id": "4ay9oyoDBf4j"
      }
    },
    {
      "cell_type": "code",
      "source": [
        "\n",
        "#visualization\n",
        "\n",
        "import matplotlib.pyplot as plt\n",
        "\n",
        "# Generate the plot of scores against number of estimators\n",
        "plt.figure(figsize=(9,6))\n",
        "plt.plot(estimator_range, scores)\n",
        "\n",
        "# Adjust labels and font (to make visable)\n",
        "plt.xlabel(\"n_estimators\", fontsize = 18)\n",
        "plt.ylabel(\"score\", fontsize = 18)\n",
        "plt.tick_params(labelsize = 16)\n",
        "\n",
        "# Visualize plot\n",
        "plt.show()"
      ],
      "metadata": {
        "id": "io9zny9oBhY0"
      },
      "execution_count": null,
      "outputs": []
    },
    {
      "cell_type": "markdown",
      "source": [
        "![image.png](data:image/png;base64,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)"
      ],
      "metadata": {
        "id": "lVA2CTa0CqOV"
      }
    },
    {
      "cell_type": "markdown",
      "source": [
        "# **create decison tree from bagging classifier **"
      ],
      "metadata": {
        "id": "Tv4a_szGCIfc"
      }
    },
    {
      "cell_type": "code",
      "source": [
        "#Three lines to make our compiler able to draw:\n",
        "import sys\n",
        "import matplotlib\n",
        "matplotlib.use('Agg')\n",
        "\n",
        "import matplotlib.pyplot as plt\n",
        "from sklearn import datasets\n",
        "from sklearn.model_selection import train_test_split\n",
        "from sklearn.ensemble import BaggingClassifier\n",
        "from sklearn.tree import plot_tree\n",
        "\n",
        "data = datasets.load_wine()\n",
        "\n",
        "X = data.data\n",
        "y = data.target\n",
        "\n",
        "X_train, X_test, y_train, y_test = train_test_split(X, y, test_size = 0.25, random_state = 22)\n",
        "\n",
        "oob_model = BaggingClassifier(n_estimators = 12, oob_score = True,random_state = 22)\n",
        "\n",
        "oob_model.fit(X_train, y_train)\n",
        "\n",
        "clf = BaggingClassifier(n_estimators = 12, oob_score = True,random_state = 22)\n",
        "\n",
        "clf.fit(X_train, y_train)\n",
        "\n",
        "plt.figure(figsize=(30, 20))\n",
        "\n",
        "plot_tree(clf.estimators_[0])\n",
        "\n",
        "#Two  lines to make our compiler able to draw:\n",
        "plt.savefig(sys.stdout.buffer)\n",
        "sys.stdout.flush()\n"
      ],
      "metadata": {
        "id": "zpqgVRwKCQhz"
      },
      "execution_count": null,
      "outputs": []
    },
    {
      "cell_type": "markdown",
      "source": [
        "![image.png](data:image/png;base64,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)"
      ],
      "metadata": {
        "id": "a2n_t-sWCUrv"
      }
    },
    {
      "cell_type": "markdown",
      "source": [
        "# **Cross Validation**"
      ],
      "metadata": {
        "id": "IxIfXtyDC_z4"
      }
    },
    {
      "cell_type": "code",
      "source": [
        "from sklearn import datasets\n",
        "from sklearn.tree import DecisionTreeClassifier\n",
        "from sklearn.model_selection import KFold, cross_val_score\n",
        "\n",
        "X, y = datasets.load_iris(return_X_y=True)\n",
        "\n",
        "clf = DecisionTreeClassifier(random_state=42)\n",
        "\n",
        "k_folds = KFold(n_splits = 5)\n",
        "\n",
        "scores = cross_val_score(clf, X, y, cv = k_folds)\n",
        "\n",
        "print(\"Cross Validation Scores: \", scores)\n",
        "print(\"Average CV Score: \", scores.mean())\n",
        "print(\"Number of CV Scores used in Average: \", len(scores))\n",
        "\n",
        "\n",
        "result:\n",
        "\n",
        "Cross Validation Scores:  [1.         1.         0.83333333 0.93333333 0.8       ]\n",
        "Average CV Score:  0.9133333333333333\n",
        "Number of CV Scores used in Average:  5"
      ],
      "metadata": {
        "id": "pz4Uj5gZC6qg"
      },
      "execution_count": null,
      "outputs": []
    },
    {
      "cell_type": "markdown",
      "source": [
        "The code you provided performs cross-validation using K-Fold on the Iris dataset with a Decision Tree Classifier. It calculates and prints the cross-validation scores, the average cross-validation score, and the number of cross-validation scores used in the average. Here's a breakdown of the code:\n",
        "\n",
        "1. Importing Libraries:\n",
        "   - The code begins by importing the necessary libraries: `datasets` from scikit-learn to load the Iris dataset, `DecisionTreeClassifier` from scikit-learn's `tree` module for decision tree classification, and `KFold` and `cross_val_score` from scikit-learn's `model_selection` module for cross-validation.\n",
        "\n",
        "2. Loading the Data:\n",
        "   - The line `X, y = datasets.load_iris(return_X_y=True)` loads the Iris dataset into the variables `X` (input features) and `y` (target labels) using the `load_iris` function. The `return_X_y=True` argument specifies that both `X` and `y` should be returned as separate arrays.\n",
        "\n",
        "3. Creating the Decision Tree Classifier:\n",
        "   - The line `clf = DecisionTreeClassifier(random_state=42)` creates an instance of the `DecisionTreeClassifier` class with a random state of 42. This sets up the decision tree classifier for use in cross-validation.\n",
        "\n",
        "4. Setting up K-Fold Cross-Validation:\n",
        "   - The line `k_folds = KFold(n_splits=5)` creates an instance of the `KFold` class for 5-fold cross-validation. This defines the number of folds (`n_splits`) for splitting the data.\n",
        "\n",
        "5. Performing Cross-Validation and Calculating Scores:\n",
        "   - The line `scores = cross_val_score(clf, X, y, cv=k_folds)` calculates the cross-validation scores for the decision tree classifier (`clf`) using the input features (`X`) and target labels (`y`) with the specified K-Fold cross-validation (`cv=k_folds`).\n",
        "   - The `cross_val_score` function performs the cross-validation by splitting the data into folds, fitting the classifier on each training fold, and evaluating it on the corresponding test fold. It returns an array of scores.\n",
        "\n",
        "6. Printing Cross-Validation Results:\n",
        "   - The line `print(\"Cross Validation Scores: \", scores)` outputs the array of cross-validation scores.\n",
        "   - The line `print(\"Average CV Score: \", scores.mean())` calculates and prints the average of the cross-validation scores using the `mean()` method.\n",
        "   - The line `print(\"Number of CV Scores used in Average: \", len(scores))` prints the number of cross-validation scores used in the average calculation.\n",
        "\n",
        "The output of this code will be the cross-validation scores, the average cross-validation score, and the number of cross-validation scores used in the average. These results provide an estimation of the model's performance across multiple folds and can help assess its generalization ability."
      ],
      "metadata": {
        "id": "pzJ0tfHuDOkz"
      }
    },
    {
      "cell_type": "markdown",
      "source": [
        "# **Stratified K-Fold**\n",
        "\n",
        "\n",
        "In cases where classes are imbalanced we need a way to account for the imbalance in both the train and validation sets. To do so we can stratify the target classes, meaning that both sets will have an equal proportion of all classes."
      ],
      "metadata": {
        "id": "py2oiHLeDgx3"
      }
    },
    {
      "cell_type": "code",
      "source": [
        "from sklearn import datasets\n",
        "from sklearn.tree import DecisionTreeClassifier\n",
        "from sklearn.model_selection import StratifiedKFold, cross_val_score\n",
        "\n",
        "X, y = datasets.load_iris(return_X_y=True)\n",
        "\n",
        "clf = DecisionTreeClassifier(random_state=42)\n",
        "\n",
        "sk_folds = StratifiedKFold(n_splits = 5)\n",
        "\n",
        "scores = cross_val_score(clf, X, y, cv = sk_folds)\n",
        "\n",
        "print(\"Cross Validation Scores: \", scores)\n",
        "print(\"Average CV Score: \", scores.mean())\n",
        "print(\"Number of CV Scores used in Average: \", len(scores))"
      ],
      "metadata": {
        "id": "FHjjcZvCDb_Y"
      },
      "execution_count": null,
      "outputs": []
    },
    {
      "cell_type": "markdown",
      "source": [
        "\n",
        "\n",
        "StratifiedKFold: StratifiedKFold is a cross-validation technique that is particularly useful when dealing with imbalanced datasets or when the class distribution is important. It ensures that each fold of the cross-validation maintains the same proportion of class labels as the original dataset.\n",
        "\n",
        "n_splits=5: This parameter specifies the number of folds to create during cross-validation. In this case, n_splits=5 indicates that the dataset will be divided into 5 folds."
      ],
      "metadata": {
        "id": "WKTiCH-TEFoV"
      }
    },
    {
      "cell_type": "markdown",
      "source": [
        "# **Leave-One-Out (LOO)**\n",
        "\n",
        "\n",
        "Instead of selecting the number of splits in the training data set like k-fold LeaveOneOut, utilize 1 observation to validate and n-1 observations to train. This method is an exaustive technique.\n",
        "\n"
      ],
      "metadata": {
        "id": "S-cCNZi7EuGH"
      }
    },
    {
      "cell_type": "code",
      "source": [
        "from sklearn import datasets\n",
        "from sklearn.tree import DecisionTreeClassifier\n",
        "from sklearn.model_selection import LeaveOneOut, cross_val_score\n",
        "\n",
        "X, y = datasets.load_iris(return_X_y=True)\n",
        "\n",
        "clf = DecisionTreeClassifier(random_state=42)\n",
        "\n",
        "loo = LeaveOneOut()\n",
        "\n",
        "scores = cross_val_score(clf, X, y, cv = loo)\n",
        "\n",
        "print(\"Cross Validation Scores: \", scores)\n",
        "print(\"Average CV Score: \", scores.mean())\n",
        "print(\"Number of CV Scores used in Average: \", len(scores))"
      ],
      "metadata": {
        "id": "t_uMKbIPDnue"
      },
      "execution_count": null,
      "outputs": []
    },
    {
      "cell_type": "markdown",
      "source": [
        "The code you provided performs cross-validation using Leave-One-Out (LOO) on the Iris dataset with a Decision Tree Classifier. It calculates and prints the cross-validation scores, the average cross-validation score, and the number of cross-validation scores used in the average. Here's a breakdown of the code:\n",
        "\n",
        "\n",
        "3. Creating the Decision Tree Classifier:\n",
        "   - The line `clf = DecisionTreeClassifier(random_state=42)` creates an instance of the `DecisionTreeClassifier` class with a random state of 42. This sets up the decision tree classifier for use in cross-validation.\n",
        "\n",
        "4. Setting up Leave-One-Out Cross-Validation:\n",
        "   - The line `loo = LeaveOneOut()` creates an instance of the `LeaveOneOut` class for leave-one-out cross-validation. This strategy creates a fold for each sample in the dataset, leaving out one sample for testing and using the rest for training.\n",
        "\n",
        "5. Performing Cross-Validation and Calculating Scores:\n",
        "   - The line `scores = cross_val_score(clf, X, y, cv=loo)` calculates the cross-validation scores for the decision tree classifier (`clf`) using the input features (`X`) and target labels (`y`) with the specified Leave-One-Out cross-validation (`cv=loo`).\n",
        "   - The `cross_val_score` function performs the cross-validation by splitting the data into folds, fitting the classifier on each training fold, and evaluating it on the corresponding test fold. It returns an array of scores.\n",
        "\n",
        "6. Printing Cross-Validation Results:\n",
        "   - The line `print(\"Cross Validation Scores: \", scores)` outputs the array of cross-validation scores.\n",
        "   - The line `print(\"Average CV Score: \", scores.mean())` calculates and prints the average of the cross-validation scores using the `mean()` method.\n",
        "   - The line `print(\"Number of CV Scores used in Average: \", len(scores))` prints the number of cross-validation scores used in the average calculation.\n",
        "\n",
        "The output of this code will be the cross-validation scores, the average cross-validation score, and the number of cross-validation scores used in the average. Leave-One-Out cross-validation provides an evaluation of the model's performance by training and testing on all possible combinations of leaving one sample out. It can be useful when working with limited data or when each sample is critical for evaluation."
      ],
      "metadata": {
        "id": "RIYuJI62FA57"
      }
    },
    {
      "cell_type": "markdown",
      "source": [
        "# **Leave-P-Out (LPO)**\n",
        "\n",
        "\n",
        "Leave-P-Out is simply a nuanced diffence to the Leave-One-Out idea, in that we can select the number of p to use in our validation set."
      ],
      "metadata": {
        "id": "cwfRWRHyFTpD"
      }
    },
    {
      "cell_type": "code",
      "source": [
        "from sklearn import datasets\n",
        "from sklearn.tree import DecisionTreeClassifier\n",
        "from sklearn.model_selection import LeavePOut, cross_val_score\n",
        "\n",
        "X, y = datasets.load_iris(return_X_y=True)\n",
        "\n",
        "clf = DecisionTreeClassifier(random_state=42)\n",
        "\n",
        "lpo = LeavePOut(p=2)\n",
        "\n",
        "scores = cross_val_score(clf, X, y, cv = lpo)\n",
        "\n",
        "print(\"Cross Validation Scores: \", scores)\n",
        "print(\"Average CV Score: \", scores.mean())\n",
        "print(\"Number of CV Scores used in Average: \", len(scores))"
      ],
      "metadata": {
        "id": "g_gxbcJwFCYn"
      },
      "execution_count": null,
      "outputs": []
    },
    {
      "cell_type": "markdown",
      "source": [
        "The code you provided performs cross-validation using Leave-P-Out (LPO) on the Iris dataset with a Decision Tree Classifier. It calculates and prints the cross-validation scores, the average cross-validation score, and the number of cross-validation scores used in the average. Here's a breakdown of the code:\n",
        "\n",
        "\n",
        "3. Creating the Decision Tree Classifier:\n",
        "   - The line `clf = DecisionTreeClassifier(random_state=42)` creates an instance of the `DecisionTreeClassifier` class with a random state of 42. This sets up the decision tree classifier for use in cross-validation.\n",
        "\n",
        "4. Setting up Leave-P-Out Cross-Validation:\n",
        "   - The line `lpo = LeavePOut(p=2)` creates an instance of the `LeavePOut` class for leave-p-out cross-validation. This strategy creates a fold by leaving out `p` samples for testing and using the rest for training. In this case, `p=2`, so each fold will leave out 2 samples.\n",
        "\n",
        "5. Performing Cross-Validation and Calculating Scores:\n",
        "   - The line `scores = cross_val_score(clf, X, y, cv=lpo)` calculates the cross-validation scores for the decision tree classifier (`clf`) using the input features (`X`) and target labels (`y`) with the specified Leave-P-Out cross-validation (`cv=lpo`).\n",
        "   - The `cross_val_score` function performs the cross-validation by splitting the data into folds, fitting the classifier on each training fold, and evaluating it on the corresponding test fold. It returns an array of scores.\n",
        "\n",
        "6. Printing Cross-Validation Results:\n",
        "   - The line `print(\"Cross Validation Scores: \", scores)` outputs the array of cross-validation scores.\n",
        "   - The line `print(\"Average CV Score: \", scores.mean())` calculates and prints the average of the cross-validation scores using the `mean()` method.\n",
        "   - The line `print(\"Number of CV Scores used in Average: \", len(scores))` prints the number of cross-validation scores used in the average calculation.\n",
        "\n",
        "The output of this code will be the cross-validation scores, the average cross-validation score, and the number of cross-validation scores used in the average. Leave-P-Out cross-validation provides an evaluation of the model's performance by training and testing on all possible combinations of leaving `p` samples out. It can be useful for evaluating the model's robustness and performance on smaller subsets of the data."
      ],
      "metadata": {
        "id": "QIvS98QxFvw9"
      }
    },
    {
      "cell_type": "markdown",
      "source": [
        "# **Shuffle Split :-**\n",
        "\n",
        "\n",
        "Unlike KFold, ShuffleSplit leaves out a percentage of the data, not to be used in the train or validation sets. To do so we must decide what the train and test sizes are, as well as the number of splits."
      ],
      "metadata": {
        "id": "4w2RJvL2F3dc"
      }
    },
    {
      "cell_type": "code",
      "source": [
        "from sklearn import datasets\n",
        "from sklearn.tree import DecisionTreeClassifier\n",
        "from sklearn.model_selection import ShuffleSplit, cross_val_score\n",
        "\n",
        "X, y = datasets.load_iris(return_X_y=True)\n",
        "\n",
        "clf = DecisionTreeClassifier(random_state=42)\n",
        "\n",
        "ss = ShuffleSplit(train_size=0.6, test_size=0.3, n_splits = 5)\n",
        "\n",
        "scores = cross_val_score(clf, X, y, cv = ss)\n",
        "\n",
        "print(\"Cross Validation Scores: \", scores)\n",
        "print(\"Average CV Score: \", scores.mean())\n",
        "print(\"Number of CV Scores used in Average: \", len(scores))"
      ],
      "metadata": {
        "id": "nNHw2UpsGANV"
      },
      "execution_count": null,
      "outputs": []
    },
    {
      "cell_type": "markdown",
      "source": [
        "The code you provided performs cross-validation using ShuffleSplit on the Iris dataset with a Decision Tree Classifier. It calculates and prints the cross-validation scores, the average cross-validation score, and the number of cross-validation scores used in the average. Here's a breakdown of the code:\n",
        "\n",
        "--------------------------------------------------------------------------\n",
        "\n",
        "\n",
        "3. Creating the Decision Tree Classifier:\n",
        "   - The line `clf = DecisionTreeClassifier(random_state=42)` creates an instance of the `DecisionTreeClassifier` class with a random state of 42. This sets up the decision tree classifier for use in cross-validation.\n",
        "\n",
        "4. Setting up ShuffleSplit Cross-Validation:\n",
        "   - The line `ss = ShuffleSplit(train_size=0.6, test_size=0.3, n_splits=5)` creates an instance of the `ShuffleSplit` class for shuffle-based cross-validation. This strategy randomly shuffles the data and creates multiple random train-test splits.\n",
        "   - The `train_size=0.6` argument specifies that 60% of the data will be used for training.\n",
        "   - The `test_size=0.3` argument specifies that 30% of the data will be used for testing.\n",
        "   - The `n_splits=5` argument specifies the number of random train-test splits to create.\n",
        "\n",
        "5. Performing Cross-Validation and Calculating Scores:\n",
        "   - The line `scores = cross_val_score(clf, X, y, cv=ss)` calculates the cross-validation scores for the decision tree classifier (`clf`) using the input features (`X`) and target labels (`y`) with the specified ShuffleSplit cross-validation (`cv=ss`).\n",
        "   - The `cross_val_score` function performs the cross-validation by generating random train-test splits and evaluating the classifier on each split. It returns an array of scores.\n",
        "\n",
        "6. Printing Cross-Validation Results:\n",
        "   - The line `print(\"Cross Validation Scores: \", scores)` outputs the array of cross-validation scores.\n",
        "   - The line `print(\"Average CV Score: \", scores.mean())` calculates and prints the average of the cross-validation scores using the `mean()` method.\n",
        "   - The line `print(\"Number of CV Scores used in Average: \", len(scores))` prints the number of cross-validation scores used in the average calculation.\n",
        "\n",
        "The output of this code will be the cross-validation scores, the average cross-validation score, and the number of cross-validation scores used in the average. ShuffleSplit cross-validation generates random train-test splits, which can be useful when you need more control over the data splitting process or want to evaluate the model's performance on different random subsets of the data."
      ],
      "metadata": {
        "id": "coX_I079GV-E"
      }
    },
    {
      "cell_type": "markdown",
      "source": [
        "# **AUC - ROC Curve**\n",
        "\n",
        "-----------------------------------------------------------------------\n",
        "In classification, there are many different evaluation metrics. The most popular is accuracy, which measures how often the model is correct. This is a great metric because it is easy to understand and getting the most correct guesses is often desired. There are some cases where you might consider using another evaluation metric.\n",
        "\n",
        "Another common metric is AUC, area under the receiver operating characteristic (ROC) curve. The Reciever operating characteristic curve plots the true positive (TP) rate versus the false positive (FP) rate at different classification thresholds. The thresholds are different probability cutoffs that separate the two classes in binary classification. It uses probability to tell us how well a model separates the classes"
      ],
      "metadata": {
        "id": "eKwS1XhUHQiF"
      }
    },
    {
      "cell_type": "code",
      "source": [
        "import numpy as np\n",
        "from sklearn.metrics import accuracy_score, confusion_matrix, roc_auc_score, roc_curve\n",
        "\n",
        "n = 10000\n",
        "ratio = .95\n",
        "n_0 = int((1-ratio) * n)\n",
        "n_1 = int(ratio * n)\n",
        "\n",
        "y = np.array([0] * n_0 + [1] * n_1)\n",
        "# below are the probabilities obtained from a hypothetical model that always predicts the majority class\n",
        "# probability of predicting class 1 is going to be 100%\n",
        "y_proba = np.array([1]*n)\n",
        "y_pred = y_proba > .5\n",
        "\n",
        "print(f'accuracy score: {accuracy_score(y, y_pred)}')\n",
        "cf_mat = confusion_matrix(y, y_pred)\n",
        "print('Confusion matrix')\n",
        "print(cf_mat)\n",
        "print(f'class 0 accuracy: {cf_mat[0][0]/n_0}')\n",
        "print(f'class 1 accuracy: {cf_mat[1][1]/n_1}')\n",
        "\n",
        "\n",
        "\n",
        "\n",
        "result:-\n",
        "\n",
        "accuracy score: 0.95\n",
        "Confusion matrix\n",
        "[[   0  500]\n",
        " [   0 9500]]\n",
        "class 0 accuracy: 0.0\n",
        "class 1 accuracy: 1.0\n"
      ],
      "metadata": {
        "id": "mONCW68aGVY3"
      },
      "execution_count": null,
      "outputs": []
    },
    {
      "cell_type": "markdown",
      "source": [
        "The code you provided demonstrates the calculation of various evaluation metrics for a binary classification problem. Here's a breakdown of the code and the concept behind each metric:\n",
        "\n",
        "1. Importing Libraries:\n",
        "   - The code imports the necessary libraries: `numpy` for numerical computations and `accuracy_score`, `confusion_matrix`, `roc_auc_score`, and `roc_curve` from `sklearn.metrics` for evaluation metrics.\n",
        "\n",
        "2. Generating Synthetic Data:\n",
        "   - The code generates synthetic binary classification data with a specified ratio of class 0 and class 1.\n",
        "   - The variable `n` represents the total number of samples.\n",
        "   - The variable `ratio` represents the desired ratio of class 1 samples in the dataset.\n",
        "   - The variables `n_0` and `n_1` calculate the number of samples for each class based on the given ratio.\n",
        "   - The array `y` is created by concatenating `n_0` instances of class 0 and `n_1` instances of class 1.\n",
        "   - The array `y_proba` represents the predicted probabilities obtained from a hypothetical model that always predicts the majority class (class 1) with a probability of 1.\n",
        "   - The array `y_pred` is created by comparing the predicted probabilities (`y_proba`) with a threshold of 0.5.\n",
        "\n",
        "3. Calculating Evaluation Metrics:\n",
        "   - The line `accuracy_score(y, y_pred)` calculates the accuracy score by comparing the true labels (`y`) with the predicted labels (`y_pred`).\n",
        "   - The line `confusion_matrix(y, y_pred)` computes the confusion matrix, which is a 2x2 matrix showing the counts of true positives, true negatives, false positives, and false negatives.\n",
        "   - The lines following the `print('Confusion matrix')` statement print the confusion matrix.\n",
        "   - The line `cf_mat[0][0]/n_0` calculates the accuracy for class 0 (the minority class) by dividing the true negative count by the number of class 0 samples (`n_0`).\n",
        "   - The line `cf_mat[1][1]/n_1` calculates the accuracy for class 1 (the majority class) by dividing the true positive count by the number of class 1 samples (`n_1`).\n",
        "\n",
        "4. Printing the Results:\n",
        "   - The code prints the accuracy score, the confusion matrix, and the accuracy for each class.\n",
        "\n",
        "The output of this code will include the accuracy score, the confusion matrix, and the class-wise accuracies. In this case, since the model always predicts the majority class (class 1), the accuracy will be high, but the accuracy for class 0 (the minority class) will be relatively low compared to the accuracy for class 1. This demonstrates the limitations of using accuracy as a metric when dealing with imbalanced datasets, where the majority class dominates the predictions."
      ],
      "metadata": {
        "id": "Y0DOg9_yHjnE"
      }
    },
    {
      "cell_type": "code",
      "source": [
        "# below are the probabilities obtained from a hypothetical model that doesn't always predict the mode\n",
        "y_proba_2 = np.array(\n",
        "    np.random.uniform(0, .7, n_0).tolist() +\n",
        "    np.random.uniform(.3, 1, n_1).tolist()\n",
        ")\n",
        "y_pred_2 = y_proba_2 > .5\n",
        "\n",
        "print(f'accuracy score: {accuracy_score(y, y_pred_2)}')\n",
        "cf_mat = confusion_matrix(y, y_pred_2)\n",
        "print('Confusion matrix')\n",
        "print(cf_mat)\n",
        "print(f'class 0 accuracy: {cf_mat[0][0]/n_0}')\n",
        "print(f'class 1 accuracy: {cf_mat[1][1]/n_1}')"
      ],
      "metadata": {
        "id": "A8G1aov3H-sF"
      },
      "execution_count": null,
      "outputs": []
    },
    {
      "cell_type": "markdown",
      "source": [
        "In this updated code snippet, probabilities obtained from a hypothetical model that doesn't always predict the majority class are used. The evaluation metrics are then calculated and printed. Let's break it down in a simple way:\n",
        "\n",
        "1. Generating Synthetic Data:\n",
        "   - The code still generates synthetic binary classification data with a specified ratio of class 0 and class 1, as explained before.\n",
        "\n",
        "2. Generating Predicted Probabilities and Labels:\n",
        "   - The array `y_proba_2` represents the predicted probabilities obtained from a hypothetical model that assigns probabilities randomly within specific ranges for each class. In this case, class 0 probabilities are generated uniformly between 0 and 0.7, and class 1 probabilities between 0.3 and 1.\n",
        "   - The array `y_pred_2` is created by comparing the predicted probabilities (`y_proba_2`) with a threshold of 0.5 to obtain the predicted labels.\n",
        "\n",
        "3. Calculating Evaluation Metrics:\n",
        "   - The line `accuracy_score(y, y_pred_2)` calculates the accuracy score by comparing the true labels (`y`) with the predicted labels (`y_pred_2`).\n",
        "   - The line `confusion_matrix(y, y_pred_2)` computes the confusion matrix, which shows the counts of true positives, true negatives, false positives, and false negatives.\n",
        "   - The lines following the `print('Confusion matrix')` statement print the confusion matrix.\n",
        "   - The line `cf_mat[0][0]/n_0` calculates the accuracy for class 0 (the minority class) by dividing the true negative count by the number of class 0 samples (`n_0`).\n",
        "   - The line `cf_mat[1][1]/n_1` calculates the accuracy for class 1 (the majority class) by dividing the true positive count by the number of class 1 samples (`n_1`).\n",
        "\n",
        "4. Printing the Results:\n",
        "   - The code prints the accuracy score, the confusion matrix, and the accuracy for each class.\n",
        "\n",
        "The purpose of this code is to demonstrate the evaluation of a binary classification model's performance using key metrics such as accuracy and the confusion matrix. By generating synthetic data and predicted probabilities, the code simulates a scenario where the model's predictions deviate from always predicting the majority class. This allows for a comparison of the evaluation metrics in cases where the predictions are not perfectly aligned with the majority class. Understanding and evaluating these metrics is important for assessing the model's performance and determining its effectiveness in real-world scenarios."
      ],
      "metadata": {
        "id": "kQ-nBxBbJoTX"
      }
    },
    {
      "cell_type": "code",
      "source": [
        "import matplotlib.pyplot as plt\n",
        "\n",
        "def plot_roc_curve(true_y, y_prob):\n",
        "    \"\"\"\n",
        "    plots the roc curve based of the probabilities\n",
        "    \"\"\"\n",
        "\n",
        "    fpr, tpr, thresholds = roc_curve(true_y, y_prob)\n",
        "    plt.plot(fpr, tpr)\n",
        "    plt.xlabel('False Positive Rate')\n",
        "    plt.ylabel('True Positive Rate')\n",
        "\n",
        "\n",
        "\n",
        "Example\n",
        "\n",
        "Model 2:\n",
        "\n",
        "plot_roc_curve(y, y_proba_2)\n",
        "print(f'model 2 AUC score: {roc_auc_score(y, y_proba_2)}')\n",
        "\n"
      ],
      "metadata": {
        "id": "2O_5WSRvJsek"
      },
      "execution_count": null,
      "outputs": []
    },
    {
      "cell_type": "markdown",
      "source": [
        "![image.png](data:image/png;base64,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)"
      ],
      "metadata": {
        "id": "g1ViuFMEKM_M"
      }
    },
    {
      "cell_type": "markdown",
      "source": [
        "# **Probabilities:**\n",
        "\n",
        "\n",
        "Because AUC is a metric that utilizes probabilities of the class predictions, we can be more confident in a model that has a higher AUC score than one with a lower score even if they have similar accuracies.\n",
        "\n",
        "In the data below, we have two sets of probabilites from hypothetical models. The first has probabilities that are not as \"confident\" when predicting the two classes (the probabilities are close to .5). The second has probabilities that are more \"confident\" when predicting the two classes (the probabilities are close to the extremes of 0 or 1)."
      ],
      "metadata": {
        "id": "t7J4If-LKZmg"
      }
    },
    {
      "cell_type": "code",
      "source": [
        "import numpy as np\n",
        "\n",
        "n = 10000\n",
        "y = np.array([0] * n + [1] * n)\n",
        "#\n",
        "y_prob_1 = np.array(\n",
        "    np.random.uniform(.25, .5, n//2).tolist() +\n",
        "    np.random.uniform(.3, .7, n).tolist() +\n",
        "    np.random.uniform(.5, .75, n//2).tolist()\n",
        ")\n",
        "y_prob_2 = np.array(\n",
        "    np.random.uniform(0, .4, n//2).tolist() +\n",
        "    np.random.uniform(.3, .7, n).tolist() +\n",
        "    np.random.uniform(.6, 1, n//2).tolist()\n",
        ")\n",
        "\n",
        "print(f'model 1 accuracy score: {accuracy_score(y, y_prob_1>.5)}')\n",
        "print(f'model 2 accuracy score: {accuracy_score(y, y_prob_2>.5)}')\n",
        "\n",
        "print(f'model 1 AUC score: {roc_auc_score(y, y_prob_1)}')\n",
        "print(f'model 2 AUC score: {roc_auc_score(y, y_prob_2)}')\n",
        "\n",
        "\n",
        "\n",
        "Result :\n",
        "\n",
        "model 1 accuracy score: 0.7479\n",
        "model 2 accuracy score: 0.7487\n",
        "model 1 AUC score: 0.7755286400000001\n",
        "model 2 AUC score: 0.85685944"
      ],
      "metadata": {
        "id": "21ahSD1sNwlJ"
      },
      "execution_count": null,
      "outputs": []
    },
    {
      "cell_type": "markdown",
      "source": [
        "In this code snippet, two models are evaluated using accuracy score and AUC score. Let's break it down:\n",
        "\n",
        "1. Generating Synthetic Data:\n",
        "   - The array `y` is created by concatenating `n` instances of class 0 and `n` instances of class 1. This represents a binary classification problem.\n",
        "\n",
        "2. Generating Predicted Probabilities for Two Models:\n",
        "   - `y_prob_1` represents the predicted probabilities for the first model. It is generated by combining three sets of random values:\n",
        "      - The first half of `n` samples has probabilities uniformly distributed between 0.25 and 0.5.\n",
        "      - The second half of `n` samples has probabilities uniformly distributed between 0.3 and 0.7.\n",
        "      - Another set of `n` samples has probabilities uniformly distributed between 0.5 and 0.75.\n",
        "   - `y_prob_2` represents the predicted probabilities for the second model. It is generated by combining three sets of random values:\n",
        "      - The first half of `n` samples has probabilities uniformly distributed between 0 and 0.4.\n",
        "      - The second half of `n` samples has probabilities uniformly distributed between 0.3 and 0.7.\n",
        "      - Another set of `n` samples has probabilities uniformly distributed between 0.6 and 1.\n",
        "\n",
        "3. Calculating Evaluation Metrics:\n",
        "   - The line `accuracy_score(y, y_prob_1>.5)` calculates the accuracy score for the first model by comparing the true labels (`y`) with the predicted labels (`y_prob_1 > .5`).\n",
        "   - The line `accuracy_score(y, y_prob_2>.5)` calculates the accuracy score for the second model by comparing the true labels (`y`) with the predicted labels (`y_prob_2 > .5`).\n",
        "   - The line `roc_auc_score(y, y_prob_1)` calculates the AUC score for the first model by comparing the true labels (`y`) with the predicted probabilities (`y_prob_1`).\n",
        "   - The line `roc_auc_score(y, y_prob_2)` calculates the AUC score for the second model by comparing the true labels (`y`) with the predicted probabilities (`y_prob_2`).\n",
        "\n",
        "4. Printing the Results:\n",
        "   - The code prints the accuracy scores for both models, indicating how well they classified the data.\n",
        "   - It also prints the AUC scores for both models, which provide an assessment of the models' ability to rank the samples correctly based on their probabilities.\n",
        "\n",
        "The purpose of this code is to compare the performance of two models using different evaluation metrics. Accuracy score measures the overall correctness of the predictions, while AUC score evaluates the models' ability to rank the samples correctly. By generating synthetic data and predicted probabilities, this code snippet allows for a comparison of the performance of two models in terms of these metrics."
      ],
      "metadata": {
        "id": "13mIrHTuOqo8"
      }
    },
    {
      "cell_type": "markdown",
      "source": [
        "# K-nearest neighbors (KNN)"
      ],
      "metadata": {
        "id": "rhoyIwxbOuRy"
      }
    },
    {
      "cell_type": "code",
      "source": [
        "from sklearn.neighbors import KNeighborsClassifier\n",
        "\n",
        "data = list(zip(x, y))\n",
        "knn = KNeighborsClassifier(n_neighbors=1)\n",
        "\n",
        "knn.fit(data, classes)new_x = 8\n",
        "new_y = 21\n",
        "new_point = [(new_x, new_y)]\n",
        "\n",
        "prediction = knn.predict(new_point)\n",
        "\n",
        "plt.scatter(x + [new_x], y + [new_y], c=classes + [prediction[0]])\n",
        "plt.text(x=new_x-1.7, y=new_y-0.7, s=f\"new point, class: {prediction[0]}\")\n",
        "plt.show()"
      ],
      "metadata": {
        "id": "b0doqICnPW5P"
      },
      "execution_count": null,
      "outputs": []
    },
    {
      "cell_type": "markdown",
      "source": [
        "In the provided code snippet, a K-Nearest Neighbors (KNN) classifier is used to predict the class label of a new point. Let's break down the code:\n",
        "\n",
        "1. Importing Libraries:\n",
        "   - The code begins by importing the necessary libraries: `KNeighborsClassifier` from scikit-learn's `neighbors` module for the KNN classifier.\n",
        "\n",
        "2. Data Preparation:\n",
        "   - The `data` variable represents a list of coordinate pairs (`x` and `y`) obtained from the previous code snippet.\n",
        "   - The `knn` variable creates an instance of the KNeighborsClassifier class with `n_neighbors=1`, indicating that the model will consider the closest neighbor for classification.\n",
        "\n",
        "3. Model Training:\n",
        "   - The line `knn.fit(data, classes)` trains the KNN classifier using the data (`data`) and corresponding class labels (`classes`).\n",
        "\n",
        "4. Prediction for New Point:\n",
        "   - The `new_x` and `new_y` variables represent the coordinates of the new point.\n",
        "   - The `new_point` list is created to hold the coordinates of the new point as a single element.\n",
        "\n",
        "5. Performing Prediction:\n",
        "   - The line `prediction = knn.predict(new_point)` predicts the class label for the new point using the trained KNN classifier.\n",
        "\n",
        "6. Visualization:\n",
        "   - The code uses `plt.scatter` to create a scatter plot of the existing data points (`x` and `y`) and colors them according to their class labels (`classes`).\n",
        "   - The `plt.scatter` function is also used to plot the new point (`new_x` and `new_y`), coloring it according to its predicted class label (`prediction[0]`).\n",
        "   - The `plt.text` function is used to display the class label of the new point on the plot.\n",
        "   - Finally, `plt.show()` is called to display the scatter plot.\n",
        "\n",
        "The purpose of this code is to demonstrate the prediction of the class label for a new point using the trained KNN classifier. By visualizing the existing data points and the newly predicted point, it provides an illustration of the KNN algorithm's behavior in classifying new, unseen instances based on their proximity to existing data points."
      ],
      "metadata": {
        "id": "4r5GmVtUPtCq"
      }
    },
    {
      "cell_type": "markdown",
      "source": [
        "![image.png](data:image/png;base64,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)"
      ],
      "metadata": {
        "id": "4sTMTyxNQTsY"
      }
    },
    {
      "cell_type": "code",
      "source": [],
      "metadata": {
        "id": "J9xJbFgnPuao"
      },
      "execution_count": null,
      "outputs": []
    }
  ]
}